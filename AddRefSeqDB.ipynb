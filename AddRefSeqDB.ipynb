{
 "cells": [
  {
   "cell_type": "markdown",
   "metadata": {},
   "source": [
    "## Add RefSeq as Genus Databases"
   ]
  },
  {
   "cell_type": "markdown",
   "metadata": {},
   "source": [
    "```shell\n",
    "% prokka-genbank_to_fasta_db Coccus1.gbk Coccus2.gbk Coccus3.gbk Coccus4.gbk > Coccus.faa\n",
    "% cd-hit -i Coccus.faa -o Coccus -T 0 -M 0 -g 1 -s 0.8 -c 0.9\n",
    "% rm -fv Coccus.faa Coccus.bak.clstr Coccus.clstr #why it needs rm?\n",
    "% makeblastdb -dbtype prot -in Coccus\n",
    "% mv Coccus.p* /path/to/prokka/db/genus/\n",
    "```"
   ]
  },
  {
   "cell_type": "code",
   "execution_count": null,
   "metadata": {},
   "outputs": [],
   "source": [
    "prokka-genbank_to_fasta_db /home/junyuchen/Lab/Phage-SOP/Database/RefSeq/viral.genomic.gbk > viral.faa"
   ]
  },
  {
   "cell_type": "code",
   "execution_count": 2,
   "metadata": {},
   "outputs": [
    {
     "name": "stdout",
     "output_type": "stream",
     "text": [
      "160131\n"
     ]
    }
   ],
   "source": [
    "grep \">\" /home/junyuchen/Lab/Phage-SOP/Database/RefSeq/viral.faa | wc -l"
   ]
  },
  {
   "cell_type": "code",
   "execution_count": null,
   "metadata": {},
   "outputs": [],
   "source": [
    "conda install -c bioconda cd-hit"
   ]
  },
  {
   "cell_type": "code",
   "execution_count": null,
   "metadata": {},
   "outputs": [],
   "source": [
    "cd-hit -i viral.faa -o viral -T 0 -M 0 -g 1 -s 0.8 -c 0.9"
   ]
  },
  {
   "cell_type": "code",
   "execution_count": 3,
   "metadata": {},
   "outputs": [
    {
     "name": "stdout",
     "output_type": "stream",
     "text": [
      "104447\n"
     ]
    }
   ],
   "source": [
    "grep \">\" /home/junyuchen/Lab/Phage-SOP/Database/RefSeq/viral | wc -l"
   ]
  },
  {
   "cell_type": "code",
   "execution_count": null,
   "metadata": {},
   "outputs": [],
   "source": [
    "makeblastdb -dbtype prot -in viral"
   ]
  },
  {
   "cell_type": "code",
   "execution_count": 4,
   "metadata": {},
   "outputs": [],
   "source": [
    "cp /home/junyuchen/Lab/Phage-SOP/Database/RefSeq/viral-genus-db/viral.p* /home/junyuchen/Biosoft/anaconda3/envs/phage/db/genus/"
   ]
  },
  {
   "cell_type": "code",
   "execution_count": 5,
   "metadata": {},
   "outputs": [
    {
     "name": "stdout",
     "output_type": "stream",
     "text": [
      "(phage) "
     ]
    },
    {
     "ename": "",
     "evalue": "1",
     "output_type": "error",
     "traceback": []
    }
   ],
   "source": [
    "conda activate phage"
   ]
  },
  {
   "cell_type": "code",
   "execution_count": 6,
   "metadata": {},
   "outputs": [
    {
     "name": "stdout",
     "output_type": "stream",
     "text": [
      "[09:33:53] Looking for databases in: /home/junyuchen/Biosoft/anaconda3/envs/phage/db\n",
      "[09:33:53] * Kingdoms: Archaea Bacteria Mitochondria Viruses\n",
      "[09:33:53] * Genera: Enterococcus Escherichia Staphylococcus viral\n",
      "[09:33:53] * HMMs: HAMAP VOGs\n",
      "[09:33:53] * CMs: Archaea Bacteria Viruses\n",
      "(phage) "
     ]
    },
    {
     "ename": "",
     "evalue": "1",
     "output_type": "error",
     "traceback": []
    }
   ],
   "source": [
    "prokka --listdb"
   ]
  },
  {
   "cell_type": "code",
   "execution_count": null,
   "metadata": {},
   "outputs": [],
   "source": [
    "--genus viral"
   ]
  },
  {
   "cell_type": "markdown",
   "metadata": {},
   "source": [
    "```shell\n",
    "prokka --kingdom Viruses --genus viral --addgenes --prefix NODE_1_length_62294_cov_7285.933884 --hmms /home/junyuchen/Lab/Phage-SOP/Database/VOGDB/VOGDB_m.hmm --outdir /home/junyuchen/Lab/Phage-SOP/Out-test/BT_FDSW202399939-1r/NODE_1_length_62294_cov_7285.933884-genus-hmm --force /home/junyuchen/Lab/Phage-SOP/Out-test/BT_FDSW202399939-1r/NODE_1_length_62294_cov_7285.933884/NODE_1_length_62294_cov_7285.933884.fasta\n",
    "```"
   ]
  },
  {
   "cell_type": "code",
   "execution_count": null,
   "metadata": {},
   "outputs": [],
   "source": []
  },
  {
   "cell_type": "markdown",
   "metadata": {},
   "source": [
    "### Why I don't use nr database"
   ]
  },
  {
   "cell_type": "markdown",
   "metadata": {},
   "source": [
    "Nr database encompasses sequences from both, **non-curated** and **curated** databases:\n",
    "\n",
    "**Non-curated databases (low quality):**\n",
    "\n",
    "* [GenBank/GenPept](http://www.ncbi.nlm.nih.gov/genbank/) - unreviewed sequences submitted from individual laboratories and large-scale sequencing projects. Since these sequence records are owned by the original submitters and can not be altered, GenBank might contain many low quality sequences.\n",
    "* [trEMBL](http://www.uniprot.org/uniprot/) - unreviewed section of UniProt. This section contains a computer-annotated supplement of SwissProt that contains all the translations of EMBL nucleotide sequence entries not yet integrated in SwissProt\n",
    "\n",
    "**Curated databases (high quality):**\n",
    "\n",
    "1.  [RefSeq](http://www.ncbi.nlm.nih.gov/refseq/) - GenBank sequences that are manually curated by the NCBI staff. RefSeq records are owned by NCBI and can be updated as needed to maintain current annotation or to incorporate additional information.\n",
    "2.  [SwissProt](http://www.uniprot.org/) - manually annotated and reviewed protein sequences\n",
    "3.  [PIR](http://pir.georgetown.edu/) -  non-redundant annotated protein sequence database\n",
    "4.  [PDB](http://www.rcsb.org/pdb/home/home.do) - experimentally-determined structures of proteins, nucleic acids, and complex assemblies"
   ]
  },
  {
   "cell_type": "markdown",
   "metadata": {},
   "source": [
    "nr.*tar.gz | Non-redundant protein sequences from GenPept, Swissprot, PIR, PDF, PDB, and NCBI RefSeq"
   ]
  }
 ],
 "metadata": {
  "kernelspec": {
   "display_name": "Bash",
   "language": "bash",
   "name": "bash"
  },
  "language_info": {
   "codemirror_mode": "shell",
   "file_extension": ".sh",
   "mimetype": "text/x-sh",
   "name": "bash"
  }
 },
 "nbformat": 4,
 "nbformat_minor": 4
}
