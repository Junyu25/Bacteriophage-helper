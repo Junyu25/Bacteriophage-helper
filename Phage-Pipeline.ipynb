{
 "cells": [
  {
   "cell_type": "markdown",
   "metadata": {},
   "source": [
    "# Phage-SOP"
   ]
  },
  {
   "cell_type": "markdown",
   "metadata": {},
   "source": [
    "Bacteriophage standard operating procedure"
   ]
  },
  {
   "cell_type": "markdown",
   "metadata": {},
   "source": [
    "## SetUp the environment"
   ]
  },
  {
   "cell_type": "code",
   "execution_count": null,
   "metadata": {},
   "outputs": [],
   "source": [
    "conda create -n phage -c bioconda fastqc spades prokka bowtie2 samtools quast diamond bandage"
   ]
  },
  {
   "cell_type": "code",
   "execution_count": null,
   "metadata": {},
   "outputs": [],
   "source": [
    "conda install -c bioconda fastqc spades prokka bowtie2 samtools quast diamond bandage"
   ]
  },
  {
   "cell_type": "markdown",
   "metadata": {},
   "source": [
    "- fastqc #QC\n",
    "- spades #Assembly\n",
    "- prokka #Anotation\n",
    "- bowtie2 #Mapping\n",
    "- samtools #handling cov\n",
    "- quast #evaluate \n",
    "- diamond #Map to database\n",
    "- bandage #preview"
   ]
  },
  {
   "cell_type": "markdown",
   "metadata": {},
   "source": [
    "version"
   ]
  },
  {
   "cell_type": "markdown",
   "metadata": {},
   "source": [
    "- fastqc 0.11.9\n",
    "- spades 3.14.0\n",
    "- prokka 1.14.6\n",
    "- bandage 0.8.1"
   ]
  },
  {
   "cell_type": "markdown",
   "metadata": {},
   "source": [
    "optional"
   ]
  },
  {
   "cell_type": "markdown",
   "metadata": {},
   "source": [
    "- cd-hit 4.8.1\n",
    "- bowtie2 2.4.1\n",
    "- samtools 1.10\n",
    "- quast 5.0.2 \n",
    "- diamond 0.9.14"
   ]
  },
  {
   "cell_type": "code",
   "execution_count": null,
   "metadata": {},
   "outputs": [],
   "source": [
    "source /home/junyuchen/Biosoft/anaconda3/bin/activate /home/junyuchen/Biosoft/anaconda3/envs/phage"
   ]
  },
  {
   "cell_type": "code",
   "execution_count": null,
   "metadata": {},
   "outputs": [],
   "source": [
    "python /home/junyuchen/Lab/Phage-SOP/Bacteriophage-helper/Scripts/Assembly_quick.py -i /home/junyuchen/Lab/Phage-SOP/rawdata/jtshen-2020-06-13 -o /home/junyuchen/Lab/Phage-SOP/Out-test"
   ]
  },
  {
   "cell_type": "markdown",
   "metadata": {},
   "source": [
    "python /home/junyuchen/Lab/Phage-SOP/Bacteriophage-helper/Scripts/Assembly_quick.py -i /home/junyuchen/Lab/Phage-SOP/rawdata/jtshen-2020-06-13 -o /home/junyuchen/Lab/Phage-SOP/Out-test-1"
   ]
  },
  {
   "cell_type": "code",
   "execution_count": null,
   "metadata": {},
   "outputs": [],
   "source": [
    "python /home/junyuchen/Lab/Phage-SOP/Bacteriophage-helper/Scripts/Assembly_quick.py -i /home/junyuchen/Lab/Phage-SOP/rawdata/jtshen-2020-06-13 -o /home/junyuchen/Lab/Phage-SOP/Out-test-2"
   ]
  },
  {
   "cell_type": "code",
   "execution_count": null,
   "metadata": {},
   "outputs": [],
   "source": []
  },
  {
   "cell_type": "code",
   "execution_count": null,
   "metadata": {},
   "outputs": [],
   "source": []
  },
  {
   "cell_type": "code",
   "execution_count": null,
   "metadata": {},
   "outputs": [],
   "source": [
    "python /home/junyuchen/Lab/Phage-SOP/Bacteriophage-helper/Scripts/Assembly_quick.py -i /home/jtshen/20200820_13samples/2.cleandata/A6_FDSW202498030-1r -o /home/junyuchen/Lab/Phage-SOP/Result/result-2020-09-04"
   ]
  },
  {
   "cell_type": "markdown",
   "metadata": {},
   "source": [
    "python /home/junyuchen/Lab/Phage-SOP/Bacteriophage-helper-old/Scripts/Assembly_quick.py -i /home/jtshen/20200820_13samples/2.cleandata/A6_FDSW202498030-1r -o /home/junyuchen/Lab/Phage-SOP/Result/result-2020-09-04"
   ]
  },
  {
   "cell_type": "markdown",
   "metadata": {},
   "source": [
    "python /home/junyuchen/Lab/Phage-SOP/Bacteriophage-helper-old/Scripts/Assembly_quick.py -i /home/jtshen/20200820_13samples/2.cleandata -o /home/junyuchen/Lab/Phage-SOP/Result/result-2020-09-04"
   ]
  },
  {
   "cell_type": "code",
   "execution_count": null,
   "metadata": {},
   "outputs": [],
   "source": []
  }
 ],
 "metadata": {
  "kernelspec": {
   "display_name": "Python 3",
   "language": "python",
   "name": "python3"
  },
  "language_info": {
   "codemirror_mode": {
    "name": "ipython",
    "version": 3
   },
   "file_extension": ".py",
   "mimetype": "text/x-python",
   "name": "python",
   "nbconvert_exporter": "python",
   "pygments_lexer": "ipython3",
   "version": "3.7.6"
  }
 },
 "nbformat": 4,
 "nbformat_minor": 4
}
