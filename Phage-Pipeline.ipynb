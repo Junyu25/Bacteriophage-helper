{
 "cells": [
  {
   "cell_type": "markdown",
   "metadata": {},
   "source": [
    "# Phage-SOP"
   ]
  },
  {
   "cell_type": "markdown",
   "metadata": {},
   "source": [
    "Bacteriophage standard operating procedure"
   ]
  },
  {
   "cell_type": "markdown",
   "metadata": {},
   "source": [
    "## SetUp the environment"
   ]
  },
  {
   "cell_type": "code",
   "execution_count": null,
   "metadata": {},
   "outputs": [],
   "source": [
    "conda create -n phage -c bioconda fastqc spades prokka bowtie2 samtools quast diamond bandage"
   ]
  },
  {
   "cell_type": "code",
   "execution_count": null,
   "metadata": {},
   "outputs": [],
   "source": [
    "conda install -c bioconda fastqc spades prokka bowtie2 samtools quast diamond bandage"
   ]
  },
  {
   "cell_type": "markdown",
   "metadata": {},
   "source": [
    "- fastqc #QC\n",
    "- spades #Assembly\n",
    "- prokka #Anotation\n",
    "- bowtie2 #Mapping\n",
    "- samtools #handling cov\n",
    "- quast #evaluate \n",
    "- diamond #Map to database\n",
    "- bandage #preview"
   ]
  },
  {
   "cell_type": "markdown",
   "metadata": {},
   "source": [
    "version"
   ]
  },
  {
   "cell_type": "markdown",
   "metadata": {},
   "source": [
    "- fastqc 0.11.9\n",
    "- spades 3.14.0\n",
    "- prokka 1.14.6\n",
    "- bandage 0.8.1"
   ]
  },
  {
   "cell_type": "markdown",
   "metadata": {},
   "source": [
    "optional"
   ]
  },
  {
   "cell_type": "markdown",
   "metadata": {},
   "source": [
    "- cd-hit 4.8.1\n",
    "- bowtie2 2.4.1\n",
    "- samtools 1.10\n",
    "- quast 5.0.2 \n",
    "- diamond 0.9.14"
   ]
  },
  {
   "cell_type": "code",
   "execution_count": null,
   "metadata": {},
   "outputs": [],
   "source": [
    "source /home/junyuchen/Biosoft/anaconda3/bin/activate /home/junyuchen/Biosoft/anaconda3/envs/phage"
   ]
  },
  {
   "cell_type": "code",
   "execution_count": null,
   "metadata": {},
   "outputs": [],
   "source": [
    "python /home/junyuchen/Lab/Phage-SOP/Bacteriophage-helper/Scripts/Assembly_quick.py -i /home/junyuchen/Lab/Phage-SOP/rawdata/jtshen-2020-06-13 -o /home/junyuchen/Lab/Phage-SOP/Out-test"
   ]
  },
  {
   "cell_type": "markdown",
   "metadata": {},
   "source": [
    "python /home/junyuchen/Lab/Phage-SOP/Bacteriophage-helper/Scripts/Assembly_quick.py -i /home/junyuchen/Lab/Phage-SOP/rawdata/jtshen-2020-06-13 -o /home/junyuchen/Lab/Phage-SOP/Out-test-1"
   ]
  },
  {
   "cell_type": "code",
   "execution_count": null,
   "metadata": {},
   "outputs": [],
   "source": [
    "python /home/junyuchen/Lab/Phage-SOP/Bacteriophage-helper/Scripts/Assembly_quick.py -i /home/junyuchen/Lab/Phage-SOP/rawdata/jtshen-2020-06-13 -o /home/junyuchen/Lab/Phage-SOP/Out-test-2"
   ]
  },
  {
   "cell_type": "code",
   "execution_count": null,
   "metadata": {},
   "outputs": [],
   "source": []
  },
  {
   "cell_type": "code",
   "execution_count": null,
   "metadata": {},
   "outputs": [],
   "source": []
  },
  {
   "cell_type": "code",
   "execution_count": null,
   "metadata": {},
   "outputs": [],
   "source": [
    "python /home/junyuchen/Lab/Phage-SOP/Bacteriophage-helper/Scripts/Assembly_quick.py -i /home/jtshen/20200820_13samples/2.cleandata/A6_FDSW202498030-1r -o /home/junyuchen/Lab/Phage-SOP/Result/result-2020-09-04"
   ]
  },
  {
   "cell_type": "markdown",
   "metadata": {},
   "source": [
    "python /home/junyuchen/Lab/Phage-SOP/Bacteriophage-helper-old/Scripts/Assembly_quick.py -i /home/jtshen/20200820_13samples/2.cleandata/A6_FDSW202498030-1r -o /home/junyuchen/Lab/Phage-SOP/Result/result-2020-09-04"
   ]
  },
  {
   "cell_type": "markdown",
   "metadata": {},
   "source": [
    "python /home/junyuchen/Lab/Phage-SOP/Bacteriophage-helper-old/Scripts/Assembly_quick.py -i /home/jtshen/20200820_13samples/2.cleandata -o /home/junyuchen/Lab/Phage-SOP/Result/result-2020-09-04"
   ]
  },
  {
   "cell_type": "markdown",
   "metadata": {},
   "source": [
    "python /home/junyuchen/Lab/Phage-SOP/Bacteriophage-helper/Scripts/phage-sop.py -i /home/jtshen/20200820_13samples/2.cleandata -o /home/junyuchen/Lab/Phage-SOP/Result/result-2020-09-05 -j 3 -t 8"
   ]
  },
  {
   "cell_type": "markdown",
   "metadata": {},
   "source": [
    "python /home/junyuchen/Lab/Phage-SOP/Bacteriophage-helper/Scripts/phage-sop.py -i /home/jtshen/20200820_13samples/2.cleandata -o /home/junyuchen/Lab/Phage-SOP/Result/result-2020-09-05-1 -j 2 -t 12"
   ]
  },
  {
   "cell_type": "code",
   "execution_count": null,
   "metadata": {},
   "outputs": [],
   "source": []
  },
  {
   "cell_type": "code",
   "execution_count": null,
   "metadata": {},
   "outputs": [],
   "source": []
  },
  {
   "cell_type": "markdown",
   "metadata": {},
   "source": [
    "python /home/junyuchen/Lab/Phage-SOP/Bacteriophage-helper/Scripts/phage-sop-single.py -i /home/jtshen/20200820_13samples/2.cleandata -o /home/junyuchen/Lab/Phage-SOP/Result/result-2020-09-05-1"
   ]
  },
  {
   "cell_type": "code",
   "execution_count": null,
   "metadata": {},
   "outputs": [],
   "source": []
  },
  {
   "cell_type": "code",
   "execution_count": null,
   "metadata": {},
   "outputs": [],
   "source": []
  },
  {
   "cell_type": "code",
   "execution_count": 3,
   "metadata": {},
   "outputs": [],
   "source": [
    "import os"
   ]
  },
  {
   "cell_type": "code",
   "execution_count": 5,
   "metadata": {},
   "outputs": [],
   "source": [
    "r1_end = '_1.clean.fq.gz'"
   ]
  },
  {
   "cell_type": "code",
   "execution_count": 6,
   "metadata": {},
   "outputs": [],
   "source": [
    "r2_end = '_2.clean.fq.gz'"
   ]
  },
  {
   "cell_type": "code",
   "execution_count": 15,
   "metadata": {},
   "outputs": [],
   "source": [
    "inputDir = \"/home/jtshen/20200820_13samples/2.cleandata\""
   ]
  },
  {
   "cell_type": "code",
   "execution_count": 16,
   "metadata": {},
   "outputs": [],
   "source": [
    "ouputDir = \"/home/junyuchen/Lab/Phage-SOP/Result/result-2020-09-04\""
   ]
  },
  {
   "cell_type": "code",
   "execution_count": 26,
   "metadata": {},
   "outputs": [
    {
     "name": "stdout",
     "output_type": "stream",
     "text": [
      "DA183W_FDSW202498023-1r_1.clean.fq.gz\n",
      "DA183W_FDSW202498023-1r\n",
      "B6_FDSW202498031-1r_1.clean.fq.gz\n",
      "B6_FDSW202498031-1r\n",
      "DA166W_FDSW202498022-1r_1.clean.fq.gz\n",
      "DA166W_FDSW202498022-1r\n",
      "B5_FDSW202498029-1r_1.clean.fq.gz\n",
      "B5_FDSW202498029-1r\n",
      "DA200W_FDSW202498024-1r_1.clean.fq.gz\n",
      "DA200W_FDSW202498024-1r\n",
      "B3_FDSW202498027-1r_1.clean.fq.gz\n",
      "B3_FDSW202498027-1r\n",
      "DA47HF_FDSW202498019-1r_1.clean.fq.gz\n",
      "DA47HF_FDSW202498019-1r\n",
      "A6_FDSW202498030-1r_1.clean.fq.gz\n",
      "A6_FDSW202498030-1r\n",
      "DA26W_FDSW202498018-1r_1.clean.fq.gz\n",
      "DA26W_FDSW202498018-1r\n",
      "DA283W_FDSW202498025-1r_1.clean.fq.gz\n",
      "DA283W_FDSW202498025-1r\n",
      "DA63W_FDSW202498020-1r_1.clean.fq.gz\n",
      "DA63W_FDSW202498020-1r\n"
     ]
    }
   ],
   "source": [
    "R1List = []\n",
    "R2List = []\n",
    "outFileList = []\n",
    "SpadesFileList = []\n",
    "SpadesOutList = []\n",
    "BandageOutList = []\n",
    "for subdir, dirs, files in os.walk(inputDir):\n",
    "    R1 = \"\"\n",
    "    R2 = \"\"\n",
    "    outputFilePath = \"\"\n",
    "    SpadesFilePath = \"\"\n",
    "    SpadesOutDir = \"\"\n",
    "    for file in files:\n",
    "        if file.endswith(r1_end):\n",
    "            print(file)\n",
    "            R1 = os.path.join(subdir, file)\n",
    "            R2 = os.path.join(subdir, file[:-len(r1_end)]+r2_end)\n",
    "            R1List.append(R1)\n",
    "            # print(R1)\n",
    "            # print(R2)\n",
    "            R2List.append(R2)\n",
    "            #sampleStr = os.path.splitext(file)[0].replace(\"_1.clean.fq\", \"\")\n",
    "            sampleStr = file.replace(r1_end, \"\")\n",
    "            print(sampleStr)\n",
    "            outputFilePath = os.path.join(ouputDir, sampleStr)\n",
    "            outFileList.append(outputFilePath)\n",
    "\n",
    "            SpadesOutDir = os.path.join(ouputDir, sampleStr, \"assemble\")\n",
    "            SpadesFilePath = os.path.join(SpadesOutDir, \"scaffolds.fasta\")\n",
    "\n",
    "            SpadesOutList.append(SpadesOutDir)\n",
    "            SpadesFileList.append(SpadesFilePath)\n",
    "            BandageOutList.append(os.path.join(\n",
    "                ouputDir, sampleStr, \"preview.png\"))\n"
   ]
  },
  {
   "cell_type": "code",
   "execution_count": 18,
   "metadata": {},
   "outputs": [
    {
     "data": {
      "text/plain": [
       "['/home/junyuchen/Lab/Phage-SOP/Result/result-2020-09-04/DA183W_FDSW202498023-1r',\n",
       " '/home/junyuchen/Lab/Phage-SOP/Result/result-2020-09-04/B6_FDSW202498031-1r',\n",
       " '/home/junyuchen/Lab/Phage-SOP/Result/result-2020-09-04/DA166W_FDSW202498022-1r',\n",
       " '/home/junyuchen/Lab/Phage-SOP/Result/result-2020-09-04/B5_FDSW202498029-1r',\n",
       " '/home/junyuchen/Lab/Phage-SOP/Result/result-2020-09-04/DA200W_FDSW202498024-1r',\n",
       " '/home/junyuchen/Lab/Phage-SOP/Result/result-2020-09-04/B3_FDSW202498027-1r',\n",
       " '/home/junyuchen/Lab/Phage-SOP/Result/result-2020-09-04/DA47HF_FDSW202498019-1r',\n",
       " '/home/junyuchen/Lab/Phage-SOP/Result/result-2020-09-04/A6_FDSW202498030-1r',\n",
       " '/home/junyuchen/Lab/Phage-SOP/Result/result-2020-09-04/DA26W_FDSW202498018-1r',\n",
       " '/home/junyuchen/Lab/Phage-SOP/Result/result-2020-09-04/DA283W_FDSW202498025-1r',\n",
       " '/home/junyuchen/Lab/Phage-SOP/Result/result-2020-09-04/DA63W_FDSW202498020-1r']"
      ]
     },
     "execution_count": 18,
     "metadata": {},
     "output_type": "execute_result"
    }
   ],
   "source": [
    "outFileList"
   ]
  },
  {
   "cell_type": "code",
   "execution_count": 19,
   "metadata": {},
   "outputs": [
    {
     "data": {
      "text/plain": [
       "['/home/jtshen/20200820_13samples/2.cleandata/DA183W_FDSW202498023-1r/DA183W_FDSW202498023-1r_1.clean.fq.gz',\n",
       " '/home/jtshen/20200820_13samples/2.cleandata/B6_FDSW202498031-1r/B6_FDSW202498031-1r_1.clean.fq.gz',\n",
       " '/home/jtshen/20200820_13samples/2.cleandata/DA166W_FDSW202498022-1r/DA166W_FDSW202498022-1r_1.clean.fq.gz',\n",
       " '/home/jtshen/20200820_13samples/2.cleandata/B5_FDSW202498029-1r/B5_FDSW202498029-1r_1.clean.fq.gz',\n",
       " '/home/jtshen/20200820_13samples/2.cleandata/DA200W_FDSW202498024-1r/DA200W_FDSW202498024-1r_1.clean.fq.gz',\n",
       " '/home/jtshen/20200820_13samples/2.cleandata/B3_FDSW202498027-1r/B3_FDSW202498027-1r_1.clean.fq.gz',\n",
       " '/home/jtshen/20200820_13samples/2.cleandata/DA47HF_FDSW202498019-1r/DA47HF_FDSW202498019-1r_1.clean.fq.gz',\n",
       " '/home/jtshen/20200820_13samples/2.cleandata/A6_FDSW202498030-1r/A6_FDSW202498030-1r_1.clean.fq.gz',\n",
       " '/home/jtshen/20200820_13samples/2.cleandata/DA26W_FDSW202498018-1r/DA26W_FDSW202498018-1r_1.clean.fq.gz',\n",
       " '/home/jtshen/20200820_13samples/2.cleandata/DA283W_FDSW202498025-1r/DA283W_FDSW202498025-1r_1.clean.fq.gz',\n",
       " '/home/jtshen/20200820_13samples/2.cleandata/DA63W_FDSW202498020-1r/DA63W_FDSW202498020-1r_1.clean.fq.gz']"
      ]
     },
     "execution_count": 19,
     "metadata": {},
     "output_type": "execute_result"
    }
   ],
   "source": [
    "R1List"
   ]
  },
  {
   "cell_type": "code",
   "execution_count": 20,
   "metadata": {
    "collapsed": true,
    "jupyter": {
     "outputs_hidden": true
    }
   },
   "outputs": [
    {
     "data": {
      "text/plain": [
       "['/home/jtshen/20200820_13samples/2.cleandata/DA183W_FDSW202498023-1r/DA183W_FDSW202498023-1r_2.clean.fq.gz',\n",
       " '/home/jtshen/20200820_13samples/2.cleandata/B6_FDSW202498031-1r/B6_FDSW202498031-1r_2.clean.fq.gz',\n",
       " '/home/jtshen/20200820_13samples/2.cleandata/DA166W_FDSW202498022-1r/DA166W_FDSW202498022-1r_2.clean.fq.gz',\n",
       " '/home/jtshen/20200820_13samples/2.cleandata/B5_FDSW202498029-1r/B5_FDSW202498029-1r_2.clean.fq.gz',\n",
       " '/home/jtshen/20200820_13samples/2.cleandata/DA200W_FDSW202498024-1r/DA200W_FDSW202498024-1r_2.clean.fq.gz',\n",
       " '/home/jtshen/20200820_13samples/2.cleandata/B3_FDSW202498027-1r/B3_FDSW202498027-1r_2.clean.fq.gz',\n",
       " '/home/jtshen/20200820_13samples/2.cleandata/DA47HF_FDSW202498019-1r/DA47HF_FDSW202498019-1r_2.clean.fq.gz',\n",
       " '/home/jtshen/20200820_13samples/2.cleandata/A6_FDSW202498030-1r/A6_FDSW202498030-1r_2.clean.fq.gz',\n",
       " '/home/jtshen/20200820_13samples/2.cleandata/DA26W_FDSW202498018-1r/DA26W_FDSW202498018-1r_2.clean.fq.gz',\n",
       " '/home/jtshen/20200820_13samples/2.cleandata/DA283W_FDSW202498025-1r/DA283W_FDSW202498025-1r_2.clean.fq.gz',\n",
       " '/home/jtshen/20200820_13samples/2.cleandata/DA63W_FDSW202498020-1r/DA63W_FDSW202498020-1r_2.clean.fq.gz']"
      ]
     },
     "execution_count": 20,
     "metadata": {},
     "output_type": "execute_result"
    }
   ],
   "source": [
    "R2List"
   ]
  },
  {
   "cell_type": "code",
   "execution_count": 21,
   "metadata": {
    "collapsed": true,
    "jupyter": {
     "outputs_hidden": true
    }
   },
   "outputs": [
    {
     "data": {
      "text/plain": [
       "['/home/junyuchen/Lab/Phage-SOP/Result/result-2020-09-04/DA183W_FDSW202498023-1r/assemble/scaffolds.fasta',\n",
       " '/home/junyuchen/Lab/Phage-SOP/Result/result-2020-09-04/B6_FDSW202498031-1r/assemble/scaffolds.fasta',\n",
       " '/home/junyuchen/Lab/Phage-SOP/Result/result-2020-09-04/DA166W_FDSW202498022-1r/assemble/scaffolds.fasta',\n",
       " '/home/junyuchen/Lab/Phage-SOP/Result/result-2020-09-04/B5_FDSW202498029-1r/assemble/scaffolds.fasta',\n",
       " '/home/junyuchen/Lab/Phage-SOP/Result/result-2020-09-04/DA200W_FDSW202498024-1r/assemble/scaffolds.fasta',\n",
       " '/home/junyuchen/Lab/Phage-SOP/Result/result-2020-09-04/B3_FDSW202498027-1r/assemble/scaffolds.fasta',\n",
       " '/home/junyuchen/Lab/Phage-SOP/Result/result-2020-09-04/DA47HF_FDSW202498019-1r/assemble/scaffolds.fasta',\n",
       " '/home/junyuchen/Lab/Phage-SOP/Result/result-2020-09-04/A6_FDSW202498030-1r/assemble/scaffolds.fasta',\n",
       " '/home/junyuchen/Lab/Phage-SOP/Result/result-2020-09-04/DA26W_FDSW202498018-1r/assemble/scaffolds.fasta',\n",
       " '/home/junyuchen/Lab/Phage-SOP/Result/result-2020-09-04/DA283W_FDSW202498025-1r/assemble/scaffolds.fasta',\n",
       " '/home/junyuchen/Lab/Phage-SOP/Result/result-2020-09-04/DA63W_FDSW202498020-1r/assemble/scaffolds.fasta']"
      ]
     },
     "execution_count": 21,
     "metadata": {},
     "output_type": "execute_result"
    }
   ],
   "source": [
    "SpadesFileList"
   ]
  },
  {
   "cell_type": "code",
   "execution_count": 22,
   "metadata": {
    "collapsed": true,
    "jupyter": {
     "outputs_hidden": true
    }
   },
   "outputs": [
    {
     "data": {
      "text/plain": [
       "['/home/junyuchen/Lab/Phage-SOP/Result/result-2020-09-04/DA183W_FDSW202498023-1r/assemble',\n",
       " '/home/junyuchen/Lab/Phage-SOP/Result/result-2020-09-04/B6_FDSW202498031-1r/assemble',\n",
       " '/home/junyuchen/Lab/Phage-SOP/Result/result-2020-09-04/DA166W_FDSW202498022-1r/assemble',\n",
       " '/home/junyuchen/Lab/Phage-SOP/Result/result-2020-09-04/B5_FDSW202498029-1r/assemble',\n",
       " '/home/junyuchen/Lab/Phage-SOP/Result/result-2020-09-04/DA200W_FDSW202498024-1r/assemble',\n",
       " '/home/junyuchen/Lab/Phage-SOP/Result/result-2020-09-04/B3_FDSW202498027-1r/assemble',\n",
       " '/home/junyuchen/Lab/Phage-SOP/Result/result-2020-09-04/DA47HF_FDSW202498019-1r/assemble',\n",
       " '/home/junyuchen/Lab/Phage-SOP/Result/result-2020-09-04/A6_FDSW202498030-1r/assemble',\n",
       " '/home/junyuchen/Lab/Phage-SOP/Result/result-2020-09-04/DA26W_FDSW202498018-1r/assemble',\n",
       " '/home/junyuchen/Lab/Phage-SOP/Result/result-2020-09-04/DA283W_FDSW202498025-1r/assemble',\n",
       " '/home/junyuchen/Lab/Phage-SOP/Result/result-2020-09-04/DA63W_FDSW202498020-1r/assemble']"
      ]
     },
     "execution_count": 22,
     "metadata": {},
     "output_type": "execute_result"
    }
   ],
   "source": [
    "SpadesOutList"
   ]
  },
  {
   "cell_type": "code",
   "execution_count": 23,
   "metadata": {
    "collapsed": true,
    "jupyter": {
     "outputs_hidden": true
    }
   },
   "outputs": [
    {
     "data": {
      "text/plain": [
       "['/home/junyuchen/Lab/Phage-SOP/Result/result-2020-09-04/DA183W_FDSW202498023-1r/preview.png',\n",
       " '/home/junyuchen/Lab/Phage-SOP/Result/result-2020-09-04/B6_FDSW202498031-1r/preview.png',\n",
       " '/home/junyuchen/Lab/Phage-SOP/Result/result-2020-09-04/DA166W_FDSW202498022-1r/preview.png',\n",
       " '/home/junyuchen/Lab/Phage-SOP/Result/result-2020-09-04/B5_FDSW202498029-1r/preview.png',\n",
       " '/home/junyuchen/Lab/Phage-SOP/Result/result-2020-09-04/DA200W_FDSW202498024-1r/preview.png',\n",
       " '/home/junyuchen/Lab/Phage-SOP/Result/result-2020-09-04/B3_FDSW202498027-1r/preview.png',\n",
       " '/home/junyuchen/Lab/Phage-SOP/Result/result-2020-09-04/DA47HF_FDSW202498019-1r/preview.png',\n",
       " '/home/junyuchen/Lab/Phage-SOP/Result/result-2020-09-04/A6_FDSW202498030-1r/preview.png',\n",
       " '/home/junyuchen/Lab/Phage-SOP/Result/result-2020-09-04/DA26W_FDSW202498018-1r/preview.png',\n",
       " '/home/junyuchen/Lab/Phage-SOP/Result/result-2020-09-04/DA283W_FDSW202498025-1r/preview.png',\n",
       " '/home/junyuchen/Lab/Phage-SOP/Result/result-2020-09-04/DA63W_FDSW202498020-1r/preview.png']"
      ]
     },
     "execution_count": 23,
     "metadata": {},
     "output_type": "execute_result"
    }
   ],
   "source": [
    "BandageOutList"
   ]
  },
  {
   "cell_type": "code",
   "execution_count": 27,
   "metadata": {},
   "outputs": [],
   "source": [
    "Dir = \"/home/junyuchen/Lab/Phage-SOP/Result/result-2020-09-04\""
   ]
  },
  {
   "cell_type": "code",
   "execution_count": 28,
   "metadata": {
    "collapsed": true,
    "jupyter": {
     "outputs_hidden": true
    }
   },
   "outputs": [
    {
     "name": "stdout",
     "output_type": "stream",
     "text": [
      "/home/junyuchen/Lab/Phage-SOP/Result/result-2020-09-04/A6_FDSW202498030-1r/NODE_6_length_16487_cov_50.973527/NODE_6_length_16487_cov_50.973527.fasta\n",
      "/home/junyuchen/Lab/Phage-SOP/Result/result-2020-09-04/A6_FDSW202498030-1r/NODE_4_length_19554_cov_66.692753/NODE_4_length_19554_cov_66.692753.fasta\n",
      "/home/junyuchen/Lab/Phage-SOP/Result/result-2020-09-04/A6_FDSW202498030-1r/NODE_5_length_17219_cov_58.102948/NODE_5_length_17219_cov_58.102948.fasta\n",
      "/home/junyuchen/Lab/Phage-SOP/Result/result-2020-09-04/A6_FDSW202498030-1r/NODE_7_length_16133_cov_10.521582/NODE_7_length_16133_cov_10.521582.fasta\n",
      "/home/junyuchen/Lab/Phage-SOP/Result/result-2020-09-04/A6_FDSW202498030-1r/NODE_2_length_39332_cov_563.764264/NODE_2_length_39332_cov_563.764264.fasta\n",
      "/home/junyuchen/Lab/Phage-SOP/Result/result-2020-09-04/A6_FDSW202498030-1r/NODE_3_length_27660_cov_79.890889/NODE_3_length_27660_cov_79.890889.fasta\n",
      "/home/junyuchen/Lab/Phage-SOP/Result/result-2020-09-04/A6_FDSW202498030-1r/NODE_1_length_39934_cov_14644.904436/NODE_1_length_39934_cov_14644.904436.fasta\n",
      "/home/junyuchen/Lab/Phage-SOP/Result/result-2020-09-04/B4_FDSW202498028-1r/NODE_2_length_24503_cov_10.763498/NODE_2_length_24503_cov_10.763498.fasta\n",
      "/home/junyuchen/Lab/Phage-SOP/Result/result-2020-09-04/B4_FDSW202498028-1r/NODE_1_length_72163_cov_16956.266988/NODE_1_length_72163_cov_16956.266988.fasta\n"
     ]
    }
   ],
   "source": [
    "for subdir, dirs, files in os.walk(Dir):\n",
    "    filePath = \"\"\n",
    "    for file in files:\n",
    "        if file.endswith(\"fasta\") and \"NODE\" in file:\n",
    "            print(os.path.join(subdir, file))"
   ]
  },
  {
   "cell_type": "code",
   "execution_count": 33,
   "metadata": {},
   "outputs": [],
   "source": [
    "def RunDiamondDir(Dir):\n",
    "    filePathList = []\n",
    "    outFileList = []\n",
    "    for subdir, dirs, files in os.walk(Dir):\n",
    "        filePath = \"\"\n",
    "        for file in files:\n",
    "            if file.endswith(\".faa\") and \"NODE\" in file:\n",
    "                filePath = os.path.join(subdir, file)\n",
    "                outFile = os.path.join(subdir, file + \".tsv\")\n",
    "                filePathList.append(filePath)\n",
    "                outFileList.append(outFile)\n",
    "    print(filePathList)\n",
    "    print(outFileList)"
   ]
  },
  {
   "cell_type": "code",
   "execution_count": 30,
   "metadata": {},
   "outputs": [],
   "source": [
    "import os"
   ]
  },
  {
   "cell_type": "code",
   "execution_count": 34,
   "metadata": {
    "collapsed": true,
    "jupyter": {
     "outputs_hidden": true
    }
   },
   "outputs": [
    {
     "name": "stdout",
     "output_type": "stream",
     "text": [
      "['/home/junyuchen/Lab/Phage-SOP/Result/result-2020-09-05/B6_FDSW202498031-1r/NODE_8_length_12727_cov_18679.217645/NODE_8_length_12727_cov_18679.217645.faa', '/home/junyuchen/Lab/Phage-SOP/Result/result-2020-09-05/B6_FDSW202498031-1r/NODE_4_length_19265_cov_146.864446/NODE_4_length_19265_cov_146.864446.faa', '/home/junyuchen/Lab/Phage-SOP/Result/result-2020-09-05/B6_FDSW202498031-1r/NODE_1_length_41130_cov_10.490469/NODE_1_length_41130_cov_10.490469.faa', '/home/junyuchen/Lab/Phage-SOP/Result/result-2020-09-05/B6_FDSW202498031-1r/NODE_7_length_15392_cov_143.773945/NODE_7_length_15392_cov_143.773945.faa', '/home/junyuchen/Lab/Phage-SOP/Result/result-2020-09-05/B6_FDSW202498031-1r/NODE_6_length_18089_cov_66.124653/NODE_6_length_18089_cov_66.124653.faa', '/home/junyuchen/Lab/Phage-SOP/Result/result-2020-09-05/B6_FDSW202498031-1r/NODE_2_length_23882_cov_64.791455/NODE_2_length_23882_cov_64.791455.faa', '/home/junyuchen/Lab/Phage-SOP/Result/result-2020-09-05/B6_FDSW202498031-1r/NODE_5_length_18972_cov_17544.478036/NODE_5_length_18972_cov_17544.478036.faa', '/home/junyuchen/Lab/Phage-SOP/Result/result-2020-09-05/B6_FDSW202498031-1r/NODE_9_length_12046_cov_13685.011675/NODE_9_length_12046_cov_13685.011675.faa', '/home/junyuchen/Lab/Phage-SOP/Result/result-2020-09-05/B6_FDSW202498031-1r/NODE_3_length_19485_cov_8966.700051/NODE_3_length_19485_cov_8966.700051.faa', '/home/junyuchen/Lab/Phage-SOP/Result/result-2020-09-05/DA166W_FDSW202498022-1r/NODE_1_length_35599_cov_13887.213651/NODE_1_length_35599_cov_13887.213651.faa', '/home/junyuchen/Lab/Phage-SOP/Result/result-2020-09-05/B5_FDSW202498029-1r/NODE_6_length_10730_cov_5.675504/NODE_6_length_10730_cov_5.675504.faa', '/home/junyuchen/Lab/Phage-SOP/Result/result-2020-09-05/B5_FDSW202498029-1r/NODE_7_length_10301_cov_7.357017/NODE_7_length_10301_cov_7.357017.faa', '/home/junyuchen/Lab/Phage-SOP/Result/result-2020-09-05/B5_FDSW202498029-1r/NODE_3_length_38137_cov_36.692611/NODE_3_length_38137_cov_36.692611.faa', '/home/junyuchen/Lab/Phage-SOP/Result/result-2020-09-05/B5_FDSW202498029-1r/NODE_2_length_40872_cov_18.494892/NODE_2_length_40872_cov_18.494892.faa', '/home/junyuchen/Lab/Phage-SOP/Result/result-2020-09-05/B5_FDSW202498029-1r/NODE_5_length_10808_cov_6.651818/NODE_5_length_10808_cov_6.651818.faa', '/home/junyuchen/Lab/Phage-SOP/Result/result-2020-09-05/B5_FDSW202498029-1r/NODE_4_length_16197_cov_58.175855/NODE_4_length_16197_cov_58.175855.faa', '/home/junyuchen/Lab/Phage-SOP/Result/result-2020-09-05/B5_FDSW202498029-1r/NODE_1_length_72062_cov_16183.902926/NODE_1_length_72062_cov_16183.902926.faa', '/home/junyuchen/Lab/Phage-SOP/Result/result-2020-09-05/B5_FDSW202498029-1r/NODE_8_length_10055_cov_10.200600/NODE_8_length_10055_cov_10.200600.faa', '/home/junyuchen/Lab/Phage-SOP/Result/result-2020-09-05/DA200W_FDSW202498024-1r/NODE_1_length_38169_cov_110.690481/NODE_1_length_38169_cov_110.690481.faa', '/home/junyuchen/Lab/Phage-SOP/Result/result-2020-09-05/B3_FDSW202498027-1r/NODE_7_length_15502_cov_6.753674/NODE_7_length_15502_cov_6.753674.faa', '/home/junyuchen/Lab/Phage-SOP/Result/result-2020-09-05/B3_FDSW202498027-1r/NODE_3_length_18278_cov_34.064589/NODE_3_length_18278_cov_34.064589.faa', '/home/junyuchen/Lab/Phage-SOP/Result/result-2020-09-05/B3_FDSW202498027-1r/NODE_9_length_10808_cov_7641.317586/NODE_9_length_10808_cov_7641.317586.faa', '/home/junyuchen/Lab/Phage-SOP/Result/result-2020-09-05/B3_FDSW202498027-1r/NODE_4_length_17377_cov_6.021764/NODE_4_length_17377_cov_6.021764.faa', '/home/junyuchen/Lab/Phage-SOP/Result/result-2020-09-05/B3_FDSW202498027-1r/NODE_5_length_17140_cov_20.038221/NODE_5_length_17140_cov_20.038221.faa', '/home/junyuchen/Lab/Phage-SOP/Result/result-2020-09-05/B3_FDSW202498027-1r/NODE_1_length_50913_cov_381.667545/NODE_1_length_50913_cov_381.667545.faa', '/home/junyuchen/Lab/Phage-SOP/Result/result-2020-09-05/B3_FDSW202498027-1r/NODE_2_length_35748_cov_13978.985095/NODE_2_length_35748_cov_13978.985095.faa', '/home/junyuchen/Lab/Phage-SOP/Result/result-2020-09-05/B3_FDSW202498027-1r/NODE_6_length_16954_cov_14.800576/NODE_6_length_16954_cov_14.800576.faa', '/home/junyuchen/Lab/Phage-SOP/Result/result-2020-09-05/B3_FDSW202498027-1r/NODE_8_length_12317_cov_24602.390556/NODE_8_length_12317_cov_24602.390556.faa', '/home/junyuchen/Lab/Phage-SOP/Result/result-2020-09-05/DA47HF_FDSW202498019-1r/NODE_6_length_10165_cov_3.978140/NODE_6_length_10165_cov_3.978140.faa', '/home/junyuchen/Lab/Phage-SOP/Result/result-2020-09-05/DA47HF_FDSW202498019-1r/NODE_5_length_14949_cov_88.410501/NODE_5_length_14949_cov_88.410501.faa', '/home/junyuchen/Lab/Phage-SOP/Result/result-2020-09-05/DA47HF_FDSW202498019-1r/NODE_4_length_21562_cov_5.645185/NODE_4_length_21562_cov_5.645185.faa', '/home/junyuchen/Lab/Phage-SOP/Result/result-2020-09-05/DA47HF_FDSW202498019-1r/NODE_1_length_38024_cov_24753.270747/NODE_1_length_38024_cov_24753.270747.faa', '/home/junyuchen/Lab/Phage-SOP/Result/result-2020-09-05/DA47HF_FDSW202498019-1r/NODE_2_length_24897_cov_5.764552/NODE_2_length_24897_cov_5.764552.faa', '/home/junyuchen/Lab/Phage-SOP/Result/result-2020-09-05/DA47HF_FDSW202498019-1r/NODE_3_length_23653_cov_4.337783/NODE_3_length_23653_cov_4.337783.faa', '/home/junyuchen/Lab/Phage-SOP/Result/result-2020-09-05/A6_FDSW202498030-1r/NODE_6_length_16487_cov_50.973527/NODE_6_length_16487_cov_50.973527.faa', '/home/junyuchen/Lab/Phage-SOP/Result/result-2020-09-05/A6_FDSW202498030-1r/NODE_4_length_19554_cov_66.692753/NODE_4_length_19554_cov_66.692753.faa', '/home/junyuchen/Lab/Phage-SOP/Result/result-2020-09-05/A6_FDSW202498030-1r/NODE_5_length_17219_cov_58.102948/NODE_5_length_17219_cov_58.102948.faa', '/home/junyuchen/Lab/Phage-SOP/Result/result-2020-09-05/A6_FDSW202498030-1r/NODE_7_length_16133_cov_10.521582/NODE_7_length_16133_cov_10.521582.faa', '/home/junyuchen/Lab/Phage-SOP/Result/result-2020-09-05/A6_FDSW202498030-1r/NODE_2_length_39332_cov_563.764264/NODE_2_length_39332_cov_563.764264.faa', '/home/junyuchen/Lab/Phage-SOP/Result/result-2020-09-05/A6_FDSW202498030-1r/NODE_3_length_27660_cov_79.890889/NODE_3_length_27660_cov_79.890889.faa', '/home/junyuchen/Lab/Phage-SOP/Result/result-2020-09-05/A6_FDSW202498030-1r/NODE_1_length_39934_cov_14644.876100/NODE_1_length_39934_cov_14644.876100.faa', '/home/junyuchen/Lab/Phage-SOP/Result/result-2020-09-05/DA26W_FDSW202498018-1r/NODE_4_length_13021_cov_6.591701/NODE_4_length_13021_cov_6.591701.faa', '/home/junyuchen/Lab/Phage-SOP/Result/result-2020-09-05/DA26W_FDSW202498018-1r/NODE_5_length_12082_cov_4.485740/NODE_5_length_12082_cov_4.485740.faa', '/home/junyuchen/Lab/Phage-SOP/Result/result-2020-09-05/DA26W_FDSW202498018-1r/NODE_3_length_17140_cov_16.073456/NODE_3_length_17140_cov_16.073456.faa', '/home/junyuchen/Lab/Phage-SOP/Result/result-2020-09-05/DA26W_FDSW202498018-1r/NODE_7_length_10557_cov_20.303807/NODE_7_length_10557_cov_20.303807.faa', '/home/junyuchen/Lab/Phage-SOP/Result/result-2020-09-05/DA26W_FDSW202498018-1r/NODE_6_length_12078_cov_5.193712/NODE_6_length_12078_cov_5.193712.faa', '/home/junyuchen/Lab/Phage-SOP/Result/result-2020-09-05/DA26W_FDSW202498018-1r/NODE_2_length_21624_cov_16.022440/NODE_2_length_21624_cov_16.022440.faa', '/home/junyuchen/Lab/Phage-SOP/Result/result-2020-09-05/DA26W_FDSW202498018-1r/NODE_8_length_10541_cov_18.812989/NODE_8_length_10541_cov_18.812989.faa', '/home/junyuchen/Lab/Phage-SOP/Result/result-2020-09-05/DA26W_FDSW202498018-1r/NODE_11_length_10259_cov_10.324971/NODE_11_length_10259_cov_10.324971.faa', '/home/junyuchen/Lab/Phage-SOP/Result/result-2020-09-05/DA26W_FDSW202498018-1r/NODE_9_length_10511_cov_40.580337/NODE_9_length_10511_cov_40.580337.faa', '/home/junyuchen/Lab/Phage-SOP/Result/result-2020-09-05/DA26W_FDSW202498018-1r/NODE_10_length_10475_cov_16733.670537/NODE_10_length_10475_cov_16733.670537.faa', '/home/junyuchen/Lab/Phage-SOP/Result/result-2020-09-05/DA26W_FDSW202498018-1r/NODE_1_length_38136_cov_20.797143/NODE_1_length_38136_cov_20.797143.faa', '/home/junyuchen/Lab/Phage-SOP/Result/result-2020-09-05/DA283W_FDSW202498025-1r/NODE_1_length_53352_cov_7.592078/NODE_1_length_53352_cov_7.592078.faa', '/home/junyuchen/Lab/Phage-SOP/Result/result-2020-09-05/DA283W_FDSW202498025-1r/NODE_2_length_37991_cov_200.443668/NODE_2_length_37991_cov_200.443668.faa']\n",
      "['/home/junyuchen/Lab/Phage-SOP/Result/result-2020-09-05/B6_FDSW202498031-1r/NODE_8_length_12727_cov_18679.217645/NODE_8_length_12727_cov_18679.217645.faa.tsv', '/home/junyuchen/Lab/Phage-SOP/Result/result-2020-09-05/B6_FDSW202498031-1r/NODE_4_length_19265_cov_146.864446/NODE_4_length_19265_cov_146.864446.faa.tsv', '/home/junyuchen/Lab/Phage-SOP/Result/result-2020-09-05/B6_FDSW202498031-1r/NODE_1_length_41130_cov_10.490469/NODE_1_length_41130_cov_10.490469.faa.tsv', '/home/junyuchen/Lab/Phage-SOP/Result/result-2020-09-05/B6_FDSW202498031-1r/NODE_7_length_15392_cov_143.773945/NODE_7_length_15392_cov_143.773945.faa.tsv', '/home/junyuchen/Lab/Phage-SOP/Result/result-2020-09-05/B6_FDSW202498031-1r/NODE_6_length_18089_cov_66.124653/NODE_6_length_18089_cov_66.124653.faa.tsv', '/home/junyuchen/Lab/Phage-SOP/Result/result-2020-09-05/B6_FDSW202498031-1r/NODE_2_length_23882_cov_64.791455/NODE_2_length_23882_cov_64.791455.faa.tsv', '/home/junyuchen/Lab/Phage-SOP/Result/result-2020-09-05/B6_FDSW202498031-1r/NODE_5_length_18972_cov_17544.478036/NODE_5_length_18972_cov_17544.478036.faa.tsv', '/home/junyuchen/Lab/Phage-SOP/Result/result-2020-09-05/B6_FDSW202498031-1r/NODE_9_length_12046_cov_13685.011675/NODE_9_length_12046_cov_13685.011675.faa.tsv', '/home/junyuchen/Lab/Phage-SOP/Result/result-2020-09-05/B6_FDSW202498031-1r/NODE_3_length_19485_cov_8966.700051/NODE_3_length_19485_cov_8966.700051.faa.tsv', '/home/junyuchen/Lab/Phage-SOP/Result/result-2020-09-05/DA166W_FDSW202498022-1r/NODE_1_length_35599_cov_13887.213651/NODE_1_length_35599_cov_13887.213651.faa.tsv', '/home/junyuchen/Lab/Phage-SOP/Result/result-2020-09-05/B5_FDSW202498029-1r/NODE_6_length_10730_cov_5.675504/NODE_6_length_10730_cov_5.675504.faa.tsv', '/home/junyuchen/Lab/Phage-SOP/Result/result-2020-09-05/B5_FDSW202498029-1r/NODE_7_length_10301_cov_7.357017/NODE_7_length_10301_cov_7.357017.faa.tsv', '/home/junyuchen/Lab/Phage-SOP/Result/result-2020-09-05/B5_FDSW202498029-1r/NODE_3_length_38137_cov_36.692611/NODE_3_length_38137_cov_36.692611.faa.tsv', '/home/junyuchen/Lab/Phage-SOP/Result/result-2020-09-05/B5_FDSW202498029-1r/NODE_2_length_40872_cov_18.494892/NODE_2_length_40872_cov_18.494892.faa.tsv', '/home/junyuchen/Lab/Phage-SOP/Result/result-2020-09-05/B5_FDSW202498029-1r/NODE_5_length_10808_cov_6.651818/NODE_5_length_10808_cov_6.651818.faa.tsv', '/home/junyuchen/Lab/Phage-SOP/Result/result-2020-09-05/B5_FDSW202498029-1r/NODE_4_length_16197_cov_58.175855/NODE_4_length_16197_cov_58.175855.faa.tsv', '/home/junyuchen/Lab/Phage-SOP/Result/result-2020-09-05/B5_FDSW202498029-1r/NODE_1_length_72062_cov_16183.902926/NODE_1_length_72062_cov_16183.902926.faa.tsv', '/home/junyuchen/Lab/Phage-SOP/Result/result-2020-09-05/B5_FDSW202498029-1r/NODE_8_length_10055_cov_10.200600/NODE_8_length_10055_cov_10.200600.faa.tsv', '/home/junyuchen/Lab/Phage-SOP/Result/result-2020-09-05/DA200W_FDSW202498024-1r/NODE_1_length_38169_cov_110.690481/NODE_1_length_38169_cov_110.690481.faa.tsv', '/home/junyuchen/Lab/Phage-SOP/Result/result-2020-09-05/B3_FDSW202498027-1r/NODE_7_length_15502_cov_6.753674/NODE_7_length_15502_cov_6.753674.faa.tsv', '/home/junyuchen/Lab/Phage-SOP/Result/result-2020-09-05/B3_FDSW202498027-1r/NODE_3_length_18278_cov_34.064589/NODE_3_length_18278_cov_34.064589.faa.tsv', '/home/junyuchen/Lab/Phage-SOP/Result/result-2020-09-05/B3_FDSW202498027-1r/NODE_9_length_10808_cov_7641.317586/NODE_9_length_10808_cov_7641.317586.faa.tsv', '/home/junyuchen/Lab/Phage-SOP/Result/result-2020-09-05/B3_FDSW202498027-1r/NODE_4_length_17377_cov_6.021764/NODE_4_length_17377_cov_6.021764.faa.tsv', '/home/junyuchen/Lab/Phage-SOP/Result/result-2020-09-05/B3_FDSW202498027-1r/NODE_5_length_17140_cov_20.038221/NODE_5_length_17140_cov_20.038221.faa.tsv', '/home/junyuchen/Lab/Phage-SOP/Result/result-2020-09-05/B3_FDSW202498027-1r/NODE_1_length_50913_cov_381.667545/NODE_1_length_50913_cov_381.667545.faa.tsv', '/home/junyuchen/Lab/Phage-SOP/Result/result-2020-09-05/B3_FDSW202498027-1r/NODE_2_length_35748_cov_13978.985095/NODE_2_length_35748_cov_13978.985095.faa.tsv', '/home/junyuchen/Lab/Phage-SOP/Result/result-2020-09-05/B3_FDSW202498027-1r/NODE_6_length_16954_cov_14.800576/NODE_6_length_16954_cov_14.800576.faa.tsv', '/home/junyuchen/Lab/Phage-SOP/Result/result-2020-09-05/B3_FDSW202498027-1r/NODE_8_length_12317_cov_24602.390556/NODE_8_length_12317_cov_24602.390556.faa.tsv', '/home/junyuchen/Lab/Phage-SOP/Result/result-2020-09-05/DA47HF_FDSW202498019-1r/NODE_6_length_10165_cov_3.978140/NODE_6_length_10165_cov_3.978140.faa.tsv', '/home/junyuchen/Lab/Phage-SOP/Result/result-2020-09-05/DA47HF_FDSW202498019-1r/NODE_5_length_14949_cov_88.410501/NODE_5_length_14949_cov_88.410501.faa.tsv', '/home/junyuchen/Lab/Phage-SOP/Result/result-2020-09-05/DA47HF_FDSW202498019-1r/NODE_4_length_21562_cov_5.645185/NODE_4_length_21562_cov_5.645185.faa.tsv', '/home/junyuchen/Lab/Phage-SOP/Result/result-2020-09-05/DA47HF_FDSW202498019-1r/NODE_1_length_38024_cov_24753.270747/NODE_1_length_38024_cov_24753.270747.faa.tsv', '/home/junyuchen/Lab/Phage-SOP/Result/result-2020-09-05/DA47HF_FDSW202498019-1r/NODE_2_length_24897_cov_5.764552/NODE_2_length_24897_cov_5.764552.faa.tsv', '/home/junyuchen/Lab/Phage-SOP/Result/result-2020-09-05/DA47HF_FDSW202498019-1r/NODE_3_length_23653_cov_4.337783/NODE_3_length_23653_cov_4.337783.faa.tsv', '/home/junyuchen/Lab/Phage-SOP/Result/result-2020-09-05/A6_FDSW202498030-1r/NODE_6_length_16487_cov_50.973527/NODE_6_length_16487_cov_50.973527.faa.tsv', '/home/junyuchen/Lab/Phage-SOP/Result/result-2020-09-05/A6_FDSW202498030-1r/NODE_4_length_19554_cov_66.692753/NODE_4_length_19554_cov_66.692753.faa.tsv', '/home/junyuchen/Lab/Phage-SOP/Result/result-2020-09-05/A6_FDSW202498030-1r/NODE_5_length_17219_cov_58.102948/NODE_5_length_17219_cov_58.102948.faa.tsv', '/home/junyuchen/Lab/Phage-SOP/Result/result-2020-09-05/A6_FDSW202498030-1r/NODE_7_length_16133_cov_10.521582/NODE_7_length_16133_cov_10.521582.faa.tsv', '/home/junyuchen/Lab/Phage-SOP/Result/result-2020-09-05/A6_FDSW202498030-1r/NODE_2_length_39332_cov_563.764264/NODE_2_length_39332_cov_563.764264.faa.tsv', '/home/junyuchen/Lab/Phage-SOP/Result/result-2020-09-05/A6_FDSW202498030-1r/NODE_3_length_27660_cov_79.890889/NODE_3_length_27660_cov_79.890889.faa.tsv', '/home/junyuchen/Lab/Phage-SOP/Result/result-2020-09-05/A6_FDSW202498030-1r/NODE_1_length_39934_cov_14644.876100/NODE_1_length_39934_cov_14644.876100.faa.tsv', '/home/junyuchen/Lab/Phage-SOP/Result/result-2020-09-05/DA26W_FDSW202498018-1r/NODE_4_length_13021_cov_6.591701/NODE_4_length_13021_cov_6.591701.faa.tsv', '/home/junyuchen/Lab/Phage-SOP/Result/result-2020-09-05/DA26W_FDSW202498018-1r/NODE_5_length_12082_cov_4.485740/NODE_5_length_12082_cov_4.485740.faa.tsv', '/home/junyuchen/Lab/Phage-SOP/Result/result-2020-09-05/DA26W_FDSW202498018-1r/NODE_3_length_17140_cov_16.073456/NODE_3_length_17140_cov_16.073456.faa.tsv', '/home/junyuchen/Lab/Phage-SOP/Result/result-2020-09-05/DA26W_FDSW202498018-1r/NODE_7_length_10557_cov_20.303807/NODE_7_length_10557_cov_20.303807.faa.tsv', '/home/junyuchen/Lab/Phage-SOP/Result/result-2020-09-05/DA26W_FDSW202498018-1r/NODE_6_length_12078_cov_5.193712/NODE_6_length_12078_cov_5.193712.faa.tsv', '/home/junyuchen/Lab/Phage-SOP/Result/result-2020-09-05/DA26W_FDSW202498018-1r/NODE_2_length_21624_cov_16.022440/NODE_2_length_21624_cov_16.022440.faa.tsv', '/home/junyuchen/Lab/Phage-SOP/Result/result-2020-09-05/DA26W_FDSW202498018-1r/NODE_8_length_10541_cov_18.812989/NODE_8_length_10541_cov_18.812989.faa.tsv', '/home/junyuchen/Lab/Phage-SOP/Result/result-2020-09-05/DA26W_FDSW202498018-1r/NODE_11_length_10259_cov_10.324971/NODE_11_length_10259_cov_10.324971.faa.tsv', '/home/junyuchen/Lab/Phage-SOP/Result/result-2020-09-05/DA26W_FDSW202498018-1r/NODE_9_length_10511_cov_40.580337/NODE_9_length_10511_cov_40.580337.faa.tsv', '/home/junyuchen/Lab/Phage-SOP/Result/result-2020-09-05/DA26W_FDSW202498018-1r/NODE_10_length_10475_cov_16733.670537/NODE_10_length_10475_cov_16733.670537.faa.tsv', '/home/junyuchen/Lab/Phage-SOP/Result/result-2020-09-05/DA26W_FDSW202498018-1r/NODE_1_length_38136_cov_20.797143/NODE_1_length_38136_cov_20.797143.faa.tsv', '/home/junyuchen/Lab/Phage-SOP/Result/result-2020-09-05/DA283W_FDSW202498025-1r/NODE_1_length_53352_cov_7.592078/NODE_1_length_53352_cov_7.592078.faa.tsv', '/home/junyuchen/Lab/Phage-SOP/Result/result-2020-09-05/DA283W_FDSW202498025-1r/NODE_2_length_37991_cov_200.443668/NODE_2_length_37991_cov_200.443668.faa.tsv']\n"
     ]
    }
   ],
   "source": [
    "RunDiamondDir(\"/home/junyuchen/Lab/Phage-SOP/Result/result-2020-09-05\")"
   ]
  },
  {
   "cell_type": "code",
   "execution_count": null,
   "metadata": {},
   "outputs": [],
   "source": []
  },
  {
   "cell_type": "code",
   "execution_count": null,
   "metadata": {},
   "outputs": [],
   "source": [
    "python /home/junyuchen/Lab/Phage-SOP/run-diamond.py -i /home/jtshen/9.5\\ 12\\ sipmle\\ result/DA63W_FDSW202498020-1r -o /home/junyuchen/Lab/Phage-SOP/Result/result-2020-09-05 -j 1 -t 16"
   ]
  },
  {
   "cell_type": "code",
   "execution_count": null,
   "metadata": {},
   "outputs": [],
   "source": [
    "/home/jtshen/9.5 12 sipmle result/DA63W_FDSW202498020-1r"
   ]
  },
  {
   "cell_type": "code",
   "execution_count": null,
   "metadata": {},
   "outputs": [],
   "source": [
    "/home/jtshen/9.5 12 sipmle result/DA63W_FDSW202498020-1r/NODE_1_length_15987_cov_25789.338313"
   ]
  },
  {
   "cell_type": "code",
   "execution_count": null,
   "metadata": {},
   "outputs": [],
   "source": [
    "/home/jtshen/9.5 12 sipmle result/DA63W_FDSW202498020-1r/NODE_1_length_15987_cov_25789.338313/NODE_1_length_15987_cov_25789.338313.faa"
   ]
  },
  {
   "cell_type": "markdown",
   "metadata": {},
   "source": [
    "```shell\n",
    "diamond blastp --db /home/malab/databases_of_malab/nr/nr --query /home/jtshen/9.5\\ 12\\ sipmle\\ result/DA63W_FDSW202498020-1r/NODE_1_length_15987_cov_25789.338313/NODE_1_length_15987_cov_25789.338313.faa  --out /home/junyuchen/Lab/Phage-SOP/Result/result-2020-09-05/DA63W_FDSW202498020-1r/NODE_1_length_15987_cov_25789.338313/NODE_1_length_15987_cov_25789.338313.faa.tsv --evalue 1e-05 --outfmt 6 --max-target-seqs 1 --threads 16\n",
    "```"
   ]
  },
  {
   "cell_type": "code",
   "execution_count": null,
   "metadata": {},
   "outputs": [],
   "source": [
    "mkdir -p /home/junyuchen/Lab/Phage-SOP/Result/result-2020-09-05/DA63W_FDSW202498020-1r/NODE_1_length_15987_cov_25789.338313"
   ]
  },
  {
   "cell_type": "code",
   "execution_count": null,
   "metadata": {},
   "outputs": [],
   "source": []
  },
  {
   "cell_type": "code",
   "execution_count": null,
   "metadata": {},
   "outputs": [],
   "source": []
  },
  {
   "cell_type": "markdown",
   "metadata": {},
   "source": [
    "## MEGAHIT"
   ]
  },
  {
   "cell_type": "code",
   "execution_count": null,
   "metadata": {},
   "outputs": [],
   "source": [
    "DA200W?"
   ]
  },
  {
   "cell_type": "code",
   "execution_count": null,
   "metadata": {},
   "outputs": [],
   "source": [
    "megahit -1 pe_1.fq -2 pe_2.fq -o out"
   ]
  },
  {
   "cell_type": "code",
   "execution_count": null,
   "metadata": {},
   "outputs": [],
   "source": [
    "/home/junyuchen/Lab/Phage-SOP/Data/2.cleandata/DA200W_FDSW202498024-1r/DA200W_FDSW202498024-1r_1.clean.fq.gz"
   ]
  },
  {
   "cell_type": "code",
   "execution_count": null,
   "metadata": {},
   "outputs": [],
   "source": [
    "/home/junyuchen/Lab/Phage-SOP/Data/2.cleandata/DA200W_FDSW202498024-1r/DA200W_FDSW202498024-1r_2.clean.fq.gz"
   ]
  },
  {
   "cell_type": "code",
   "execution_count": null,
   "metadata": {},
   "outputs": [],
   "source": [
    "/home/junyuchen/Lab/Phage-SOP/Data/2.cleandata/DA183W_FDSW202498023-1r/DA183W_FDSW202498023-1r_1.clean.fq.gz"
   ]
  },
  {
   "cell_type": "code",
   "execution_count": null,
   "metadata": {},
   "outputs": [],
   "source": [
    "/home/junyuchen/Lab/Phage-SOP/Data/2.cleandata/DA183W_FDSW202498023-1r/DA183W_FDSW202498023-1r_2.clean.fq.gz"
   ]
  },
  {
   "cell_type": "code",
   "execution_count": null,
   "metadata": {},
   "outputs": [],
   "source": [
    "/home/junyuchen/Lab/Phage-SOP/Data/2.cleandata/DA63W_FDSW202498020-1r/DA63W_FDSW202498020-1r_1.clean.fq.gz"
   ]
  },
  {
   "cell_type": "code",
   "execution_count": null,
   "metadata": {},
   "outputs": [],
   "source": [
    "/home/junyuchen/Lab/Phage-SOP/Data/2.cleandata/DA63W_FDSW202498020-1r/DA63W_FDSW202498020-1r_2.clean.fq.gz"
   ]
  },
  {
   "cell_type": "code",
   "execution_count": null,
   "metadata": {},
   "outputs": [],
   "source": [
    "/home/junyuchen/Lab/Phage-SOP/Data/2.cleandata/DA166W_FDSW202498022-1r/DA166W_FDSW202498022-1r_1.clean.fq.gz"
   ]
  },
  {
   "cell_type": "markdown",
   "metadata": {},
   "source": [
    "megahit -1 /home/junyuchen/Lab/Phage-SOP/Data/2.cleandata/DA200W_FDSW202498024-1r/DA200W_FDSW202498024-1r_1.clean.fq.gz -2 /home/junyuchen/Lab/Phage-SOP/Data/2.cleandata/DA200W_FDSW202498024-1r/DA200W_FDSW202498024-1r_2.clean.fq.gz -o /home/junyuchen/Lab/Phage-SOP/Result/MegaHit/DA200W_FDSW202498024-1r"
   ]
  },
  {
   "cell_type": "code",
   "execution_count": null,
   "metadata": {},
   "outputs": [],
   "source": []
  },
  {
   "cell_type": "code",
   "execution_count": null,
   "metadata": {},
   "outputs": [],
   "source": []
  },
  {
   "cell_type": "markdown",
   "metadata": {},
   "source": [
    "megahit -1 /home/junyuchen/Lab/Phage-SOP/Data/2.cleandata/DA183W_FDSW202498023-1r/DA183W_FDSW202498023-1r_1.clean.fq.gz -2 //home/junyuchen/Lab/Phage-SOP/Data/2.cleandata/DA183W_FDSW202498023-1r/DA183W_FDSW202498023-1r_2.clean.fq.gz -o /home/junyuchen/Lab/Phage-SOP/Result/MegaHit/DA183W_FDSW202498023-1r"
   ]
  },
  {
   "cell_type": "code",
   "execution_count": null,
   "metadata": {},
   "outputs": [],
   "source": []
  },
  {
   "cell_type": "code",
   "execution_count": null,
   "metadata": {},
   "outputs": [],
   "source": []
  },
  {
   "cell_type": "markdown",
   "metadata": {},
   "source": [
    "megahit -1 /home/junyuchen/Lab/Phage-SOP/Data/2.cleandata/DA166W_FDSW202498022-1r/DA166W_FDSW202498022-1r_1.clean.fq.gz -2 /home/junyuchen/Lab/Phage-SOP/Data/2.cleandata/DA166W_FDSW202498022-1r/DA166W_FDSW202498022-1r_2.clean.fq.gz -o /home/junyuchen/Lab/Phage-SOP/Result/MegaHit/DA166W_FDSW202498022-1r"
   ]
  },
  {
   "cell_type": "code",
   "execution_count": null,
   "metadata": {},
   "outputs": [],
   "source": []
  },
  {
   "cell_type": "code",
   "execution_count": null,
   "metadata": {},
   "outputs": [],
   "source": [
    "python /home/junyuchen/Lab/Phage-SOP/Bacteriophage-helper/Scripts/RunBandage.py /home/junyuchen/Lab/Phage-SOP/Result/result-2020-09-07"
   ]
  },
  {
   "cell_type": "code",
   "execution_count": null,
   "metadata": {},
   "outputs": [],
   "source": []
  },
  {
   "cell_type": "code",
   "execution_count": null,
   "metadata": {},
   "outputs": [],
   "source": [
    "python /home/junyuchen/Lab/Metatranscriptome/megahit.py -i /home/junyuchen/Lab/Phage-SOP/Data/PathTable.tsv -o /home/junyuchen/Lab/Phage-SOP/Result/megahit-2020-09-19 -j 8"
   ]
  },
  {
   "cell_type": "code",
   "execution_count": null,
   "metadata": {},
   "outputs": [],
   "source": []
  }
 ],
 "metadata": {
  "kernelspec": {
   "display_name": "Python 3",
   "language": "python",
   "name": "python3"
  },
  "language_info": {
   "codemirror_mode": {
    "name": "ipython",
    "version": 3
   },
   "file_extension": ".py",
   "mimetype": "text/x-python",
   "name": "python",
   "nbconvert_exporter": "python",
   "pygments_lexer": "ipython3",
   "version": "3.8.6"
  }
 },
 "nbformat": 4,
 "nbformat_minor": 4
}
