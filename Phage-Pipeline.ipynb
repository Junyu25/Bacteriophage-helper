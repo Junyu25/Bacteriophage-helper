{
 "cells": [
  {
   "cell_type": "markdown",
   "metadata": {},
   "source": [
    "# Phage-SOP"
   ]
  },
  {
   "cell_type": "markdown",
   "metadata": {},
   "source": [
    "Bacteriophages"
   ]
  },
  {
   "cell_type": "code",
   "execution_count": null,
   "metadata": {},
   "outputs": [],
   "source": [
    "standard operating procedure"
   ]
  },
  {
   "cell_type": "markdown",
   "metadata": {},
   "source": [
    "## SetUp the environment"
   ]
  },
  {
   "cell_type": "code",
   "execution_count": null,
   "metadata": {},
   "outputs": [],
   "source": [
    "conda create -n phage -c bioconda fastqc spades prokka bowtie2 samtools quast diamond bandage"
   ]
  },
  {
   "cell_type": "code",
   "execution_count": null,
   "metadata": {},
   "outputs": [],
   "source": [
    "conda install -c bioconda fastqc spades prokka bowtie2 samtools quast diamond bandage"
   ]
  },
  {
   "cell_type": "markdown",
   "metadata": {},
   "source": [
    "- fastqc #QC\n",
    "- spades #Assembly\n",
    "- prokka #Anotation\n",
    "- bowtie2 #Mapping\n",
    "- samtools #handling cov\n",
    "- quast #evaluate \n",
    "- diamond #Map to database\n",
    "- bandage #preview"
   ]
  },
  {
   "cell_type": "code",
   "execution_count": null,
   "metadata": {},
   "outputs": [],
   "source": [
    "conda activate pahge"
   ]
  },
  {
   "cell_type": "markdown",
   "metadata": {},
   "source": [
    "## Trimming"
   ]
  },
  {
   "cell_type": "markdown",
   "metadata": {},
   "source": [
    "See If the sequencing compony done that for you,   \n",
    "If not, we can use [Trimmomatic](http://www.usadellab.org/cms/?page=trimmomatic) to handle the quality control part"
   ]
  },
  {
   "cell_type": "markdown",
   "metadata": {},
   "source": [
    "## FastQC"
   ]
  },
  {
   "cell_type": "markdown",
   "metadata": {},
   "source": [
    "observe the sequencing quality"
   ]
  },
  {
   "cell_type": "code",
   "execution_count": null,
   "metadata": {},
   "outputs": [],
   "source": [
    "/home/junyuchen/Lab/Phage-SOP/Result/fastqc"
   ]
  },
  {
   "cell_type": "code",
   "execution_count": null,
   "metadata": {},
   "outputs": [],
   "source": [
    "fastqc /home/junyuchen/Lab/Phage-SOP/rawdata/jtshen-2020-06-13/CD1382_FDSW202399938-1r_1.clean.fq /home/junyuchen/Lab/Phage-SOP/rawdata/jtshen-2020-06-13/CD1382_FDSW202399938-1r_2.clean.fq -o /home/junyuchen/Lab/Phage-SOP/Result/fastqc -t 16"
   ]
  },
  {
   "cell_type": "code",
   "execution_count": null,
   "metadata": {},
   "outputs": [],
   "source": [
    "fastqc /home/junyuchen/Lab/Phage-SOP/rawdata/jtshen-2020-06-13/BT_FDSW202399939-1r_1.clean.fq /home/junyuchen/Lab/Phage-SOP/rawdata/jtshen-2020-06-13/BT_FDSW202399939-1r_2.clean.fq -o /home/junyuchen/Lab/Phage-SOP/Result/fastqc -t 16"
   ]
  },
  {
   "cell_type": "code",
   "execution_count": null,
   "metadata": {},
   "outputs": [],
   "source": [
    "/home/LDlab/JuntaoSHEN/PhageGenomeNGSdata"
   ]
  },
  {
   "cell_type": "code",
   "execution_count": null,
   "metadata": {},
   "outputs": [],
   "source": [
    "scp -r LDlab@10.10.1.134:/home/LDlab/JuntaoSHEN/PhageGenomeNGSdata/H101SC20051899.rar ./"
   ]
  },
  {
   "cell_type": "markdown",
   "metadata": {},
   "source": [
    "## Assembly"
   ]
  },
  {
   "cell_type": "markdown",
   "metadata": {},
   "source": [
    "Base on this [Article](https://microbiomejournal.biomedcentral.com/articles/10.1186/s40168-019-0626-5), it's better to choose SPAdes, SPAdes (meta) should be meta-spades"
   ]
  },
  {
   "cell_type": "markdown",
   "metadata": {},
   "source": [
    "And we can use [QUAST](http://cab.spbu.ru/software/quast/) to evaluate the assembly performance"
   ]
  },
  {
   "cell_type": "markdown",
   "metadata": {},
   "source": [
    "### SPAdes"
   ]
  },
  {
   "cell_type": "markdown",
   "metadata": {},
   "source": [
    "https://github.com/ablab/spades"
   ]
  },
  {
   "cell_type": "markdown",
   "metadata": {},
   "source": [
    "```python\n",
    "def runmetaspades(Sample):\n",
    "    cmd = \"metaspades.py -1 \" +Sample+ \"_1.fastq\" + \" -2 \" +Sample+ \"_2.fastq\" + \" -o ./assemble\"\n",
    "    subprocess.call(cmd)\n",
    "```"
   ]
  },
  {
   "cell_type": "markdown",
   "metadata": {},
   "source": [
    "* `--isolate`                   \n",
    "    this flag is highly recommended for high-coverage isolate and multi-cell data\n",
    "* `-t <int>, --threads <int>`   \n",
    "    number of threads. [default: 16]"
   ]
  },
  {
   "cell_type": "code",
   "execution_count": null,
   "metadata": {},
   "outputs": [],
   "source": []
  },
  {
   "cell_type": "markdown",
   "metadata": {},
   "source": [
    "### QUAST&Icarus"
   ]
  },
  {
   "cell_type": "markdown",
   "metadata": {},
   "source": [
    "http://cab.spbu.ru/software/quast/"
   ]
  },
  {
   "cell_type": "markdown",
   "metadata": {},
   "source": [
    "http://cab.spbu.ru/software/icarus/"
   ]
  },
  {
   "cell_type": "code",
   "execution_count": 7,
   "metadata": {
    "collapsed": true,
    "jupyter": {
     "outputs_hidden": true
    }
   },
   "outputs": [
    {
     "name": "stdout",
     "output_type": "stream",
     "text": [
      "QUAST: Quality Assessment Tool for Genome Assemblies\n",
      "Version: 5.0.2\n",
      "\n",
      "Usage: python /home/junyuchen/Biosoft/anaconda3/envs/phage/bin/quast.py [options] <files_with_contigs>\n",
      "\n",
      "Options:\n",
      "-o  --output-dir  <dirname>       Directory to store all result files [default: quast_results/results_<datetime>]\n",
      "-r                <filename>      Reference genome file\n",
      "-g  --features [type:]<filename>  File with genomic feature coordinates in the reference (GFF, BED, NCBI or TXT)\n",
      "                                  Optional 'type' can be specified for extracting only a specific feature type from GFF\n",
      "-m  --min-contig  <int>           Lower threshold for contig length [default: 500]\n",
      "-t  --threads     <int>           Maximum number of threads [default: 25% of CPUs]\n",
      "\n",
      "Advanced options:\n",
      "-s  --split-scaffolds                 Split assemblies by continuous fragments of N's and add such \"contigs\" to the comparison\n",
      "-l  --labels \"label, label, ...\"      Names of assemblies to use in reports, comma-separated. If contain spaces, use quotes\n",
      "-L                                    Take assembly names from their parent directory names\n",
      "-e  --eukaryote                       Genome is eukaryotic (primarily affects gene prediction)\n",
      "    --fungus                          Genome is fungal (primarily affects gene prediction)\n",
      "    --large                           Use optimal parameters for evaluation of large genomes\n",
      "                                      In particular, imposes '-e -m 3000 -i 500 -x 7000' (can be overridden manually)\n",
      "-k  --k-mer-stats                     Compute k-mer-based quality metrics (recommended for large genomes)\n",
      "                                      This may significantly increase memory and time consumption on large genomes\n",
      "    --k-mer-size                      Size of k used in --k-mer-stats [default: 101]\n",
      "    --circos                          Draw Circos plot\n",
      "-f  --gene-finding                    Predict genes using GeneMarkS (prokaryotes, default) or GeneMark-ES (eukaryotes, use --eukaryote)\n",
      "    --mgm                             Use MetaGeneMark for gene prediction (instead of the default finder, see above)\n",
      "    --glimmer                         Use GlimmerHMM for gene prediction (instead of the default finder, see above)\n",
      "    --gene-thresholds <int,int,...>   Comma-separated list of threshold lengths of genes to search with Gene Finding module\n",
      "                                      [default: 0,300,1500,3000]\n",
      "    --rna-finding                     Predict ribosomal RNA genes using Barrnap\n",
      "-b  --conserved-genes-finding         Count conserved orthologs using BUSCO (only on Linux)\n",
      "    --operons  <filename>             File with operon coordinates in the reference (GFF, BED, NCBI or TXT)\n",
      "    --est-ref-size <int>              Estimated reference size (for computing NGx metrics without a reference)\n",
      "    --contig-thresholds <int,int,...> Comma-separated list of contig length thresholds [default: 0,1000,5000,10000,25000,50000]\n",
      "-u  --use-all-alignments              Compute genome fraction, # genes, # operons in QUAST v1.* style.\n",
      "                                      By default, QUAST filters Minimap's alignments to keep only best ones\n",
      "-i  --min-alignment <int>             The minimum alignment length [default: 65]\n",
      "    --min-identity <float>            The minimum alignment identity (80.0, 100.0) [default: 95.0]\n",
      "-a  --ambiguity-usage <none|one|all>  Use none, one, or all alignments of a contig when all of them\n",
      "                                      are almost equally good (see --ambiguity-score) [default: one]\n",
      "    --ambiguity-score <float>         Score S for defining equally good alignments of a single contig. All alignments are sorted \n",
      "                                      by decreasing LEN * IDY% value. All alignments with LEN * IDY% < S * best(LEN * IDY%) are \n",
      "                                      discarded. S should be between 0.8 and 1.0 [default: 0.99]\n",
      "    --strict-NA                       Break contigs in any misassembly event when compute NAx and NGAx.\n",
      "                                      By default, QUAST breaks contigs only by extensive misassemblies (not local ones)\n",
      "-x  --extensive-mis-size  <int>       Lower threshold for extensive misassembly size. All relocations with inconsistency\n",
      "                                      less than extensive-mis-size are counted as local misassemblies [default: 1000]\n",
      "    --scaffold-gap-max-size  <int>    Max allowed scaffold gap length difference. All relocations with inconsistency\n",
      "                                      less than scaffold-gap-size are counted as scaffold gap misassemblies [default: 10000]\n",
      "    --unaligned-part-size  <int>      Lower threshold for detecting partially unaligned contigs. Such contig should have\n",
      "                                      at least one unaligned fragment >= the threshold [default: 500]\n",
      "    --skip-unaligned-mis-contigs      Do not distinguish contigs with >= 50% unaligned bases as a separate group\n",
      "                                      By default, QUAST does not count misassemblies in them\n",
      "    --fragmented                      Reference genome may be fragmented into small pieces (e.g. scaffolded reference) \n",
      "    --fragmented-max-indent  <int>    Mark translocation as fake if both alignments are located no further than N bases \n",
      "                                      from the ends of the reference fragments [default: 85]\n",
      "                                      Requires --fragmented option\n",
      "    --upper-bound-assembly            Simulate upper bound assembly based on the reference genome and reads\n",
      "    --upper-bound-min-con  <int>      Minimal number of 'connecting reads' needed for joining upper bound contigs into a scaffold\n",
      "                                      [default: 2 for mate-pairs and 1 for long reads]\n",
      "    --est-insert-size  <int>          Use provided insert size in upper bound assembly simulation [default: auto detect from reads or 255]\n",
      "    --plots-format  <str>             Save plots in specified format [default: pdf].\n",
      "                                      Supported formats: emf, eps, pdf, png, ps, raw, rgba, svg, svgz\n",
      "    --memory-efficient                Run everything using one thread, separately per each assembly.\n",
      "                                      This may significantly reduce memory consumption on large genomes\n",
      "    --space-efficient                 Create only reports and plots files. Aux files including .stdout, .stderr, .coords will not be created.\n",
      "                                      This may significantly reduce space consumption on large genomes. Icarus viewers also will not be built\n",
      "-1  --pe1     <filename>              File with forward paired-end reads (in FASTQ format, may be gzipped)\n",
      "-2  --pe2     <filename>              File with reverse paired-end reads (in FASTQ format, may be gzipped)\n",
      "    --pe12    <filename>              File with interlaced forward and reverse paired-end reads. (in FASTQ format, may be gzipped)\n",
      "    --mp1     <filename>              File with forward mate-pair reads (in FASTQ format, may be gzipped)\n",
      "    --mp2     <filename>              File with reverse mate-pair reads (in FASTQ format, may be gzipped)\n",
      "    --mp12    <filename>              File with interlaced forward and reverse mate-pair reads (in FASTQ format, may be gzipped)\n",
      "    --single  <filename>              File with unpaired short reads (in FASTQ format, may be gzipped)\n",
      "    --pacbio     <filename>           File with PacBio reads (in FASTQ format, may be gzipped)\n",
      "    --nanopore   <filename>           File with Oxford Nanopore reads (in FASTQ format, may be gzipped)\n",
      "    --ref-sam <filename>              SAM alignment file obtained by aligning reads to reference genome file\n",
      "    --ref-bam <filename>              BAM alignment file obtained by aligning reads to reference genome file\n",
      "    --sam     <filename,filename,...> Comma-separated list of SAM alignment files obtained by aligning reads to assemblies\n",
      "                                      (use the same order as for files with contigs)\n",
      "    --bam     <filename,filename,...> Comma-separated list of BAM alignment files obtained by aligning reads to assemblies\n",
      "                                      (use the same order as for files with contigs)\n",
      "                                      Reads (or SAM/BAM file) are used for structural variation detection and\n",
      "                                      coverage histogram building in Icarus\n",
      "    --sv-bedpe  <filename>            File with structural variations (in BEDPE format)\n",
      "\n",
      "Speedup options:\n",
      "    --no-check                        Do not check and correct input fasta files. Use at your own risk (see manual)\n",
      "    --no-plots                        Do not draw plots\n",
      "    --no-html                         Do not build html reports and Icarus viewers\n",
      "    --no-icarus                       Do not build Icarus viewers\n",
      "    --no-snps                         Do not report SNPs (may significantly reduce memory consumption on large genomes)\n",
      "    --no-gc                           Do not compute GC% and GC-distribution\n",
      "    --no-sv                           Do not run structural variation detection (make sense only if reads are specified)\n",
      "    --no-gzip                         Do not compress large output files\n",
      "    --no-read-stats                   Do not align reads to assemblies\n",
      "                                      Reads will be aligned to reference and used for coverage analysis,\n",
      "                                      upper bound assembly simulation, and structural variation detection.\n",
      "                                      Use this option if you do not need read statistics for assemblies.\n",
      "    --fast                            A combination of all speedup options except --no-check\n",
      "\n",
      "Other:\n",
      "    --silent                          Do not print detailed information about each step to stdout (log file is not affected)\n",
      "    --test                            Run QUAST on the data from the test_data folder, output to quast_test_output\n",
      "    --test-sv                         Run QUAST with structural variants detection on the data from the test_data folder,\n",
      "                                      output to quast_test_output\n",
      "-h  --help                            Print full usage message\n",
      "-v  --version                         Print version\n",
      "\n",
      "Online QUAST manual is available at http://quast.sf.net/manual\n",
      "(phage) "
     ]
    },
    {
     "ename": "",
     "evalue": "1",
     "output_type": "error",
     "traceback": []
    }
   ],
   "source": [
    "quast.py -h"
   ]
  },
  {
   "cell_type": "markdown",
   "metadata": {},
   "source": [
    "quast.py /home/junyuchen/Lab/Phage-SOP/Result/Assembly-2020-06-13/Quast/CD1382_spades.fasta /home/junyuchen/Lab/Phage-SOP/Result/Assembly-2020-06-13/Quast/CD1382_soap.fasta -1 /home/junyuchen/Lab/Phage-SOP/rawdata/jtshen-2020-06-13/CD1382_FDSW202399938-1r_1.clean.fq -2 /home/junyuchen/Lab/Phage-SOP/rawdata/jtshen-2020-06-13/CD1382_FDSW202399938-1r_2.clean.fq -o quast_CD1382"
   ]
  },
  {
   "cell_type": "code",
   "execution_count": 8,
   "metadata": {},
   "outputs": [
    {
     "name": "stdout",
     "output_type": "stream",
     "text": [
      "CD1382_soap.fasta  CD1382_spades.fasta\n",
      "(phage) "
     ]
    },
    {
     "ename": "",
     "evalue": "1",
     "output_type": "error",
     "traceback": []
    }
   ],
   "source": [
    "ls /home/junyuchen/Lab/Phage-SOP/Result/Assembly-2020-06-13/Quast"
   ]
  },
  {
   "cell_type": "code",
   "execution_count": null,
   "metadata": {},
   "outputs": [],
   "source": [
    "cp /home/junyuchen/Lab/Phage-SOP/Result/Assembly-2020-06-13/CD1382_FDSW202399938-1r/scaffolds.fasta ./CD1382_soap.fasta"
   ]
  },
  {
   "cell_type": "code",
   "execution_count": null,
   "metadata": {},
   "outputs": [],
   "source": [
    "cp /home/jtshen/CD1382_FDSW202399938-1r/49/CD1382_FDSW202399938-1r-49.scafSeq ./CD1382_spades.fasta"
   ]
  },
  {
   "cell_type": "markdown",
   "metadata": {},
   "source": [
    "```shell\n",
    "python /home/junyuchen/Lab/Phage-SOP/Scripts/Assembly_quick.py -i /home/junyuchen/Lab/Phage-SOP/rawdata/jtshen-2020-06-13 -o /home/junyuchen/Lab/Phage-SOP/Result/Assembly-2020-06-14\n",
    "```"
   ]
  },
  {
   "cell_type": "markdown",
   "metadata": {},
   "source": [
    "评估spades 不同k-mer 的拼装效果"
   ]
  },
  {
   "cell_type": "markdown",
   "metadata": {},
   "source": [
    "meta-spades 拼装测试"
   ]
  },
  {
   "cell_type": "markdown",
   "metadata": {},
   "source": [
    "soap&spades 相同k-mer 比较"
   ]
  },
  {
   "cell_type": "markdown",
   "metadata": {},
   "source": [
    "### Bandage"
   ]
  },
  {
   "cell_type": "markdown",
   "metadata": {},
   "source": [
    "http://rrwick.github.io/Bandage/"
   ]
  },
  {
   "cell_type": "markdown",
   "metadata": {},
   "source": [
    "https://github.com/rrwick/Bandage"
   ]
  },
  {
   "cell_type": "markdown",
   "metadata": {},
   "source": [
    "we can use Bandage to preview the assembly graphs made by SPAdes"
   ]
  },
  {
   "cell_type": "code",
   "execution_count": null,
   "metadata": {},
   "outputs": [],
   "source": [
    "/home/junyuchen/Biosoft/Bandage load assembly_graph.fastg --draw"
   ]
  },
  {
   "cell_type": "code",
   "execution_count": null,
   "metadata": {},
   "outputs": [],
   "source": [
    "/home/junyuchen/Biosoft/Bandage image assembly_graph.fastg image.jpg"
   ]
  },
  {
   "cell_type": "code",
   "execution_count": null,
   "metadata": {},
   "outputs": [],
   "source": [
    "Bandage image /home/junyuchen/Lab/Phage-SOP/Result/Assembly-2020-06-13/CD1382_FDSW202399938-1r/assembly_graph.fastg CD1382.jpg"
   ]
  },
  {
   "cell_type": "code",
   "execution_count": null,
   "metadata": {},
   "outputs": [],
   "source": [
    "Bandage image /home/junyuchen/Lab/Phage-SOP/Result/Assembly-2020-06-13/CD1382_FDSW202399938-1r/assembly_graph.fastg CD1382.svg"
   ]
  },
  {
   "cell_type": "markdown",
   "metadata": {},
   "source": [
    "### SAMtools: get breadth of coverage"
   ]
  },
  {
   "cell_type": "markdown",
   "metadata": {},
   "source": [
    "http://www.metagenomics.wiki/tools/samtools/breadth-of-coverage"
   ]
  },
  {
   "cell_type": "code",
   "execution_count": null,
   "metadata": {},
   "outputs": [],
   "source": []
  },
  {
   "cell_type": "markdown",
   "metadata": {},
   "source": [
    "### Bwa mem "
   ]
  },
  {
   "cell_type": "markdown",
   "metadata": {},
   "source": [
    "which DNA read went where?"
   ]
  },
  {
   "cell_type": "markdown",
   "metadata": {},
   "source": [
    "aligning DNA sequencing reads back to your contigs"
   ]
  },
  {
   "cell_type": "markdown",
   "metadata": {},
   "source": [
    "http://millardlab.org/bioinformatics/lab_server/read-mapping-to-phage-contigs/"
   ]
  },
  {
   "cell_type": "markdown",
   "metadata": {},
   "source": [
    "By mapping back to pahge contigs, we can know the coverage of our DNA seq   \n",
    "Coverage information will be needed for submission of sequences to EBI"
   ]
  },
  {
   "cell_type": "markdown",
   "metadata": {},
   "source": [
    "`bwa index scaffolds.fasta`"
   ]
  },
  {
   "cell_type": "markdown",
   "metadata": {},
   "source": [
    "`bwa mem scaffolds.fasta -t 16 ../../R1.fq ../../R2.fq`"
   ]
  },
  {
   "cell_type": "markdown",
   "metadata": {},
   "source": [
    "```shell\n",
    "bwa mem scaffolds.fasta -t 16 ../../R1.fq ../../R2.fq | samtools view -bS -F4 - | samtools sort - -o out.bam\n",
    "```"
   ]
  },
  {
   "cell_type": "code",
   "execution_count": null,
   "metadata": {},
   "outputs": [],
   "source": []
  },
  {
   "cell_type": "markdown",
   "metadata": {},
   "source": [
    "## Phage Genome Annotation"
   ]
  },
  {
   "cell_type": "markdown",
   "metadata": {},
   "source": [
    "### prokka"
   ]
  },
  {
   "cell_type": "markdown",
   "metadata": {},
   "source": [
    "https://github.com/tseemann/prokka"
   ]
  },
  {
   "cell_type": "code",
   "execution_count": null,
   "metadata": {},
   "outputs": [],
   "source": [
    "prokka --outdir mydir --prefix Phage contigs.fa"
   ]
  },
  {
   "cell_type": "code",
   "execution_count": 1,
   "metadata": {},
   "outputs": [
    {
     "name": "stdout",
     "output_type": "stream",
     "text": [
      "(phage) "
     ]
    },
    {
     "ename": "",
     "evalue": "1",
     "output_type": "error",
     "traceback": []
    }
   ],
   "source": [
    "conda activate phage"
   ]
  },
  {
   "cell_type": "markdown",
   "metadata": {},
   "source": [
    "A small, core set of well characterized proteins are first searched using BLAST+. This combination of small database and fast search typically completes about 70% of the workload. Then a series of slower but more sensitive HMM databases are searched using HMMER3."
   ]
  },
  {
   "cell_type": "markdown",
   "metadata": {},
   "source": [
    "For each --kingdom we include curated proteins with evidence that (i) from Bacteria (or Archaea or Viruses); (ii) not be \"Fragment\" entries; and (iii) have an evidence level (\"PE\") of 2 or lower, which corresponds to experimental mRNA or proteomics evidence."
   ]
  },
  {
   "cell_type": "markdown",
   "metadata": {},
   "source": [
    "1. An optional user-provided set of annotated proteins.\n",
    "2. All bacterial proteins in UniProt\n",
    "3. A series of hidden Markov model profile databases, including Pfam\n",
    "4. If no matches can be found, label as ‘hypothetical protein’."
   ]
  },
  {
   "cell_type": "code",
   "execution_count": null,
   "metadata": {},
   "outputs": [],
   "source": []
  },
  {
   "cell_type": "markdown",
   "metadata": {},
   "source": [
    "- Prodigal - Finds protein-coding features (CDS)\n",
    "- BLAST+ - Used for similarity searching against protein sequence libraries\n",
    "- HMMER3 - Used for similarity searching against protein family profiles\n",
    "- minced - Finds CRISPR arrays Minced home page"
   ]
  },
  {
   "cell_type": "markdown",
   "metadata": {},
   "source": [
    "### Viruses (17008 results) "
   ]
  },
  {
   "cell_type": "markdown",
   "metadata": {},
   "source": [
    "Reviewed (Swiss-Prot) - Manually annotated "
   ]
  },
  {
   "cell_type": "code",
   "execution_count": null,
   "metadata": {},
   "outputs": [],
   "source": []
  },
  {
   "cell_type": "code",
   "execution_count": 6,
   "metadata": {},
   "outputs": [
    {
     "name": "stdout",
     "output_type": "stream",
     "text": [
      "[16:23:04] Looking for databases in: /home/junyuchen/Biosoft/anaconda3/envs/phage/db\n",
      "[16:23:04] * Kingdoms: Archaea Bacteria Mitochondria Viruses\n",
      "[16:23:05] * Genera: Enterococcus Escherichia Staphylococcus\n",
      "[16:23:05] * HMMs: HAMAP\n",
      "[16:23:05] * CMs: Archaea Bacteria Viruses\n",
      "(phage) "
     ]
    },
    {
     "ename": "",
     "evalue": "1",
     "output_type": "error",
     "traceback": []
    }
   ],
   "source": [
    "prokka --listdb"
   ]
  },
  {
   "cell_type": "markdown",
   "metadata": {},
   "source": [
    "#### HMMs: HAMAP "
   ]
  },
  {
   "cell_type": "markdown",
   "metadata": {},
   "source": [
    "hmm可能会准一点"
   ]
  },
  {
   "cell_type": "markdown",
   "metadata": {},
   "source": [
    "VOG HMM Profiles | HMM (9,518)"
   ]
  },
  {
   "cell_type": "code",
   "execution_count": null,
   "metadata": {},
   "outputs": [],
   "source": [
    "Virus Orthologous Groups"
   ]
  },
  {
   "cell_type": "code",
   "execution_count": null,
   "metadata": {},
   "outputs": [],
   "source": [
    "HMM (9,518)"
   ]
  },
  {
   "cell_type": "code",
   "execution_count": null,
   "metadata": {},
   "outputs": [],
   "source": [
    "cp /home/junyuchen/Lab/Phage-SOP/Database/VOGs/* /home/junyuchen/Biosoft/anaconda3/envs/phage/db/hmm"
   ]
  },
  {
   "cell_type": "code",
   "execution_count": 2,
   "metadata": {},
   "outputs": [
    {
     "name": "stdout",
     "output_type": "stream",
     "text": [
      "[21:15:27] Looking for databases in: /home/junyuchen/Biosoft/anaconda3/envs/phage/db\n",
      "[21:15:27] * Kingdoms: Archaea Bacteria Mitochondria Viruses\n",
      "[21:15:27] * Genera: Enterococcus Escherichia Staphylococcus\n",
      "[21:15:27] * HMMs: HAMAP VOGs\n",
      "[21:15:27] * CMs: Archaea Bacteria Viruses\n",
      "(phage) "
     ]
    },
    {
     "ename": "",
     "evalue": "1",
     "output_type": "error",
     "traceback": []
    }
   ],
   "source": [
    "prokka --listdb"
   ]
  },
  {
   "cell_type": "code",
   "execution_count": 3,
   "metadata": {},
   "outputs": [
    {
     "name": "stdout",
     "output_type": "stream",
     "text": [
      "Option h is ambiguous (help, hmms)\n",
      "Name:\n",
      "  Prokka 1.14.6 by Torsten Seemann <torsten.seemann@gmail.com>\n",
      "Synopsis:\n",
      "  rapid bacterial genome annotation\n",
      "Usage:\n",
      "  prokka [options] <contigs.fasta>\n",
      "General:\n",
      "  --help             This help\n",
      "  --version          Print version and exit\n",
      "  --citation         Print citation for referencing Prokka\n",
      "  --quiet            No screen output (default OFF)\n",
      "  --debug            Debug mode: keep all temporary files (default OFF)\n",
      "Setup:\n",
      "  --dbdir [X]        Prokka database root folders (default '/home/junyuchen/Biosoft/anaconda3/envs/phage/db')\n",
      "  --listdb           List all configured databases\n",
      "  --setupdb          Index all installed databases\n",
      "  --cleandb          Remove all database indices\n",
      "  --depends          List all software dependencies\n",
      "Outputs:\n",
      "  --outdir [X]       Output folder [auto] (default '')\n",
      "  --force            Force overwriting existing output folder (default OFF)\n",
      "  --prefix [X]       Filename output prefix [auto] (default '')\n",
      "  --addgenes         Add 'gene' features for each 'CDS' feature (default OFF)\n",
      "  --addmrna          Add 'mRNA' features for each 'CDS' feature (default OFF)\n",
      "  --locustag [X]     Locus tag prefix [auto] (default '')\n",
      "  --increment [N]    Locus tag counter increment (default '1')\n",
      "  --gffver [N]       GFF version (default '3')\n",
      "  --compliant        Force Genbank/ENA/DDJB compliance: --addgenes --mincontiglen 200 --centre XXX (default OFF)\n",
      "  --centre [X]       Sequencing centre ID. (default '')\n",
      "  --accver [N]       Version to put in Genbank file (default '1')\n",
      "Organism details:\n",
      "  --genus [X]        Genus name (default 'Genus')\n",
      "  --species [X]      Species name (default 'species')\n",
      "  --strain [X]       Strain name (default 'strain')\n",
      "  --plasmid [X]      Plasmid name or identifier (default '')\n",
      "Annotations:\n",
      "  --kingdom [X]      Annotation mode: Archaea|Bacteria|Mitochondria|Viruses (default 'Bacteria')\n",
      "  --gcode [N]        Genetic code / Translation table (set if --kingdom is set) (default '0')\n",
      "  --prodigaltf [X]   Prodigal training file (default '')\n",
      "  --gram [X]         Gram: -/neg +/pos (default '')\n",
      "  --usegenus         Use genus-specific BLAST databases (needs --genus) (default OFF)\n",
      "  --proteins [X]     FASTA or GBK file to use as 1st priority (default '')\n",
      "  --hmms [X]         Trusted HMM to first annotate from (default '')\n",
      "  --metagenome       Improve gene predictions for highly fragmented genomes (default OFF)\n",
      "  --rawproduct       Do not clean up /product annotation (default OFF)\n",
      "  --cdsrnaolap       Allow [tr]RNA to overlap CDS (default OFF)\n",
      "Matching:\n",
      "  --evalue [n.n]     Similarity e-value cut-off (default '1e-09')\n",
      "  --coverage [n.n]   Minimum coverage on query protein (default '80')\n",
      "Computation:\n",
      "  --cpus [N]         Number of CPUs to use [0=all] (default '8')\n",
      "  --fast             Fast mode - only use basic BLASTP databases (default OFF)\n",
      "  --noanno           For CDS just set /product=\"unannotated protein\" (default OFF)\n",
      "  --mincontiglen [N] Minimum contig size [NCBI needs 200] (default '1')\n",
      "  --rfam             Enable searching for ncRNAs with Infernal+Rfam (SLOW!) (default '0')\n",
      "  --norrna           Don't run rRNA search (default OFF)\n",
      "  --notrna           Don't run tRNA search (default OFF)\n",
      "  --rnammer          Prefer RNAmmer over Barrnap for rRNA prediction (default OFF)\n",
      "(phage) "
     ]
    },
    {
     "ename": "",
     "evalue": "1",
     "output_type": "error",
     "traceback": []
    }
   ],
   "source": [
    "prokka -h"
   ]
  },
  {
   "cell_type": "markdown",
   "metadata": {},
   "source": [
    "#### cm"
   ]
  },
  {
   "cell_type": "markdown",
   "metadata": {},
   "source": [
    "The `Rfam` database is a collection of RNA families"
   ]
  },
  {
   "cell_type": "markdown",
   "metadata": {},
   "source": [
    "The `.cm` files in this folder were generated by extracting only those Rfam entries that\n",
    "had members from the Bacteria, Viruses, and Archaea divisions (based on their taxonomy\n",
    "description in the public Rfam MySQL database)."
   ]
  },
  {
   "cell_type": "code",
   "execution_count": null,
   "metadata": {},
   "outputs": [],
   "source": []
  },
  {
   "cell_type": "markdown",
   "metadata": {},
   "source": [
    "`/home/junyuchen/Lab/Phage-SOP/Result/Assembly-2020-06-13/Quast/CD1382_spades.fasta`   \n",
    "`/home/junyuchen/Lab/Phage-SOP/Result/Assembly-2020-06-13/Quast/CD1382_soap.fasta`"
   ]
  },
  {
   "cell_type": "code",
   "execution_count": null,
   "metadata": {},
   "outputs": [],
   "source": [
    "prokka --kingdom Viruses --prefix Phage --outdir prokka/CD1382_spades /home/junyuchen/Lab/Phage-SOP/Result/Assembly-2020-06-13/Quast/CD1382_spades.fasta"
   ]
  },
  {
   "cell_type": "code",
   "execution_count": null,
   "metadata": {},
   "outputs": [],
   "source": [
    "prokka --kingdom Viruses --prefix Phage --addgenes --outdir prokka/CD1382_spades ./Quast-spades-kmer/CD1382_metaspades.fasta"
   ]
  },
  {
   "cell_type": "markdown",
   "metadata": {},
   "source": [
    "## phage-host interactions"
   ]
  },
  {
   "cell_type": "markdown",
   "metadata": {},
   "source": [
    "Predict phage-host interactions based on Oligonucleotide profile analysis"
   ]
  },
  {
   "cell_type": "markdown",
   "metadata": {},
   "source": [
    "http://www.microbiome-bigdata.com/PHISDetector/index/"
   ]
  },
  {
   "cell_type": "markdown",
   "metadata": {},
   "source": [
    "http://www.microbiome-bigdata.com/PHISDetector/index/download"
   ]
  },
  {
   "cell_type": "markdown",
   "metadata": {},
   "source": [
    "### SOAPdenovo2"
   ]
  },
  {
   "cell_type": "markdown",
   "metadata": {},
   "source": [
    "https://github.com/aquaskyline/SOAPdenovo2"
   ]
  },
  {
   "cell_type": "code",
   "execution_count": null,
   "metadata": {},
   "outputs": [],
   "source": [
    "for i in `cat list2`;do mkdir $i;for m in `cat 1.txt`;do mkdir $i/$m;/home/liuquan/software/SOAPdenovo2-master/SOAPdenovo-63mer all -s $i.lib -K $m -o $i/$m/$i-$m;done;done"
   ]
  },
  {
   "cell_type": "markdown",
   "metadata": {},
   "source": [
    "list2 样品的list   \n",
    "1.txt kmer   \n",
    "/home/hrzhang/zhaomin"
   ]
  },
  {
   "cell_type": "markdown",
   "metadata": {},
   "source": [
    "### MARVEL"
   ]
  },
  {
   "cell_type": "markdown",
   "metadata": {},
   "source": [
    "https://github.com/schloi/MARVEL"
   ]
  },
  {
   "cell_type": "code",
   "execution_count": null,
   "metadata": {},
   "outputs": [],
   "source": []
  },
  {
   "cell_type": "markdown",
   "metadata": {},
   "source": [
    "## Annotation"
   ]
  },
  {
   "cell_type": "markdown",
   "metadata": {},
   "source": [
    "### Diamond"
   ]
  },
  {
   "cell_type": "markdown",
   "metadata": {},
   "source": [
    "http://www.diamondsearch.org/index.php"
   ]
  },
  {
   "cell_type": "markdown",
   "metadata": {},
   "source": [
    "#### e.g."
   ]
  },
  {
   "cell_type": "markdown",
   "metadata": {},
   "source": [
    "```shell\n",
    "diamond blastp --db /home/malab/databases_of_malab/nr/nr --query Y4A2proteins.fasta --out Y4A2proteins_annatation.out --evalue 1e-05 --outfmt 6 --max-target-seqs 1 --threads 10\n",
    "```"
   ]
  },
  {
   "cell_type": "code",
   "execution_count": null,
   "metadata": {},
   "outputs": [],
   "source": []
  },
  {
   "cell_type": "markdown",
   "metadata": {},
   "source": [
    "#### Argument:\n",
    "\n",
    "-  `--db/-d <file>`\n",
    "\n",
    "    Path to the DIAMOND database file.\n",
    "\n",
    "-  `--query/-q <file>`\n",
    "\n",
    "    Path to the query input file in FASTA or FASTQ format (may be gzip compressed). If this parameter is omitted, the input will be read from `stdin`.\n",
    "\n",
    "-  `--out/-o <file>`\n",
    "\n",
    "    Path to the output file. If this parameter is omitted, the results will be written to the standard output and all other program output will be suppressed.\n",
    "\n",
    "-  `--evalue/-e #`\n",
    "\n",
    "    Maximum expected value to report an alignment (default=0.001).\n",
    "    \n",
    "-  `--outfmt/-f 6`  \n",
    "\n",
    "    BLAST tabular format (default). This format can be customized, the `6` may be followed by a space-separated list of the following keywords, each specifying a field of the output.\n",
    "\n",
    "-  `--max-target-seqs/-k #`\n",
    "\n",
    "    The maximum number of target sequences per query to report alignments for (default=25). Setting this to 0 will report all alignments that were found.\n",
    "\n",
    "-  `--threads/-p #`\n",
    "\n",
    "    Number of CPU threads. By default, the program will auto-detect and use all available virtual cores on the machine."
   ]
  },
  {
   "cell_type": "markdown",
   "metadata": {},
   "source": [
    "#### DataBase"
   ]
  },
  {
   "cell_type": "markdown",
   "metadata": {},
   "source": [
    "nr: `/home/malab/databases_of_malab/nr/nr.dmnd`"
   ]
  },
  {
   "cell_type": "markdown",
   "metadata": {},
   "source": [
    "### blastp"
   ]
  },
  {
   "cell_type": "markdown",
   "metadata": {},
   "source": [
    "#### e.g."
   ]
  },
  {
   "cell_type": "markdown",
   "metadata": {},
   "source": [
    "```shell\n",
    "blastp -db /home/malab/databases_of_malab/bacteria_genome/all.faa -query Y4A2proteins.fasta  -out Y4A2proteins_annatation.out -evalue 1e-05 -outfmt 6 -max_target_seqs 1 -num_threads 10\n",
    "```"
   ]
  },
  {
   "cell_type": "markdown",
   "metadata": {},
   "source": [
    "#### Argument:\n",
    "    Same as diamond"
   ]
  },
  {
   "cell_type": "markdown",
   "metadata": {},
   "source": [
    "#### DataBase"
   ]
  },
  {
   "cell_type": "markdown",
   "metadata": {},
   "source": [
    "nr: `/home/malab/databases_of_malab/nr/nr`"
   ]
  },
  {
   "cell_type": "markdown",
   "metadata": {},
   "source": [
    "## Appendix"
   ]
  },
  {
   "cell_type": "markdown",
   "metadata": {},
   "source": [
    "### Custom DataBase"
   ]
  },
  {
   "cell_type": "markdown",
   "metadata": {},
   "source": [
    "`diamond makedb --in aa.fasta -d aa.fasta`"
   ]
  },
  {
   "cell_type": "markdown",
   "metadata": {},
   "source": [
    "`makeblastdb -in nr.fasta  -dbtype nucl`"
   ]
  },
  {
   "cell_type": "markdown",
   "metadata": {},
   "source": [
    "### BLAST tabular format"
   ]
  },
  {
   "cell_type": "markdown",
   "metadata": {},
   "source": [
    "By default, there are 12 preconfigured fields:   \n",
    "`qseqid sseqid pident length mismatch gapopen qstart qend sstart send evalue bitscore`"
   ]
  },
  {
   "cell_type": "markdown",
   "metadata": {},
   "source": [
    "* `qseqid` Query Seq - id\n",
    "\n",
    "* `sseqid` Subject Seq - id\n",
    "\n",
    "* `pident` Percentage of identical matches\n",
    "\n",
    "* `length` Alignment length\n",
    "\n",
    "* `mismatch` Number of mismatches\n",
    "\n",
    "* `gapopen` Number of gap openings\n",
    "\n",
    "* `qstart` Start of alignment in query\n",
    "\n",
    "* `qend` End of alignment in query\n",
    "\n",
    "* `sstart` Start of alignment in subject\n",
    "\n",
    "* `send` End of alignment in subject\n",
    "\n",
    "* `evalue` Expect value\n",
    "\n",
    "* `bitscore` Bit score"
   ]
  },
  {
   "cell_type": "code",
   "execution_count": null,
   "metadata": {},
   "outputs": [],
   "source": []
  }
 ],
 "metadata": {
  "kernelspec": {
   "display_name": "Bash",
   "language": "bash",
   "name": "bash"
  },
  "language_info": {
   "codemirror_mode": "shell",
   "file_extension": ".sh",
   "mimetype": "text/x-sh",
   "name": "bash"
  }
 },
 "nbformat": 4,
 "nbformat_minor": 4
}
