{
 "cells": [
  {
   "cell_type": "markdown",
   "metadata": {},
   "source": [
    "## spades"
   ]
  },
  {
   "cell_type": "markdown",
   "metadata": {},
   "source": [
    "```shell\n",
    "spades.py --isolate -1 /home/junyuchen/Lab/Phage-SOP/rawdata/jtshen-2020-06-13/CD1382_FDSW202399938-1r_1.clean.fq -2 /home/junyuchen/Lab/Phage-SOP/rawdata/jtshen-2020-06-13/CD1382_FDSW202399938-1r_2.clean.fq -o /home/junyuchen/Lab/Phage-SOP/Result/Assembly-2020-06-13/CD1382_FDSW202399938-1r\n",
    "```"
   ]
  },
  {
   "cell_type": "markdown",
   "metadata": {},
   "source": [
    "```shell\n",
    "spades.py --isolate -1 /home/junyuchen/Lab/Phage-SOP/rawdata/jtshen-2020-06-13/BT_FDSW202399939-1r_1.clean.fq -2 /home/junyuchen/Lab/Phage-SOP/rawdata/jtshen-2020-06-13/BT_FDSW202399939-1r_2.clean.fq -o /home/junyuchen/Lab/Phage-SOP/Result/Assembly-2020-06-13/BT_FDSW202399939-1r\n",
    "```"
   ]
  },
  {
   "cell_type": "markdown",
   "metadata": {},
   "source": [
    "```shell\n",
    "python /home/junyuchen/Lab/Phage-SOP/Scripts/Assembly_quick.py -i /home/junyuchen/Lab/Phage-SOP/rawdata/jtshen-2020-06-13 -o /home/junyuchen/Lab/Phage-SOP/Result/Assembly-2020-06-14\n",
    "```"
   ]
  },
  {
   "cell_type": "markdown",
   "metadata": {},
   "source": [
    "## metaspades"
   ]
  },
  {
   "cell_type": "code",
   "execution_count": null,
   "metadata": {},
   "outputs": [],
   "source": [
    "python /home/junyuchen/Lab/Phage-SOP/Scripts/Assembly_quick.py"
   ]
  },
  {
   "cell_type": "markdown",
   "metadata": {},
   "source": [
    "```shell\n",
    "python /home/junyuchen/Lab/Phage-SOP/Scripts/Assembly_quick.py -i /home/junyuchen/Lab/Phage-SOP/rawdata/jtshen-2020-06-13 -o /home/junyuchen/Lab/Phage-SOP/Result/Meta-spades-test\n",
    "```"
   ]
  },
  {
   "cell_type": "code",
   "execution_count": null,
   "metadata": {},
   "outputs": [],
   "source": []
  }
 ],
 "metadata": {
  "kernelspec": {
   "display_name": "Bash",
   "language": "bash",
   "name": "bash"
  },
  "language_info": {
   "codemirror_mode": "shell",
   "file_extension": ".sh",
   "mimetype": "text/x-sh",
   "name": "bash"
  }
 },
 "nbformat": 4,
 "nbformat_minor": 4
}
