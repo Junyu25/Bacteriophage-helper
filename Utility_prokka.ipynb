{
 "cells": [
  {
   "cell_type": "markdown",
   "metadata": {},
   "source": [
    "## Phage Genome Annotation"
   ]
  },
  {
   "cell_type": "markdown",
   "metadata": {},
   "source": [
    "### prokka"
   ]
  },
  {
   "cell_type": "markdown",
   "metadata": {},
   "source": [
    "https://github.com/tseemann/prokka"
   ]
  },
  {
   "cell_type": "code",
   "execution_count": null,
   "metadata": {},
   "outputs": [],
   "source": [
    "prokka --outdir mydir --prefix Phage contigs.fa"
   ]
  },
  {
   "cell_type": "code",
   "execution_count": 1,
   "metadata": {},
   "outputs": [
    {
     "name": "stdout",
     "output_type": "stream",
     "text": [
      "(phage) "
     ]
    },
    {
     "ename": "",
     "evalue": "1",
     "output_type": "error",
     "traceback": []
    }
   ],
   "source": [
    "conda activate phage"
   ]
  },
  {
   "cell_type": "markdown",
   "metadata": {},
   "source": [
    "A small, core set of well characterized proteins are first searched using BLAST+. This combination of small database and fast search typically completes about 70% of the workload. Then a series of slower but more sensitive HMM databases are searched using HMMER3."
   ]
  },
  {
   "cell_type": "markdown",
   "metadata": {},
   "source": [
    "For each --kingdom we include curated proteins with evidence that (i) from Bacteria (or Archaea or Viruses); (ii) not be \"Fragment\" entries; and (iii) have an evidence level (\"PE\") of 2 or lower, which corresponds to experimental mRNA or proteomics evidence."
   ]
  },
  {
   "cell_type": "markdown",
   "metadata": {},
   "source": [
    "1. An optional user-provided set of annotated proteins.\n",
    "2. All bacterial proteins in UniProt\n",
    "3. A series of hidden Markov model profile databases, including Pfam\n",
    "4. If no matches can be found, label as ‘hypothetical protein’."
   ]
  },
  {
   "cell_type": "code",
   "execution_count": null,
   "metadata": {},
   "outputs": [],
   "source": []
  },
  {
   "cell_type": "markdown",
   "metadata": {},
   "source": [
    "- Prodigal - Finds protein-coding features (CDS)\n",
    "- BLAST+ - Used for similarity searching against protein sequence libraries\n",
    "- HMMER3 - Used for similarity searching against protein family profiles\n",
    "- minced - Finds CRISPR arrays Minced home page"
   ]
  },
  {
   "cell_type": "markdown",
   "metadata": {},
   "source": [
    "### Viruses (17008 results) "
   ]
  },
  {
   "cell_type": "markdown",
   "metadata": {},
   "source": [
    "Reviewed (Swiss-Prot) - Manually annotated "
   ]
  },
  {
   "cell_type": "code",
   "execution_count": null,
   "metadata": {},
   "outputs": [],
   "source": []
  },
  {
   "cell_type": "code",
   "execution_count": 6,
   "metadata": {},
   "outputs": [
    {
     "name": "stdout",
     "output_type": "stream",
     "text": [
      "[16:23:04] Looking for databases in: /home/junyuchen/Biosoft/anaconda3/envs/phage/db\n",
      "[16:23:04] * Kingdoms: Archaea Bacteria Mitochondria Viruses\n",
      "[16:23:05] * Genera: Enterococcus Escherichia Staphylococcus\n",
      "[16:23:05] * HMMs: HAMAP\n",
      "[16:23:05] * CMs: Archaea Bacteria Viruses\n",
      "(phage) "
     ]
    },
    {
     "ename": "",
     "evalue": "1",
     "output_type": "error",
     "traceback": []
    }
   ],
   "source": [
    "prokka --listdb"
   ]
  },
  {
   "cell_type": "markdown",
   "metadata": {},
   "source": [
    "#### HMMs: HAMAP "
   ]
  },
  {
   "cell_type": "markdown",
   "metadata": {},
   "source": [
    "hmm可能会准一点"
   ]
  },
  {
   "cell_type": "markdown",
   "metadata": {},
   "source": [
    "VOG HMM Profiles | HMM (9,518)"
   ]
  },
  {
   "cell_type": "code",
   "execution_count": null,
   "metadata": {},
   "outputs": [],
   "source": [
    "Virus Orthologous Groups"
   ]
  },
  {
   "cell_type": "code",
   "execution_count": null,
   "metadata": {},
   "outputs": [],
   "source": [
    "HMM (9,518)"
   ]
  },
  {
   "cell_type": "code",
   "execution_count": null,
   "metadata": {},
   "outputs": [],
   "source": [
    "cp /home/junyuchen/Lab/Phage-SOP/Database/VOGs/* /home/junyuchen/Biosoft/anaconda3/envs/phage/db/hmm"
   ]
  },
  {
   "cell_type": "code",
   "execution_count": 2,
   "metadata": {},
   "outputs": [
    {
     "name": "stdout",
     "output_type": "stream",
     "text": [
      "[21:15:27] Looking for databases in: /home/junyuchen/Biosoft/anaconda3/envs/phage/db\n",
      "[21:15:27] * Kingdoms: Archaea Bacteria Mitochondria Viruses\n",
      "[21:15:27] * Genera: Enterococcus Escherichia Staphylococcus\n",
      "[21:15:27] * HMMs: HAMAP VOGs\n",
      "[21:15:27] * CMs: Archaea Bacteria Viruses\n",
      "(phage) "
     ]
    },
    {
     "ename": "",
     "evalue": "1",
     "output_type": "error",
     "traceback": []
    }
   ],
   "source": [
    "prokka --listdb"
   ]
  },
  {
   "cell_type": "code",
   "execution_count": 3,
   "metadata": {},
   "outputs": [
    {
     "name": "stdout",
     "output_type": "stream",
     "text": [
      "Option h is ambiguous (help, hmms)\n",
      "Name:\n",
      "  Prokka 1.14.6 by Torsten Seemann <torsten.seemann@gmail.com>\n",
      "Synopsis:\n",
      "  rapid bacterial genome annotation\n",
      "Usage:\n",
      "  prokka [options] <contigs.fasta>\n",
      "General:\n",
      "  --help             This help\n",
      "  --version          Print version and exit\n",
      "  --citation         Print citation for referencing Prokka\n",
      "  --quiet            No screen output (default OFF)\n",
      "  --debug            Debug mode: keep all temporary files (default OFF)\n",
      "Setup:\n",
      "  --dbdir [X]        Prokka database root folders (default '/home/junyuchen/Biosoft/anaconda3/envs/phage/db')\n",
      "  --listdb           List all configured databases\n",
      "  --setupdb          Index all installed databases\n",
      "  --cleandb          Remove all database indices\n",
      "  --depends          List all software dependencies\n",
      "Outputs:\n",
      "  --outdir [X]       Output folder [auto] (default '')\n",
      "  --force            Force overwriting existing output folder (default OFF)\n",
      "  --prefix [X]       Filename output prefix [auto] (default '')\n",
      "  --addgenes         Add 'gene' features for each 'CDS' feature (default OFF)\n",
      "  --addmrna          Add 'mRNA' features for each 'CDS' feature (default OFF)\n",
      "  --locustag [X]     Locus tag prefix [auto] (default '')\n",
      "  --increment [N]    Locus tag counter increment (default '1')\n",
      "  --gffver [N]       GFF version (default '3')\n",
      "  --compliant        Force Genbank/ENA/DDJB compliance: --addgenes --mincontiglen 200 --centre XXX (default OFF)\n",
      "  --centre [X]       Sequencing centre ID. (default '')\n",
      "  --accver [N]       Version to put in Genbank file (default '1')\n",
      "Organism details:\n",
      "  --genus [X]        Genus name (default 'Genus')\n",
      "  --species [X]      Species name (default 'species')\n",
      "  --strain [X]       Strain name (default 'strain')\n",
      "  --plasmid [X]      Plasmid name or identifier (default '')\n",
      "Annotations:\n",
      "  --kingdom [X]      Annotation mode: Archaea|Bacteria|Mitochondria|Viruses (default 'Bacteria')\n",
      "  --gcode [N]        Genetic code / Translation table (set if --kingdom is set) (default '0')\n",
      "  --prodigaltf [X]   Prodigal training file (default '')\n",
      "  --gram [X]         Gram: -/neg +/pos (default '')\n",
      "  --usegenus         Use genus-specific BLAST databases (needs --genus) (default OFF)\n",
      "  --proteins [X]     FASTA or GBK file to use as 1st priority (default '')\n",
      "  --hmms [X]         Trusted HMM to first annotate from (default '')\n",
      "  --metagenome       Improve gene predictions for highly fragmented genomes (default OFF)\n",
      "  --rawproduct       Do not clean up /product annotation (default OFF)\n",
      "  --cdsrnaolap       Allow [tr]RNA to overlap CDS (default OFF)\n",
      "Matching:\n",
      "  --evalue [n.n]     Similarity e-value cut-off (default '1e-09')\n",
      "  --coverage [n.n]   Minimum coverage on query protein (default '80')\n",
      "Computation:\n",
      "  --cpus [N]         Number of CPUs to use [0=all] (default '8')\n",
      "  --fast             Fast mode - only use basic BLASTP databases (default OFF)\n",
      "  --noanno           For CDS just set /product=\"unannotated protein\" (default OFF)\n",
      "  --mincontiglen [N] Minimum contig size [NCBI needs 200] (default '1')\n",
      "  --rfam             Enable searching for ncRNAs with Infernal+Rfam (SLOW!) (default '0')\n",
      "  --norrna           Don't run rRNA search (default OFF)\n",
      "  --notrna           Don't run tRNA search (default OFF)\n",
      "  --rnammer          Prefer RNAmmer over Barrnap for rRNA prediction (default OFF)\n",
      "(phage) "
     ]
    },
    {
     "ename": "",
     "evalue": "1",
     "output_type": "error",
     "traceback": []
    }
   ],
   "source": [
    "prokka -h"
   ]
  },
  {
   "cell_type": "markdown",
   "metadata": {},
   "source": [
    "#### cm"
   ]
  },
  {
   "cell_type": "markdown",
   "metadata": {},
   "source": [
    "The `Rfam` database is a collection of RNA families"
   ]
  },
  {
   "cell_type": "markdown",
   "metadata": {},
   "source": [
    "The `.cm` files in this folder were generated by extracting only those Rfam entries that\n",
    "had members from the Bacteria, Viruses, and Archaea divisions (based on their taxonomy\n",
    "description in the public Rfam MySQL database)."
   ]
  },
  {
   "cell_type": "code",
   "execution_count": null,
   "metadata": {},
   "outputs": [],
   "source": []
  },
  {
   "cell_type": "markdown",
   "metadata": {},
   "source": [
    "`/home/junyuchen/Lab/Phage-SOP/Result/Assembly-2020-06-13/Quast/CD1382_spades.fasta`   \n",
    "`/home/junyuchen/Lab/Phage-SOP/Result/Assembly-2020-06-13/Quast/CD1382_soap.fasta`"
   ]
  },
  {
   "cell_type": "code",
   "execution_count": null,
   "metadata": {},
   "outputs": [],
   "source": [
    "prokka --kingdom Viruses --prefix Phage --outdir prokka/CD1382_spades /home/junyuchen/Lab/Phage-SOP/Result/Assembly-2020-06-13/Quast/CD1382_spades.fasta"
   ]
  },
  {
   "cell_type": "code",
   "execution_count": null,
   "metadata": {},
   "outputs": [],
   "source": [
    "prokka --kingdom Viruses --prefix Phage --addgenes --outdir prokka/CD1382_spades ./Quast-spades-kmer/CD1382_metaspades.fasta"
   ]
  }
 ],
 "metadata": {
  "kernelspec": {
   "display_name": "Python 3",
   "language": "python",
   "name": "python3"
  },
  "language_info": {
   "codemirror_mode": {
    "name": "ipython",
    "version": 3
   },
   "file_extension": ".py",
   "mimetype": "text/x-python",
   "name": "python",
   "nbconvert_exporter": "python",
   "pygments_lexer": "ipython3",
   "version": "3.7.7"
  }
 },
 "nbformat": 4,
 "nbformat_minor": 4
}
