{
 "cells": [
  {
   "cell_type": "markdown",
   "metadata": {},
   "source": [
    "### Bandage"
   ]
  },
  {
   "cell_type": "markdown",
   "metadata": {},
   "source": [
    "http://rrwick.github.io/Bandage/"
   ]
  },
  {
   "cell_type": "markdown",
   "metadata": {},
   "source": [
    "https://github.com/rrwick/Bandage"
   ]
  },
  {
   "cell_type": "markdown",
   "metadata": {},
   "source": [
    "we can use Bandage to preview the assembly graphs made by SPAdes"
   ]
  },
  {
   "cell_type": "code",
   "execution_count": null,
   "metadata": {},
   "outputs": [],
   "source": [
    "/home/junyuchen/Biosoft/Bandage load assembly_graph.fastg --draw"
   ]
  },
  {
   "cell_type": "code",
   "execution_count": null,
   "metadata": {},
   "outputs": [],
   "source": [
    "/home/junyuchen/Biosoft/Bandage image assembly_graph.fastg image.jpg"
   ]
  },
  {
   "cell_type": "code",
   "execution_count": null,
   "metadata": {},
   "outputs": [],
   "source": [
    "Bandage image /home/junyuchen/Lab/Phage-SOP/Result/Assembly-2020-06-13/CD1382_FDSW202399938-1r/assembly_graph.fastg CD1382.jpg"
   ]
  },
  {
   "cell_type": "code",
   "execution_count": null,
   "metadata": {},
   "outputs": [],
   "source": [
    "Bandage image /home/junyuchen/Lab/Phage-SOP/Result/Assembly-2020-06-13/CD1382_FDSW202399938-1r/assembly_graph.fastg CD1382.svg"
   ]
  },
  {
   "cell_type": "code",
   "execution_count": null,
   "metadata": {},
   "outputs": [],
   "source": []
  },
  {
   "cell_type": "code",
   "execution_count": null,
   "metadata": {},
   "outputs": [],
   "source": []
  },
  {
   "cell_type": "code",
   "execution_count": 1,
   "metadata": {},
   "outputs": [],
   "source": [
    "import os"
   ]
  },
  {
   "cell_type": "code",
   "execution_count": 2,
   "metadata": {},
   "outputs": [],
   "source": [
    "Path = \"/home/junyuchen/Lab/Phage-SOP/Result/Meta-spades-test\""
   ]
  },
  {
   "cell_type": "code",
   "execution_count": 15,
   "metadata": {
    "collapsed": true,
    "jupyter": {
     "outputs_hidden": true
    }
   },
   "outputs": [
    {
     "name": "stdout",
     "output_type": "stream",
     "text": [
      "assembly_graph.fastg\n",
      "/home/junyuchen/Lab/Phage-SOP/Result/Meta-spades-test/FP7_FDSW202399942-1r\n",
      "assembly_graph.fastg\n",
      "/home/junyuchen/Lab/Phage-SOP/Result/Meta-spades-test/FP7_FDSW202399942-1r/K55\n",
      "assembly_graph.fastg\n",
      "/home/junyuchen/Lab/Phage-SOP/Result/Meta-spades-test/SP34_FDSW202399941-1r\n",
      "assembly_graph.fastg\n",
      "/home/junyuchen/Lab/Phage-SOP/Result/Meta-spades-test/SP34_FDSW202399941-1r/K55\n",
      "assembly_graph.fastg\n",
      "/home/junyuchen/Lab/Phage-SOP/Result/Meta-spades-test/CD12727_FDSW202399936-1r\n",
      "assembly_graph.fastg\n",
      "/home/junyuchen/Lab/Phage-SOP/Result/Meta-spades-test/CD12727_FDSW202399936-1r/K55\n",
      "assembly_graph.fastg\n",
      "/home/junyuchen/Lab/Phage-SOP/Result/Meta-spades-test/CD1382_FDSW202399938-1r\n",
      "assembly_graph.fastg\n",
      "/home/junyuchen/Lab/Phage-SOP/Result/Meta-spades-test/CD1382_FDSW202399938-1r/K55\n",
      "assembly_graph.fastg\n",
      "/home/junyuchen/Lab/Phage-SOP/Result/Meta-spades-test/CD11204_FDSW202399937-1r\n",
      "assembly_graph.fastg\n",
      "/home/junyuchen/Lab/Phage-SOP/Result/Meta-spades-test/CD11204_FDSW202399937-1r/K55\n",
      "assembly_graph.fastg\n",
      "/home/junyuchen/Lab/Phage-SOP/Result/Meta-spades-test/BT_FDSW202399939-1r\n",
      "assembly_graph.fastg\n",
      "/home/junyuchen/Lab/Phage-SOP/Result/Meta-spades-test/BT_FDSW202399939-1r/K55\n",
      "assembly_graph.fastg\n",
      "/home/junyuchen/Lab/Phage-SOP/Result/Meta-spades-test/SP24_FDSW202399940-1r\n",
      "assembly_graph.fastg\n",
      "/home/junyuchen/Lab/Phage-SOP/Result/Meta-spades-test/SP24_FDSW202399940-1r/K55\n"
     ]
    }
   ],
   "source": [
    "    for subdir, dirs, files in os.walk(Path):\n",
    "        graph = \"\"\n",
    "        outputFilePath = \"\"\n",
    "        graphList = []\n",
    "        outFileList = []\n",
    "        for file in files:\n",
    "            if file.endswith(\"graph.fastg\"):\n",
    "                print(file)\n",
    "                graph = os.path.join(subdir, file)\n",
    "                outputFilePath = os.path.splitext(subdir)[0]\n",
    "                #print(graph)\n",
    "                print(outputFilePath)\n",
    "        graphList.append(graph)\n",
    "        outFileList.append(outputFilePath)"
   ]
  },
  {
   "cell_type": "code",
   "execution_count": 11,
   "metadata": {},
   "outputs": [
    {
     "data": {
      "text/plain": [
       "['']"
      ]
     },
     "execution_count": 11,
     "metadata": {},
     "output_type": "execute_result"
    }
   ],
   "source": [
    "graphList"
   ]
  },
  {
   "cell_type": "code",
   "execution_count": 12,
   "metadata": {},
   "outputs": [
    {
     "data": {
      "text/plain": [
       "['']"
      ]
     },
     "execution_count": 12,
     "metadata": {},
     "output_type": "execute_result"
    }
   ],
   "source": [
    "outFileList"
   ]
  },
  {
   "cell_type": "code",
   "execution_count": 20,
   "metadata": {
    "collapsed": true,
    "jupyter": {
     "outputs_hidden": true
    }
   },
   "outputs": [
    {
     "name": "stdout",
     "output_type": "stream",
     "text": [
      "/home/junyuchen/Lab/Phage-SOP/Result/Meta-spades-test\n",
      "['FP7_FDSW202399942-1r', 'SP34_FDSW202399941-1r', 'CD12727_FDSW202399936-1r', 'CD1382_FDSW202399938-1r', 'CD11204_FDSW202399937-1r', '.ipynb_checkpoints', 'BT_FDSW202399939-1r', 'SP24_FDSW202399940-1r']\n",
      "/home/junyuchen/Lab/Phage-SOP/Result/Meta-spades-test/FP7_FDSW202399942-1r\n",
      "['pipeline_state', 'tmp', 'corrected', 'K55', 'K21', 'misc', 'K33']\n",
      "/home/junyuchen/Lab/Phage-SOP/Result/Meta-spades-test/FP7_FDSW202399942-1r/pipeline_state\n",
      "[]\n",
      "/home/junyuchen/Lab/Phage-SOP/Result/Meta-spades-test/FP7_FDSW202399942-1r/tmp\n",
      "[]\n",
      "/home/junyuchen/Lab/Phage-SOP/Result/Meta-spades-test/FP7_FDSW202399942-1r/corrected\n",
      "['configs']\n",
      "/home/junyuchen/Lab/Phage-SOP/Result/Meta-spades-test/FP7_FDSW202399942-1r/corrected/configs\n",
      "[]\n",
      "/home/junyuchen/Lab/Phage-SOP/Result/Meta-spades-test/FP7_FDSW202399942-1r/K55\n",
      "['path_extend', 'configs']\n",
      "/home/junyuchen/Lab/Phage-SOP/Result/Meta-spades-test/FP7_FDSW202399942-1r/K55/path_extend\n",
      "[]\n",
      "/home/junyuchen/Lab/Phage-SOP/Result/Meta-spades-test/FP7_FDSW202399942-1r/K55/configs\n",
      "[]\n",
      "/home/junyuchen/Lab/Phage-SOP/Result/Meta-spades-test/FP7_FDSW202399942-1r/K21\n",
      "['configs', 'simplified_contigs']\n",
      "/home/junyuchen/Lab/Phage-SOP/Result/Meta-spades-test/FP7_FDSW202399942-1r/K21/configs\n",
      "[]\n",
      "/home/junyuchen/Lab/Phage-SOP/Result/Meta-spades-test/FP7_FDSW202399942-1r/K21/simplified_contigs\n",
      "[]\n",
      "/home/junyuchen/Lab/Phage-SOP/Result/Meta-spades-test/FP7_FDSW202399942-1r/misc\n",
      "[]\n",
      "/home/junyuchen/Lab/Phage-SOP/Result/Meta-spades-test/FP7_FDSW202399942-1r/K33\n",
      "['configs', 'simplified_contigs']\n",
      "/home/junyuchen/Lab/Phage-SOP/Result/Meta-spades-test/FP7_FDSW202399942-1r/K33/configs\n",
      "[]\n",
      "/home/junyuchen/Lab/Phage-SOP/Result/Meta-spades-test/FP7_FDSW202399942-1r/K33/simplified_contigs\n",
      "[]\n",
      "/home/junyuchen/Lab/Phage-SOP/Result/Meta-spades-test/SP34_FDSW202399941-1r\n",
      "['pipeline_state', 'tmp', 'corrected', 'K55', 'K21', 'misc', 'K33']\n",
      "/home/junyuchen/Lab/Phage-SOP/Result/Meta-spades-test/SP34_FDSW202399941-1r/pipeline_state\n",
      "[]\n",
      "/home/junyuchen/Lab/Phage-SOP/Result/Meta-spades-test/SP34_FDSW202399941-1r/tmp\n",
      "[]\n",
      "/home/junyuchen/Lab/Phage-SOP/Result/Meta-spades-test/SP34_FDSW202399941-1r/corrected\n",
      "['configs']\n",
      "/home/junyuchen/Lab/Phage-SOP/Result/Meta-spades-test/SP34_FDSW202399941-1r/corrected/configs\n",
      "[]\n",
      "/home/junyuchen/Lab/Phage-SOP/Result/Meta-spades-test/SP34_FDSW202399941-1r/K55\n",
      "['path_extend', 'configs']\n",
      "/home/junyuchen/Lab/Phage-SOP/Result/Meta-spades-test/SP34_FDSW202399941-1r/K55/path_extend\n",
      "[]\n",
      "/home/junyuchen/Lab/Phage-SOP/Result/Meta-spades-test/SP34_FDSW202399941-1r/K55/configs\n",
      "[]\n",
      "/home/junyuchen/Lab/Phage-SOP/Result/Meta-spades-test/SP34_FDSW202399941-1r/K21\n",
      "['configs', 'simplified_contigs']\n",
      "/home/junyuchen/Lab/Phage-SOP/Result/Meta-spades-test/SP34_FDSW202399941-1r/K21/configs\n",
      "[]\n",
      "/home/junyuchen/Lab/Phage-SOP/Result/Meta-spades-test/SP34_FDSW202399941-1r/K21/simplified_contigs\n",
      "[]\n",
      "/home/junyuchen/Lab/Phage-SOP/Result/Meta-spades-test/SP34_FDSW202399941-1r/misc\n",
      "[]\n",
      "/home/junyuchen/Lab/Phage-SOP/Result/Meta-spades-test/SP34_FDSW202399941-1r/K33\n",
      "['configs', 'simplified_contigs']\n",
      "/home/junyuchen/Lab/Phage-SOP/Result/Meta-spades-test/SP34_FDSW202399941-1r/K33/configs\n",
      "[]\n",
      "/home/junyuchen/Lab/Phage-SOP/Result/Meta-spades-test/SP34_FDSW202399941-1r/K33/simplified_contigs\n",
      "[]\n",
      "/home/junyuchen/Lab/Phage-SOP/Result/Meta-spades-test/CD12727_FDSW202399936-1r\n",
      "['pipeline_state', 'tmp', 'corrected', 'K55', 'K21', 'misc', 'K33']\n",
      "/home/junyuchen/Lab/Phage-SOP/Result/Meta-spades-test/CD12727_FDSW202399936-1r/pipeline_state\n",
      "[]\n",
      "/home/junyuchen/Lab/Phage-SOP/Result/Meta-spades-test/CD12727_FDSW202399936-1r/tmp\n",
      "[]\n",
      "/home/junyuchen/Lab/Phage-SOP/Result/Meta-spades-test/CD12727_FDSW202399936-1r/corrected\n",
      "['configs']\n",
      "/home/junyuchen/Lab/Phage-SOP/Result/Meta-spades-test/CD12727_FDSW202399936-1r/corrected/configs\n",
      "[]\n",
      "/home/junyuchen/Lab/Phage-SOP/Result/Meta-spades-test/CD12727_FDSW202399936-1r/K55\n",
      "['path_extend', 'configs']\n",
      "/home/junyuchen/Lab/Phage-SOP/Result/Meta-spades-test/CD12727_FDSW202399936-1r/K55/path_extend\n",
      "[]\n",
      "/home/junyuchen/Lab/Phage-SOP/Result/Meta-spades-test/CD12727_FDSW202399936-1r/K55/configs\n",
      "[]\n",
      "/home/junyuchen/Lab/Phage-SOP/Result/Meta-spades-test/CD12727_FDSW202399936-1r/K21\n",
      "['configs', 'simplified_contigs']\n",
      "/home/junyuchen/Lab/Phage-SOP/Result/Meta-spades-test/CD12727_FDSW202399936-1r/K21/configs\n",
      "[]\n",
      "/home/junyuchen/Lab/Phage-SOP/Result/Meta-spades-test/CD12727_FDSW202399936-1r/K21/simplified_contigs\n",
      "[]\n",
      "/home/junyuchen/Lab/Phage-SOP/Result/Meta-spades-test/CD12727_FDSW202399936-1r/misc\n",
      "[]\n",
      "/home/junyuchen/Lab/Phage-SOP/Result/Meta-spades-test/CD12727_FDSW202399936-1r/K33\n",
      "['configs', 'simplified_contigs']\n",
      "/home/junyuchen/Lab/Phage-SOP/Result/Meta-spades-test/CD12727_FDSW202399936-1r/K33/configs\n",
      "[]\n",
      "/home/junyuchen/Lab/Phage-SOP/Result/Meta-spades-test/CD12727_FDSW202399936-1r/K33/simplified_contigs\n",
      "[]\n",
      "/home/junyuchen/Lab/Phage-SOP/Result/Meta-spades-test/CD1382_FDSW202399938-1r\n",
      "['pipeline_state', 'tmp', 'corrected', 'K55', 'K21', 'misc', 'K33']\n",
      "/home/junyuchen/Lab/Phage-SOP/Result/Meta-spades-test/CD1382_FDSW202399938-1r/pipeline_state\n",
      "[]\n",
      "/home/junyuchen/Lab/Phage-SOP/Result/Meta-spades-test/CD1382_FDSW202399938-1r/tmp\n",
      "[]\n",
      "/home/junyuchen/Lab/Phage-SOP/Result/Meta-spades-test/CD1382_FDSW202399938-1r/corrected\n",
      "['configs']\n",
      "/home/junyuchen/Lab/Phage-SOP/Result/Meta-spades-test/CD1382_FDSW202399938-1r/corrected/configs\n",
      "[]\n",
      "/home/junyuchen/Lab/Phage-SOP/Result/Meta-spades-test/CD1382_FDSW202399938-1r/K55\n",
      "['path_extend', 'configs']\n",
      "/home/junyuchen/Lab/Phage-SOP/Result/Meta-spades-test/CD1382_FDSW202399938-1r/K55/path_extend\n",
      "[]\n",
      "/home/junyuchen/Lab/Phage-SOP/Result/Meta-spades-test/CD1382_FDSW202399938-1r/K55/configs\n",
      "[]\n",
      "/home/junyuchen/Lab/Phage-SOP/Result/Meta-spades-test/CD1382_FDSW202399938-1r/K21\n",
      "['configs', 'simplified_contigs']\n",
      "/home/junyuchen/Lab/Phage-SOP/Result/Meta-spades-test/CD1382_FDSW202399938-1r/K21/configs\n",
      "[]\n",
      "/home/junyuchen/Lab/Phage-SOP/Result/Meta-spades-test/CD1382_FDSW202399938-1r/K21/simplified_contigs\n",
      "[]\n",
      "/home/junyuchen/Lab/Phage-SOP/Result/Meta-spades-test/CD1382_FDSW202399938-1r/misc\n",
      "[]\n",
      "/home/junyuchen/Lab/Phage-SOP/Result/Meta-spades-test/CD1382_FDSW202399938-1r/K33\n",
      "['configs', 'simplified_contigs']\n",
      "/home/junyuchen/Lab/Phage-SOP/Result/Meta-spades-test/CD1382_FDSW202399938-1r/K33/configs\n",
      "[]\n",
      "/home/junyuchen/Lab/Phage-SOP/Result/Meta-spades-test/CD1382_FDSW202399938-1r/K33/simplified_contigs\n",
      "[]\n",
      "/home/junyuchen/Lab/Phage-SOP/Result/Meta-spades-test/CD11204_FDSW202399937-1r\n",
      "['pipeline_state', 'tmp', 'corrected', 'K55', 'K21', 'misc', 'K33']\n",
      "/home/junyuchen/Lab/Phage-SOP/Result/Meta-spades-test/CD11204_FDSW202399937-1r/pipeline_state\n",
      "[]\n",
      "/home/junyuchen/Lab/Phage-SOP/Result/Meta-spades-test/CD11204_FDSW202399937-1r/tmp\n",
      "[]\n",
      "/home/junyuchen/Lab/Phage-SOP/Result/Meta-spades-test/CD11204_FDSW202399937-1r/corrected\n",
      "['configs']\n",
      "/home/junyuchen/Lab/Phage-SOP/Result/Meta-spades-test/CD11204_FDSW202399937-1r/corrected/configs\n",
      "[]\n",
      "/home/junyuchen/Lab/Phage-SOP/Result/Meta-spades-test/CD11204_FDSW202399937-1r/K55\n",
      "['path_extend', 'configs']\n",
      "/home/junyuchen/Lab/Phage-SOP/Result/Meta-spades-test/CD11204_FDSW202399937-1r/K55/path_extend\n",
      "[]\n",
      "/home/junyuchen/Lab/Phage-SOP/Result/Meta-spades-test/CD11204_FDSW202399937-1r/K55/configs\n",
      "[]\n",
      "/home/junyuchen/Lab/Phage-SOP/Result/Meta-spades-test/CD11204_FDSW202399937-1r/K21\n",
      "['configs', 'simplified_contigs']\n",
      "/home/junyuchen/Lab/Phage-SOP/Result/Meta-spades-test/CD11204_FDSW202399937-1r/K21/configs\n",
      "[]\n",
      "/home/junyuchen/Lab/Phage-SOP/Result/Meta-spades-test/CD11204_FDSW202399937-1r/K21/simplified_contigs\n",
      "[]\n",
      "/home/junyuchen/Lab/Phage-SOP/Result/Meta-spades-test/CD11204_FDSW202399937-1r/misc\n",
      "[]\n",
      "/home/junyuchen/Lab/Phage-SOP/Result/Meta-spades-test/CD11204_FDSW202399937-1r/K33\n",
      "['configs', 'simplified_contigs']\n",
      "/home/junyuchen/Lab/Phage-SOP/Result/Meta-spades-test/CD11204_FDSW202399937-1r/K33/configs\n",
      "[]\n",
      "/home/junyuchen/Lab/Phage-SOP/Result/Meta-spades-test/CD11204_FDSW202399937-1r/K33/simplified_contigs\n",
      "[]\n",
      "/home/junyuchen/Lab/Phage-SOP/Result/Meta-spades-test/.ipynb_checkpoints\n",
      "[]\n",
      "/home/junyuchen/Lab/Phage-SOP/Result/Meta-spades-test/BT_FDSW202399939-1r\n",
      "['pipeline_state', 'tmp', 'corrected', 'K55', 'K21', 'misc', 'K33']\n",
      "/home/junyuchen/Lab/Phage-SOP/Result/Meta-spades-test/BT_FDSW202399939-1r/pipeline_state\n",
      "[]\n",
      "/home/junyuchen/Lab/Phage-SOP/Result/Meta-spades-test/BT_FDSW202399939-1r/tmp\n",
      "[]\n",
      "/home/junyuchen/Lab/Phage-SOP/Result/Meta-spades-test/BT_FDSW202399939-1r/corrected\n",
      "['configs']\n",
      "/home/junyuchen/Lab/Phage-SOP/Result/Meta-spades-test/BT_FDSW202399939-1r/corrected/configs\n",
      "[]\n",
      "/home/junyuchen/Lab/Phage-SOP/Result/Meta-spades-test/BT_FDSW202399939-1r/K55\n",
      "['path_extend', 'configs']\n",
      "/home/junyuchen/Lab/Phage-SOP/Result/Meta-spades-test/BT_FDSW202399939-1r/K55/path_extend\n",
      "[]\n",
      "/home/junyuchen/Lab/Phage-SOP/Result/Meta-spades-test/BT_FDSW202399939-1r/K55/configs\n",
      "[]\n",
      "/home/junyuchen/Lab/Phage-SOP/Result/Meta-spades-test/BT_FDSW202399939-1r/K21\n",
      "['configs', 'simplified_contigs']\n",
      "/home/junyuchen/Lab/Phage-SOP/Result/Meta-spades-test/BT_FDSW202399939-1r/K21/configs\n",
      "[]\n",
      "/home/junyuchen/Lab/Phage-SOP/Result/Meta-spades-test/BT_FDSW202399939-1r/K21/simplified_contigs\n",
      "[]\n",
      "/home/junyuchen/Lab/Phage-SOP/Result/Meta-spades-test/BT_FDSW202399939-1r/misc\n",
      "[]\n",
      "/home/junyuchen/Lab/Phage-SOP/Result/Meta-spades-test/BT_FDSW202399939-1r/K33\n",
      "['configs', 'simplified_contigs']\n",
      "/home/junyuchen/Lab/Phage-SOP/Result/Meta-spades-test/BT_FDSW202399939-1r/K33/configs\n",
      "[]\n",
      "/home/junyuchen/Lab/Phage-SOP/Result/Meta-spades-test/BT_FDSW202399939-1r/K33/simplified_contigs\n",
      "[]\n",
      "/home/junyuchen/Lab/Phage-SOP/Result/Meta-spades-test/SP24_FDSW202399940-1r\n",
      "['pipeline_state', 'tmp', 'corrected', 'K55', 'K21', 'misc', 'K33']\n",
      "/home/junyuchen/Lab/Phage-SOP/Result/Meta-spades-test/SP24_FDSW202399940-1r/pipeline_state\n",
      "[]\n",
      "/home/junyuchen/Lab/Phage-SOP/Result/Meta-spades-test/SP24_FDSW202399940-1r/tmp\n",
      "[]\n",
      "/home/junyuchen/Lab/Phage-SOP/Result/Meta-spades-test/SP24_FDSW202399940-1r/corrected\n",
      "['configs']\n",
      "/home/junyuchen/Lab/Phage-SOP/Result/Meta-spades-test/SP24_FDSW202399940-1r/corrected/configs\n",
      "[]\n",
      "/home/junyuchen/Lab/Phage-SOP/Result/Meta-spades-test/SP24_FDSW202399940-1r/K55\n",
      "['path_extend', 'configs']\n",
      "/home/junyuchen/Lab/Phage-SOP/Result/Meta-spades-test/SP24_FDSW202399940-1r/K55/path_extend\n",
      "[]\n",
      "/home/junyuchen/Lab/Phage-SOP/Result/Meta-spades-test/SP24_FDSW202399940-1r/K55/configs\n",
      "[]\n",
      "/home/junyuchen/Lab/Phage-SOP/Result/Meta-spades-test/SP24_FDSW202399940-1r/K21\n",
      "['configs', 'simplified_contigs']\n",
      "/home/junyuchen/Lab/Phage-SOP/Result/Meta-spades-test/SP24_FDSW202399940-1r/K21/configs\n",
      "[]\n",
      "/home/junyuchen/Lab/Phage-SOP/Result/Meta-spades-test/SP24_FDSW202399940-1r/K21/simplified_contigs\n",
      "[]\n",
      "/home/junyuchen/Lab/Phage-SOP/Result/Meta-spades-test/SP24_FDSW202399940-1r/misc\n",
      "[]\n",
      "/home/junyuchen/Lab/Phage-SOP/Result/Meta-spades-test/SP24_FDSW202399940-1r/K33\n",
      "['configs', 'simplified_contigs']\n",
      "/home/junyuchen/Lab/Phage-SOP/Result/Meta-spades-test/SP24_FDSW202399940-1r/K33/configs\n",
      "[]\n",
      "/home/junyuchen/Lab/Phage-SOP/Result/Meta-spades-test/SP24_FDSW202399940-1r/K33/simplified_contigs\n",
      "[]\n"
     ]
    }
   ],
   "source": [
    "for subdir, dirs, files in os.walk(Path):\n",
    "    print(subdir)\n",
    "    print(dirs)"
   ]
  },
  {
   "cell_type": "code",
   "execution_count": 21,
   "metadata": {},
   "outputs": [
    {
     "name": "stdout",
     "output_type": "stream",
     "text": [
      ".ipynb_checkpoints\n"
     ]
    }
   ],
   "source": [
    "for Dir in os.listdir(Path):\n",
    "    if os.path.exists(Dir):\n",
    "        print(Dir)"
   ]
  },
  {
   "cell_type": "code",
   "execution_count": null,
   "metadata": {},
   "outputs": [],
   "source": [
    "echo sleep 60 > test.sh && qsub -l ncpus=3:mem=4gb  test.sh"
   ]
  },
  {
   "cell_type": "code",
   "execution_count": null,
   "metadata": {},
   "outputs": [],
   "source": [
    "echo sleep 60 > test.sh && qsub test.sh\n",
    "qsub -l ncpus=3:mem=4gb  test.sh"
   ]
  }
 ],
 "metadata": {
  "kernelspec": {
   "display_name": "Python 3",
   "language": "python",
   "name": "python3"
  },
  "language_info": {
   "codemirror_mode": {
    "name": "ipython",
    "version": 3
   },
   "file_extension": ".py",
   "mimetype": "text/x-python",
   "name": "python",
   "nbconvert_exporter": "python",
   "pygments_lexer": "ipython3",
   "version": "3.7.7"
  }
 },
 "nbformat": 4,
 "nbformat_minor": 4
}
