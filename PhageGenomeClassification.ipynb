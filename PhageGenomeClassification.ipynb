{
 "cells": [
  {
   "cell_type": "markdown",
   "metadata": {},
   "source": [
    "## CrAss Phage Classification"
   ]
  },
  {
   "cell_type": "markdown",
   "metadata": {},
   "source": [
    "#### Env Set up"
   ]
  },
  {
   "cell_type": "markdown",
   "metadata": {},
   "source": [
    "[bwa](https://github.com/lh3/bwa) a bit old I think"
   ]
  },
  {
   "cell_type": "code",
   "execution_count": null,
   "metadata": {},
   "outputs": [],
   "source": [
    "conda install -c bioconda bwa"
   ]
  },
  {
   "cell_type": "markdown",
   "metadata": {},
   "source": [
    "[bwa-mem2](https://github.com/bwa-mem2/bwa-mem2) for short reads align & faster than bwa"
   ]
  },
  {
   "cell_type": "code",
   "execution_count": null,
   "metadata": {},
   "outputs": [],
   "source": [
    "conda install -c bioconda bwa-mem2"
   ]
  },
  {
   "cell_type": "markdown",
   "metadata": {},
   "source": [
    "[minimap2](https://github.com/lh3/minimap2) for long reads align"
   ]
  },
  {
   "cell_type": "code",
   "execution_count": null,
   "metadata": {},
   "outputs": [],
   "source": [
    "conda install -c bioconda minimap2"
   ]
  },
  {
   "cell_type": "code",
   "execution_count": null,
   "metadata": {},
   "outputs": [],
   "source": []
  },
  {
   "cell_type": "markdown",
   "metadata": {},
   "source": [
    "### minimap2"
   ]
  },
  {
   "cell_type": "markdown",
   "metadata": {},
   "source": [
    "RefGenome: `/home/junyuchen/Lab/Phage-SOP/crass_genomes_249.fasta`"
   ]
  },
  {
   "cell_type": "code",
   "execution_count": 2,
   "metadata": {},
   "outputs": [
    {
     "name": "stdout",
     "output_type": "stream",
     "text": [
      ">NODE_2_length_97655_cov_2546.011445\n",
      "CCCCCCCCCCATCAGTTAGTCTTCAAGGACTTGACAAGAGAGCACTACACCACCTAGTTG\n",
      "CTGTGCAATTCTCTCTATGTGAATAGCCAGTCTCTCTTTAGTCTTGAGGGCATTCCAATG\n",
      "CCTTTGCTTGAGGAAGAATGGACAACTTTCTGAACTAGTCATATAGTTGTATGCTTCTTC\n",
      "ACTCAAGTTGATTGTCTGAGTAGCTGGAATACTCTTTCTAGTCCTAATGACAATAACTTC\n",
      "TCTGTCTTTGTGGTCTGGACCTGACACCTCAATTGATGTCCTGTCATAACCACCTGCTGA\n",
      "ACTTAATTTCTCAAGAGCATCAGCTGTCTCTTGACTCACCATTGTTCTACCTTGTAGAGC\n",
      "AACAGTAAGACTTACTTTAACATCACTCATTGTTTCAATTTAATTGTTTTTAGCAAGATG\n",
      "TGCTACTAACATAGCTGCCTTAGCCTCTAGGGGCATGAAGACAAAACCTACAGCCTCTTG\n",
      "AGCTTCCTTGGGAAGGATAGTGTACATCATACTGAGTACCTCAACTACCTCTTCATTAGT\n"
     ]
    }
   ],
   "source": [
    "head /home/junyuchen/Lab/Phage-SOP/Out-test-2/CD1382_FDSW202399938-1r/NODE_2_length_97655_cov_2546.011445/NODE_2_length_97655_cov_2546.011445.fna"
   ]
  },
  {
   "cell_type": "code",
   "execution_count": null,
   "metadata": {},
   "outputs": [],
   "source": [
    "minimap2 -ax asm5 /home/junyuchen/Lab/Phage-SOP/crass_genomes_249.fasta /home/junyuchen/Lab/Phage-SOP/Out-test-2/CD1382_FDSW202399938-1r/NODE_2_length_97655_cov_2546.011445/NODE_2_length_97655_cov_2546.011445.fna > aln.sam"
   ]
  },
  {
   "cell_type": "code",
   "execution_count": 4,
   "metadata": {},
   "outputs": [
    {
     "name": "stdout",
     "output_type": "stream",
     "text": [
      "-rw-r--r-- 1 junyuchen users 147K Jul 31 10:38 /home/junyuchen/Lab/Phage-SOP/Result/aln.sam\n"
     ]
    }
   ],
   "source": [
    "ls /home/junyuchen/Lab/Phage-SOP/Result/aln.sam -alh"
   ]
  },
  {
   "cell_type": "code",
   "execution_count": null,
   "metadata": {},
   "outputs": [],
   "source": [
    "samtools view -b -S /home/junyuchen/Lab/Phage-SOP/Result/aln.sam > /home/junyuchen/Lab/Phage-SOP/Result/aln.bam"
   ]
  },
  {
   "cell_type": "code",
   "execution_count": null,
   "metadata": {},
   "outputs": [],
   "source": [
    "samtools view -c /home/junyuchen/Lab/Phage-SOP/Result/aln.bam"
   ]
  },
  {
   "cell_type": "code",
   "execution_count": null,
   "metadata": {},
   "outputs": [],
   "source": []
  },
  {
   "cell_type": "code",
   "execution_count": null,
   "metadata": {},
   "outputs": [],
   "source": []
  },
  {
   "cell_type": "markdown",
   "metadata": {},
   "source": [
    "#### orthomcl"
   ]
  },
  {
   "cell_type": "markdown",
   "metadata": {},
   "source": [
    "[OrthoMCL Algorithm](https://docs.google.com/document/d/1RB-SqCjBmcpNq-YbOYdFxotHGuU7RK_wqxqDAMjyP_w/pub)"
   ]
  },
  {
   "cell_type": "code",
   "execution_count": null,
   "metadata": {},
   "outputs": [],
   "source": [
    "conda install -c bioconda orthomcl"
   ]
  },
  {
   "cell_type": "code",
   "execution_count": 5,
   "metadata": {},
   "outputs": [
    {
     "name": "stdout",
     "output_type": "stream",
     "text": [
      "/usr/bin/mysql\n"
     ]
    }
   ],
   "source": [
    "which mysql"
   ]
  },
  {
   "cell_type": "markdown",
   "metadata": {},
   "source": [
    "mysql 连接有问题吧？ "
   ]
  },
  {
   "cell_type": "code",
   "execution_count": null,
   "metadata": {},
   "outputs": [],
   "source": [
    "conda install -c anaconda mysql"
   ]
  },
  {
   "cell_type": "code",
   "execution_count": null,
   "metadata": {},
   "outputs": [],
   "source": []
  },
  {
   "cell_type": "markdown",
   "metadata": {},
   "source": [
    "https://www.rdocumentation.org/packages/NbClust/versions/3.0/topics/NbClust"
   ]
  },
  {
   "cell_type": "code",
   "execution_count": null,
   "metadata": {},
   "outputs": [],
   "source": []
  },
  {
   "cell_type": "code",
   "execution_count": null,
   "metadata": {},
   "outputs": [],
   "source": []
  },
  {
   "cell_type": "code",
   "execution_count": null,
   "metadata": {},
   "outputs": [],
   "source": [
    "conda install -c bioconda mummer"
   ]
  },
  {
   "cell_type": "markdown",
   "metadata": {},
   "source": [
    "`nucmer  [options]  <reference>  <query>`"
   ]
  },
  {
   "cell_type": "markdown",
   "metadata": {},
   "source": [
    "```shell\n",
    "nucmer /home/junyuchen/Lab/Phage-SOP/crass_genomes_249.fasta /home/junyuchen/Lab/Phage-SOP/Out-test-2/CD1382_FDSW202399938-1r/NODE_2_length_97655_cov_2546.011445/NODE_2_length_97655_cov_2546.011445.fna\n",
    "```"
   ]
  },
  {
   "cell_type": "code",
   "execution_count": null,
   "metadata": {},
   "outputs": [],
   "source": [
    "show-aligns"
   ]
  },
  {
   "cell_type": "code",
   "execution_count": null,
   "metadata": {},
   "outputs": [],
   "source": []
  },
  {
   "cell_type": "markdown",
   "metadata": {},
   "source": [
    "直接blast"
   ]
  },
  {
   "cell_type": "markdown",
   "metadata": {},
   "source": [
    "`blastn  -query genes.fasta  -subject genome.fasta  -outfmt 6`"
   ]
  },
  {
   "cell_type": "markdown",
   "metadata": {},
   "source": [
    "```shell\n",
    "blastn  -query /home/junyuchen/Lab/Phage-SOP/Out-test-2/CD1382_FDSW202399938-1r/NODE_2_length_97655_cov_2546.011445/NODE_2_length_97655_cov_2546.011445.fna -subject /home/junyuchen/Lab/Phage-SOP/crass_genomes_249.fasta -outfmt 6 -out crass-blastn-out.tsv\n",
    "```"
   ]
  },
  {
   "cell_type": "markdown",
   "metadata": {},
   "source": [
    "```shell\n",
    "blastn  -query /home/junyuchen/Lab/Phage-SOP/Out-test-2/SP34_FDSW202399941-1r/NODE_1_length_98383_cov_2031.781293/NODE_1_length_98383_cov_2031.781293.fna  -subject /home/junyuchen/Lab/Phage-SOP/crass_genomes_249.fasta -outfmt 6 -out crass-blastn-out-sp34.tsv\n",
    "```"
   ]
  },
  {
   "cell_type": "code",
   "execution_count": null,
   "metadata": {},
   "outputs": [],
   "source": []
  },
  {
   "cell_type": "markdown",
   "metadata": {},
   "source": [
    "`qseqid sseqid pident length mismatch gapopen qstart qend sstart send evalue bitscore`"
   ]
  },
  {
   "cell_type": "code",
   "execution_count": null,
   "metadata": {},
   "outputs": [],
   "source": []
  },
  {
   "cell_type": "code",
   "execution_count": null,
   "metadata": {},
   "outputs": [],
   "source": [
    "conda install -c bioconda fastani"
   ]
  },
  {
   "cell_type": "code",
   "execution_count": null,
   "metadata": {},
   "outputs": [],
   "source": [
    "fastANI -q draft_genome.fasta -r reference_genome.fasta -o fastani.out"
   ]
  },
  {
   "cell_type": "code",
   "execution_count": null,
   "metadata": {},
   "outputs": [],
   "source": [
    "fastANI -q /home/junyuchen/Lab/Phage-SOP/Out-test-2/CD1382_FDSW202399938-1r/NODE_2_length_97655_cov_2546.011445/NODE_2_length_97655_cov_2546.011445.fna -r /home/junyuchen/Lab/Phage-SOP/crass_genomes_249.fasta -o crass-ani.out"
   ]
  },
  {
   "cell_type": "code",
   "execution_count": null,
   "metadata": {},
   "outputs": [],
   "source": [
    "fastANI -q /home/junyuchen/Lab/Phage-SOP/Out-test-2/SP34_FDSW202399941-1r/NODE_1_length_98383_cov_2031.781293/NODE_1_length_98383_cov_2031.781293.fna -r /home/junyuchen/Lab/Phage-SOP/Out-test-2/CD1382_FDSW202399938-1r/NODE_2_length_97655_cov_2546.011445/NODE_2_length_97655_cov_2546.011445.fna -o sp34-sd1382-fastani.out"
   ]
  },
  {
   "cell_type": "code",
   "execution_count": null,
   "metadata": {},
   "outputs": [],
   "source": []
  },
  {
   "cell_type": "code",
   "execution_count": null,
   "metadata": {},
   "outputs": [],
   "source": []
  },
  {
   "cell_type": "code",
   "execution_count": null,
   "metadata": {},
   "outputs": [],
   "source": [
    "muscle"
   ]
  },
  {
   "cell_type": "code",
   "execution_count": null,
   "metadata": {},
   "outputs": [],
   "source": [
    "conda install -c bioconda muscle"
   ]
  },
  {
   "cell_type": "code",
   "execution_count": null,
   "metadata": {},
   "outputs": [],
   "source": [
    "muscle -in crass-muscle.fasta -out crass-muscle.afa -maxiters 2"
   ]
  },
  {
   "cell_type": "code",
   "execution_count": null,
   "metadata": {},
   "outputs": [],
   "source": [
    "muscle -in MultiCrAss.fasta -out MultiCrAss.afa -maxiters 2"
   ]
  },
  {
   "cell_type": "markdown",
   "metadata": {},
   "source": [
    "two slow"
   ]
  },
  {
   "cell_type": "code",
   "execution_count": 1,
   "metadata": {},
   "outputs": [
    {
     "name": "stdout",
     "output_type": "stream",
     "text": [
      "PING 8.8.8.8 (8.8.8.8) 56(84) bytes of data.\n",
      "64 bytes from 8.8.8.8: icmp_seq=1 ttl=115 time=42.7 ms\n",
      "64 bytes from 8.8.8.8: icmp_seq=2 ttl=115 time=42.8 ms\n",
      "64 bytes from 8.8.8.8: icmp_seq=3 ttl=115 time=42.6 ms\n",
      "64 bytes from 8.8.8.8: icmp_seq=4 ttl=115 time=42.6 ms\n",
      "\n",
      "--- 8.8.8.8 ping statistics ---\n",
      "4 packets transmitted, 4 received, 0% packet loss, time 3005ms\n",
      "rtt min/avg/max/mdev = 42.652/42.709/42.802/0.260 ms\n"
     ]
    }
   ],
   "source": [
    "ping 8.8.8.8 -c 4"
   ]
  },
  {
   "cell_type": "code",
   "execution_count": null,
   "metadata": {},
   "outputs": [],
   "source": [
    "conda install -c bioconda mafft"
   ]
  },
  {
   "cell_type": "code",
   "execution_count": null,
   "metadata": {},
   "outputs": [],
   "source": []
  },
  {
   "cell_type": "code",
   "execution_count": null,
   "metadata": {},
   "outputs": [],
   "source": [
    "conda config --set ssl_verify no"
   ]
  }
 ],
 "metadata": {
  "kernelspec": {
   "display_name": "Bash",
   "language": "bash",
   "name": "bash"
  },
  "language_info": {
   "codemirror_mode": "shell",
   "file_extension": ".sh",
   "mimetype": "text/x-sh",
   "name": "bash"
  }
 },
 "nbformat": 4,
 "nbformat_minor": 4
}
