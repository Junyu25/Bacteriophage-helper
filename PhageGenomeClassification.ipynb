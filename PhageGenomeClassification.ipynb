{
 "cells": [
  {
   "cell_type": "markdown",
   "metadata": {},
   "source": [
    "## CrAss Phage Classification"
   ]
  },
  {
   "cell_type": "markdown",
   "metadata": {},
   "source": [
    "#### Env Set up"
   ]
  },
  {
   "cell_type": "markdown",
   "metadata": {},
   "source": [
    "[bwa](https://github.com/lh3/bwa) a bit old I think"
   ]
  },
  {
   "cell_type": "code",
   "execution_count": null,
   "metadata": {},
   "outputs": [],
   "source": [
    "conda install -c bioconda bwa"
   ]
  },
  {
   "cell_type": "markdown",
   "metadata": {},
   "source": [
    "[bwa-mem2](https://github.com/bwa-mem2/bwa-mem2) for short reads align & faster than bwa"
   ]
  },
  {
   "cell_type": "code",
   "execution_count": null,
   "metadata": {},
   "outputs": [],
   "source": [
    "conda install -c bioconda bwa-mem2"
   ]
  },
  {
   "cell_type": "markdown",
   "metadata": {},
   "source": [
    "[minimap2](https://github.com/lh3/minimap2) for long reads align"
   ]
  },
  {
   "cell_type": "code",
   "execution_count": null,
   "metadata": {},
   "outputs": [],
   "source": [
    "conda install -c bioconda minimap2"
   ]
  },
  {
   "cell_type": "code",
   "execution_count": null,
   "metadata": {},
   "outputs": [],
   "source": []
  },
  {
   "cell_type": "markdown",
   "metadata": {},
   "source": [
    "### minimap2"
   ]
  },
  {
   "cell_type": "markdown",
   "metadata": {},
   "source": [
    "RefGenome: `/home/junyuchen/Lab/Phage-SOP/crass_genomes_249.fasta`"
   ]
  },
  {
   "cell_type": "code",
   "execution_count": 2,
   "metadata": {},
   "outputs": [
    {
     "name": "stdout",
     "output_type": "stream",
     "text": [
      ">NODE_2_length_97655_cov_2546.011445\n",
      "CCCCCCCCCCATCAGTTAGTCTTCAAGGACTTGACAAGAGAGCACTACACCACCTAGTTG\n",
      "CTGTGCAATTCTCTCTATGTGAATAGCCAGTCTCTCTTTAGTCTTGAGGGCATTCCAATG\n",
      "CCTTTGCTTGAGGAAGAATGGACAACTTTCTGAACTAGTCATATAGTTGTATGCTTCTTC\n",
      "ACTCAAGTTGATTGTCTGAGTAGCTGGAATACTCTTTCTAGTCCTAATGACAATAACTTC\n",
      "TCTGTCTTTGTGGTCTGGACCTGACACCTCAATTGATGTCCTGTCATAACCACCTGCTGA\n",
      "ACTTAATTTCTCAAGAGCATCAGCTGTCTCTTGACTCACCATTGTTCTACCTTGTAGAGC\n",
      "AACAGTAAGACTTACTTTAACATCACTCATTGTTTCAATTTAATTGTTTTTAGCAAGATG\n",
      "TGCTACTAACATAGCTGCCTTAGCCTCTAGGGGCATGAAGACAAAACCTACAGCCTCTTG\n",
      "AGCTTCCTTGGGAAGGATAGTGTACATCATACTGAGTACCTCAACTACCTCTTCATTAGT\n"
     ]
    }
   ],
   "source": [
    "head /home/junyuchen/Lab/Phage-SOP/Out-test-2/CD1382_FDSW202399938-1r/NODE_2_length_97655_cov_2546.011445/NODE_2_length_97655_cov_2546.011445.fna"
   ]
  },
  {
   "cell_type": "code",
   "execution_count": null,
   "metadata": {},
   "outputs": [],
   "source": [
    "minimap2 -ax asm5 /home/junyuchen/Lab/Phage-SOP/crass_genomes_249.fasta /home/junyuchen/Lab/Phage-SOP/Out-test-2/CD1382_FDSW202399938-1r/NODE_2_length_97655_cov_2546.011445/NODE_2_length_97655_cov_2546.011445.fna > aln.sam"
   ]
  },
  {
   "cell_type": "code",
   "execution_count": 4,
   "metadata": {},
   "outputs": [
    {
     "name": "stdout",
     "output_type": "stream",
     "text": [
      "-rw-r--r-- 1 junyuchen users 147K Jul 31 10:38 /home/junyuchen/Lab/Phage-SOP/Result/aln.sam\n"
     ]
    }
   ],
   "source": [
    "ls /home/junyuchen/Lab/Phage-SOP/Result/aln.sam -alh"
   ]
  },
  {
   "cell_type": "code",
   "execution_count": null,
   "metadata": {},
   "outputs": [],
   "source": [
    "samtools view -b -S /home/junyuchen/Lab/Phage-SOP/Result/aln.sam > /home/junyuchen/Lab/Phage-SOP/Result/aln.bam"
   ]
  },
  {
   "cell_type": "code",
   "execution_count": null,
   "metadata": {},
   "outputs": [],
   "source": [
    "samtools view -c /home/junyuchen/Lab/Phage-SOP/Result/aln.bam"
   ]
  },
  {
   "cell_type": "code",
   "execution_count": null,
   "metadata": {},
   "outputs": [],
   "source": []
  },
  {
   "cell_type": "code",
   "execution_count": null,
   "metadata": {},
   "outputs": [],
   "source": []
  },
  {
   "cell_type": "markdown",
   "metadata": {},
   "source": [
    "#### orthomcl"
   ]
  },
  {
   "cell_type": "markdown",
   "metadata": {},
   "source": [
    "[OrthoMCL Algorithm](https://docs.google.com/document/d/1RB-SqCjBmcpNq-YbOYdFxotHGuU7RK_wqxqDAMjyP_w/pub)"
   ]
  },
  {
   "cell_type": "code",
   "execution_count": null,
   "metadata": {},
   "outputs": [],
   "source": [
    "conda install -c bioconda orthomcl"
   ]
  }
 ],
 "metadata": {
  "kernelspec": {
   "display_name": "Bash",
   "language": "bash",
   "name": "bash"
  },
  "language_info": {
   "codemirror_mode": "shell",
   "file_extension": ".sh",
   "mimetype": "text/x-sh",
   "name": "bash"
  }
 },
 "nbformat": 4,
 "nbformat_minor": 4
}
