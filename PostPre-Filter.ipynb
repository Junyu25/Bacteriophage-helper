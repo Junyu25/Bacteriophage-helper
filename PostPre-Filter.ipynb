{
 "cells": [
  {
   "cell_type": "markdown",
   "metadata": {},
   "source": [
    "## Filter contigs"
   ]
  },
  {
   "cell_type": "code",
   "execution_count": 6,
   "metadata": {},
   "outputs": [
    {
     "name": "stdout",
     "output_type": "stream",
     "text": [
      "/home/junyuchen/Lab/Phage-SOP\n"
     ]
    }
   ],
   "source": [
    "!pwd"
   ]
  },
  {
   "cell_type": "code",
   "execution_count": 7,
   "metadata": {},
   "outputs": [
    {
     "name": "stdout",
     "output_type": "stream",
     "text": [
      "NODE_1_length_62294_cov_7285.933884\n",
      "ID: NODE_1_length_62294_cov_7285.933884\n",
      "Name: NODE_1_length_62294_cov_7285.933884\n",
      "Description: NODE_1_length_62294_cov_7285.933884\n",
      "Number of features: 0\n",
      "Seq('AGACTGATTGATGTTAAAGGTTATAGTGGAGTGCTTATCCATGTAGGAAACAAA...AAT', SingleLetterAlphabet())\n",
      "NODE_2_length_22357_cov_8020.335934\n",
      "ID: NODE_2_length_22357_cov_8020.335934\n",
      "Name: NODE_2_length_22357_cov_8020.335934\n",
      "Description: NODE_2_length_22357_cov_8020.335934\n",
      "Number of features: 0\n",
      "Seq('TGTTCCATCTATATTTACCCAACTTGTACCATTCCATAAAATGTACTTCTTTAA...CAA', SingleLetterAlphabet())\n"
     ]
    }
   ],
   "source": [
    "import os\n",
    "from Bio import SeqIO\n",
    "dlen = 10000\n",
    "\n",
    "OutDir = \"/home/junyuchen/Lab/Phage-SOP/Result/Filter\"\n",
    "\n",
    "for contigs in SeqIO.parse(\"/home/junyuchen/Lab/Phage-SOP/Result/Meta-spades-test/BT_FDSW202399939-1r/scaffolds.fasta\", \"fasta\"):\n",
    "    if len(contigs) > dlen:\n",
    "        print(contigs.id)\n",
    "        print(contigs)\n",
    "        contigsOutDir = os.path.join(OutDir, contigs.name)\n",
    "        contigsOutPath = os.path.join(contigsOutDir, contigs.name+\".fasta\")\n",
    "        os.makedirs(contigsOutDir, 0o777, True)\n",
    "        SeqIO.write(contigs, contigsOutPath, \"fasta\")"
   ]
  },
  {
   "cell_type": "markdown",
   "metadata": {},
   "source": [
    "### output handle"
   ]
  },
  {
   "cell_type": "code",
   "execution_count": null,
   "metadata": {},
   "outputs": [],
   "source": []
  },
  {
   "cell_type": "code",
   "execution_count": null,
   "metadata": {},
   "outputs": [],
   "source": []
  },
  {
   "cell_type": "markdown",
   "metadata": {},
   "source": [
    "### prokka in parallel"
   ]
  },
  {
   "cell_type": "code",
   "execution_count": null,
   "metadata": {},
   "outputs": [],
   "source": [
    "def RunProkka(fasta, outDir, prefix):\n",
    "    cmd = \"prokka --kingdom Viruses --hmms VOGs --addgenes --prefix \" + prefix + \"--outdir \" + outDir + fasta\n",
    "    subprocess.call(cmd, shell=True)"
   ]
  },
  {
   "cell_type": "code",
   "execution_count": null,
   "metadata": {},
   "outputs": [],
   "source": [
    "prokka --outdir mydir --prefix Phage contigs.fa"
   ]
  },
  {
   "cell_type": "code",
   "execution_count": null,
   "metadata": {},
   "outputs": [],
   "source": [
    "prokka --kingdom Viruses --prefix Phage --addgenes --outdir prokka/CD1382_spades ./Quast-spades-kmer/CD1382_metaspades.fasta"
   ]
  },
  {
   "cell_type": "code",
   "execution_count": null,
   "metadata": {},
   "outputs": [],
   "source": [
    "--hmms VOGs"
   ]
  },
  {
   "cell_type": "markdown",
   "metadata": {},
   "source": [
    "#### set up the database"
   ]
  },
  {
   "cell_type": "code",
   "execution_count": null,
   "metadata": {},
   "outputs": [],
   "source": [
    "def RunProkkaParallel(fileList, outFileList, prefixList):\n",
    "    #numOfprocess = len(R1List)\n",
    "    #pool = Pool(processes=numOfprocess)\n",
    "    pool = Pool(processes=20)\n",
    "    pool.starmap(RunProkka, zip(fileList, outFileList, prefixList))\n",
    "    pool.close()\n",
    "    pool.join()\n",
    "    pool.terminate()"
   ]
  }
 ],
 "metadata": {
  "kernelspec": {
   "display_name": "Python 3",
   "language": "python",
   "name": "python3"
  },
  "language_info": {
   "codemirror_mode": {
    "name": "ipython",
    "version": 3
   },
   "file_extension": ".py",
   "mimetype": "text/x-python",
   "name": "python",
   "nbconvert_exporter": "python",
   "pygments_lexer": "ipython3",
   "version": "3.7.6"
  }
 },
 "nbformat": 4,
 "nbformat_minor": 4
}
