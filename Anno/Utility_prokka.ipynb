{
 "cells": [
  {
   "cell_type": "markdown",
   "metadata": {},
   "source": [
    "## Phage Genome Annotation"
   ]
  },
  {
   "cell_type": "markdown",
   "metadata": {},
   "source": [
    "### prokka"
   ]
  },
  {
   "cell_type": "markdown",
   "metadata": {},
   "source": [
    "https://github.com/tseemann/prokka"
   ]
  },
  {
   "cell_type": "code",
   "execution_count": null,
   "metadata": {},
   "outputs": [],
   "source": [
    "prokka --outdir mydir --prefix Phage contigs.fa"
   ]
  },
  {
   "cell_type": "code",
   "execution_count": 1,
   "metadata": {},
   "outputs": [
    {
     "name": "stdout",
     "output_type": "stream",
     "text": [
      "(phage) "
     ]
    },
    {
     "ename": "",
     "evalue": "1",
     "output_type": "error",
     "traceback": []
    }
   ],
   "source": [
    "conda activate phage"
   ]
  },
  {
   "cell_type": "markdown",
   "metadata": {},
   "source": [
    "A small, core set of well characterized proteins are first searched using BLAST+. This combination of small database and fast search typically completes about 70% of the workload. Then a series of slower but more sensitive HMM databases are searched using HMMER3."
   ]
  },
  {
   "cell_type": "markdown",
   "metadata": {},
   "source": [
    "For each --kingdom we include curated proteins with evidence that (i) from Bacteria (or Archaea or Viruses); (ii) not be \"Fragment\" entries; and (iii) have an evidence level (\"PE\") of 2 or lower, which corresponds to experimental mRNA or proteomics evidence."
   ]
  },
  {
   "cell_type": "markdown",
   "metadata": {},
   "source": [
    "1. An optional user-provided set of annotated proteins.\n",
    "2. All bacterial proteins in UniProt\n",
    "3. A series of hidden Markov model profile databases, including Pfam\n",
    "4. If no matches can be found, label as ‘hypothetical protein’."
   ]
  },
  {
   "cell_type": "code",
   "execution_count": null,
   "metadata": {},
   "outputs": [],
   "source": []
  },
  {
   "cell_type": "markdown",
   "metadata": {},
   "source": [
    "- Prodigal - Finds protein-coding features (CDS)\n",
    "- BLAST+ - Used for similarity searching against protein sequence libraries\n",
    "- HMMER3 - Used for similarity searching against protein family profiles\n",
    "- minced - Finds CRISPR arrays"
   ]
  },
  {
   "cell_type": "markdown",
   "metadata": {},
   "source": [
    "### Viruses (17008 results) "
   ]
  },
  {
   "cell_type": "markdown",
   "metadata": {},
   "source": [
    "Reviewed (Swiss-Prot) - Manually annotated "
   ]
  },
  {
   "cell_type": "code",
   "execution_count": null,
   "metadata": {},
   "outputs": [],
   "source": []
  },
  {
   "cell_type": "code",
   "execution_count": 6,
   "metadata": {},
   "outputs": [
    {
     "name": "stdout",
     "output_type": "stream",
     "text": [
      "[16:23:04] Looking for databases in: /home/junyuchen/Biosoft/anaconda3/envs/phage/db\n",
      "[16:23:04] * Kingdoms: Archaea Bacteria Mitochondria Viruses\n",
      "[16:23:05] * Genera: Enterococcus Escherichia Staphylococcus\n",
      "[16:23:05] * HMMs: HAMAP\n",
      "[16:23:05] * CMs: Archaea Bacteria Viruses\n",
      "(phage) "
     ]
    },
    {
     "ename": "",
     "evalue": "1",
     "output_type": "error",
     "traceback": []
    }
   ],
   "source": [
    "prokka --listdb"
   ]
  },
  {
   "cell_type": "markdown",
   "metadata": {},
   "source": [
    "#### HMMs: HAMAP "
   ]
  },
  {
   "cell_type": "markdown",
   "metadata": {},
   "source": [
    "hmm可能会准一点"
   ]
  },
  {
   "cell_type": "markdown",
   "metadata": {},
   "source": [
    "VOG HMM Profiles | HMM (9,518)"
   ]
  },
  {
   "cell_type": "code",
   "execution_count": null,
   "metadata": {},
   "outputs": [],
   "source": [
    "Virus Orthologous Groups"
   ]
  },
  {
   "cell_type": "code",
   "execution_count": null,
   "metadata": {},
   "outputs": [],
   "source": [
    "HMM (9,518)"
   ]
  },
  {
   "cell_type": "code",
   "execution_count": null,
   "metadata": {},
   "outputs": [],
   "source": [
    "cp /home/junyuchen/Lab/Phage-SOP/Database/VOGs/* /home/junyuchen/Biosoft/anaconda3/envs/phage/db/hmm"
   ]
  },
  {
   "cell_type": "code",
   "execution_count": 2,
   "metadata": {},
   "outputs": [
    {
     "name": "stdout",
     "output_type": "stream",
     "text": [
      "[21:15:27] Looking for databases in: /home/junyuchen/Biosoft/anaconda3/envs/phage/db\n",
      "[21:15:27] * Kingdoms: Archaea Bacteria Mitochondria Viruses\n",
      "[21:15:27] * Genera: Enterococcus Escherichia Staphylococcus\n",
      "[21:15:27] * HMMs: HAMAP VOGs\n",
      "[21:15:27] * CMs: Archaea Bacteria Viruses\n",
      "(phage) "
     ]
    },
    {
     "ename": "",
     "evalue": "1",
     "output_type": "error",
     "traceback": []
    }
   ],
   "source": [
    "prokka --listdb"
   ]
  },
  {
   "cell_type": "code",
   "execution_count": 3,
   "metadata": {},
   "outputs": [
    {
     "name": "stdout",
     "output_type": "stream",
     "text": [
      "Option h is ambiguous (help, hmms)\n",
      "Name:\n",
      "  Prokka 1.14.6 by Torsten Seemann <torsten.seemann@gmail.com>\n",
      "Synopsis:\n",
      "  rapid bacterial genome annotation\n",
      "Usage:\n",
      "  prokka [options] <contigs.fasta>\n",
      "General:\n",
      "  --help             This help\n",
      "  --version          Print version and exit\n",
      "  --citation         Print citation for referencing Prokka\n",
      "  --quiet            No screen output (default OFF)\n",
      "  --debug            Debug mode: keep all temporary files (default OFF)\n",
      "Setup:\n",
      "  --dbdir [X]        Prokka database root folders (default '/home/junyuchen/Biosoft/anaconda3/envs/phage/db')\n",
      "  --listdb           List all configured databases\n",
      "  --setupdb          Index all installed databases\n",
      "  --cleandb          Remove all database indices\n",
      "  --depends          List all software dependencies\n",
      "Outputs:\n",
      "  --outdir [X]       Output folder [auto] (default '')\n",
      "  --force            Force overwriting existing output folder (default OFF)\n",
      "  --prefix [X]       Filename output prefix [auto] (default '')\n",
      "  --addgenes         Add 'gene' features for each 'CDS' feature (default OFF)\n",
      "  --addmrna          Add 'mRNA' features for each 'CDS' feature (default OFF)\n",
      "  --locustag [X]     Locus tag prefix [auto] (default '')\n",
      "  --increment [N]    Locus tag counter increment (default '1')\n",
      "  --gffver [N]       GFF version (default '3')\n",
      "  --compliant        Force Genbank/ENA/DDJB compliance: --addgenes --mincontiglen 200 --centre XXX (default OFF)\n",
      "  --centre [X]       Sequencing centre ID. (default '')\n",
      "  --accver [N]       Version to put in Genbank file (default '1')\n",
      "Organism details:\n",
      "  --genus [X]        Genus name (default 'Genus')\n",
      "  --species [X]      Species name (default 'species')\n",
      "  --strain [X]       Strain name (default 'strain')\n",
      "  --plasmid [X]      Plasmid name or identifier (default '')\n",
      "Annotations:\n",
      "  --kingdom [X]      Annotation mode: Archaea|Bacteria|Mitochondria|Viruses (default 'Bacteria')\n",
      "  --gcode [N]        Genetic code / Translation table (set if --kingdom is set) (default '0')\n",
      "  --prodigaltf [X]   Prodigal training file (default '')\n",
      "  --gram [X]         Gram: -/neg +/pos (default '')\n",
      "  --usegenus         Use genus-specific BLAST databases (needs --genus) (default OFF)\n",
      "  --proteins [X]     FASTA or GBK file to use as 1st priority (default '')\n",
      "  --hmms [X]         Trusted HMM to first annotate from (default '')\n",
      "  --metagenome       Improve gene predictions for highly fragmented genomes (default OFF)\n",
      "  --rawproduct       Do not clean up /product annotation (default OFF)\n",
      "  --cdsrnaolap       Allow [tr]RNA to overlap CDS (default OFF)\n",
      "Matching:\n",
      "  --evalue [n.n]     Similarity e-value cut-off (default '1e-09')\n",
      "  --coverage [n.n]   Minimum coverage on query protein (default '80')\n",
      "Computation:\n",
      "  --cpus [N]         Number of CPUs to use [0=all] (default '8')\n",
      "  --fast             Fast mode - only use basic BLASTP databases (default OFF)\n",
      "  --noanno           For CDS just set /product=\"unannotated protein\" (default OFF)\n",
      "  --mincontiglen [N] Minimum contig size [NCBI needs 200] (default '1')\n",
      "  --rfam             Enable searching for ncRNAs with Infernal+Rfam (SLOW!) (default '0')\n",
      "  --norrna           Don't run rRNA search (default OFF)\n",
      "  --notrna           Don't run tRNA search (default OFF)\n",
      "  --rnammer          Prefer RNAmmer over Barrnap for rRNA prediction (default OFF)\n",
      "(phage) "
     ]
    },
    {
     "ename": "",
     "evalue": "1",
     "output_type": "error",
     "traceback": []
    }
   ],
   "source": [
    "prokka -h"
   ]
  },
  {
   "cell_type": "markdown",
   "metadata": {},
   "source": [
    "#### cm"
   ]
  },
  {
   "cell_type": "markdown",
   "metadata": {},
   "source": [
    "The `Rfam` database is a collection of RNA families"
   ]
  },
  {
   "cell_type": "markdown",
   "metadata": {},
   "source": [
    "The `.cm` files in this folder were generated by extracting only those Rfam entries that\n",
    "had members from the Bacteria, Viruses, and Archaea divisions (based on their taxonomy\n",
    "description in the public Rfam MySQL database)."
   ]
  },
  {
   "cell_type": "code",
   "execution_count": null,
   "metadata": {},
   "outputs": [],
   "source": []
  },
  {
   "cell_type": "markdown",
   "metadata": {},
   "source": [
    "`/home/junyuchen/Lab/Phage-SOP/Result/Assembly-2020-06-13/Quast/CD1382_spades.fasta`   \n",
    "`/home/junyuchen/Lab/Phage-SOP/Result/Assembly-2020-06-13/Quast/CD1382_soap.fasta`"
   ]
  },
  {
   "cell_type": "code",
   "execution_count": null,
   "metadata": {},
   "outputs": [],
   "source": [
    "prokka --kingdom Viruses --prefix Phage --outdir prokka/CD1382_spades /home/junyuchen/Lab/Phage-SOP/Result/Assembly-2020-06-13/Quast/CD1382_spades.fasta"
   ]
  },
  {
   "cell_type": "code",
   "execution_count": null,
   "metadata": {},
   "outputs": [],
   "source": [
    "prokka --kingdom Viruses --prefix Phage --addgenes /home/junyuchen/Lab/Phage-SOP/Out-test/FP7_FDSW202399942-1r/NODE_1_length_178520_cov_344.884958/NODE_1_length_178520_cov_344.884958.fasta"
   ]
  },
  {
   "cell_type": "code",
   "execution_count": null,
   "metadata": {},
   "outputs": [],
   "source": []
  },
  {
   "cell_type": "code",
   "execution_count": 51,
   "metadata": {
    "collapsed": true,
    "jupyter": {
     "outputs_hidden": true
    }
   },
   "outputs": [
    {
     "name": "stdout",
     "output_type": "stream",
     "text": [
      "/home/junyuchen/Lab/Phage-SOP/Out-test/FP7_FDSW202399942-1r/assemble/scaffolds.fasta\n",
      "/home/junyuchen/Lab/Phage-SOP/Out-test/FP7_FDSW202399942-1r/NODE_1_length_178520_cov_344.884958\n",
      "/home/junyuchen/Lab/Phage-SOP/Out-test/FP7_FDSW202399942-1r/NODE_1_length_178520_cov_344.884958/NODE_1_length_178520_cov_344.884958.fasta\n",
      "/home/junyuchen/Lab/Phage-SOP/Out-test/FP7_FDSW202399942-1r/NODE_2_length_98383_cov_1105.336903\n",
      "/home/junyuchen/Lab/Phage-SOP/Out-test/FP7_FDSW202399942-1r/NODE_2_length_98383_cov_1105.336903/NODE_2_length_98383_cov_1105.336903.fasta\n",
      "/home/junyuchen/Lab/Phage-SOP/Out-test/FP7_FDSW202399942-1r/NODE_3_length_47165_cov_11537.685502\n",
      "/home/junyuchen/Lab/Phage-SOP/Out-test/FP7_FDSW202399942-1r/NODE_3_length_47165_cov_11537.685502/NODE_3_length_47165_cov_11537.685502.fasta\n",
      "/home/junyuchen/Lab/Phage-SOP/Out-test/FP7_FDSW202399942-1r/NODE_4_length_34937_cov_82.923112\n",
      "/home/junyuchen/Lab/Phage-SOP/Out-test/FP7_FDSW202399942-1r/NODE_4_length_34937_cov_82.923112/NODE_4_length_34937_cov_82.923112.fasta\n",
      "/home/junyuchen/Lab/Phage-SOP/Out-test/FP7_FDSW202399942-1r/NODE_5_length_25751_cov_60.415823\n",
      "/home/junyuchen/Lab/Phage-SOP/Out-test/FP7_FDSW202399942-1r/NODE_5_length_25751_cov_60.415823/NODE_5_length_25751_cov_60.415823.fasta\n",
      "/home/junyuchen/Lab/Phage-SOP/Out-test/FP7_FDSW202399942-1r/NODE_6_length_14275_cov_62.077496\n",
      "/home/junyuchen/Lab/Phage-SOP/Out-test/FP7_FDSW202399942-1r/NODE_6_length_14275_cov_62.077496/NODE_6_length_14275_cov_62.077496.fasta\n",
      "/home/junyuchen/Lab/Phage-SOP/Out-test/FP7_FDSW202399942-1r/NODE_7_length_10830_cov_23.448353\n",
      "/home/junyuchen/Lab/Phage-SOP/Out-test/FP7_FDSW202399942-1r/NODE_7_length_10830_cov_23.448353/NODE_7_length_10830_cov_23.448353.fasta\n",
      "/home/junyuchen/Lab/Phage-SOP/Out-test/SP34_FDSW202399941-1r/assemble/scaffolds.fasta\n",
      "/home/junyuchen/Lab/Phage-SOP/Out-test/SP34_FDSW202399941-1r/NODE_1_length_98383_cov_2031.781293\n",
      "/home/junyuchen/Lab/Phage-SOP/Out-test/SP34_FDSW202399941-1r/NODE_1_length_98383_cov_2031.781293/NODE_1_length_98383_cov_2031.781293.fasta\n",
      "/home/junyuchen/Lab/Phage-SOP/Out-test/SP34_FDSW202399941-1r/NODE_2_length_50371_cov_14378.617080\n",
      "/home/junyuchen/Lab/Phage-SOP/Out-test/SP34_FDSW202399941-1r/NODE_2_length_50371_cov_14378.617080/NODE_2_length_50371_cov_14378.617080.fasta\n",
      "/home/junyuchen/Lab/Phage-SOP/Out-test/SP34_FDSW202399941-1r/NODE_3_length_50094_cov_404.898000\n",
      "/home/junyuchen/Lab/Phage-SOP/Out-test/SP34_FDSW202399941-1r/NODE_3_length_50094_cov_404.898000/NODE_3_length_50094_cov_404.898000.fasta\n",
      "/home/junyuchen/Lab/Phage-SOP/Out-test/SP34_FDSW202399941-1r/NODE_4_length_20492_cov_404.311396\n",
      "/home/junyuchen/Lab/Phage-SOP/Out-test/SP34_FDSW202399941-1r/NODE_4_length_20492_cov_404.311396/NODE_4_length_20492_cov_404.311396.fasta\n",
      "/home/junyuchen/Lab/Phage-SOP/Out-test/SP34_FDSW202399941-1r/NODE_5_length_18535_cov_439.241288\n",
      "/home/junyuchen/Lab/Phage-SOP/Out-test/SP34_FDSW202399941-1r/NODE_5_length_18535_cov_439.241288/NODE_5_length_18535_cov_439.241288.fasta\n",
      "/home/junyuchen/Lab/Phage-SOP/Out-test/SP34_FDSW202399941-1r/NODE_6_length_15227_cov_425.670775\n",
      "/home/junyuchen/Lab/Phage-SOP/Out-test/SP34_FDSW202399941-1r/NODE_6_length_15227_cov_425.670775/NODE_6_length_15227_cov_425.670775.fasta\n",
      "/home/junyuchen/Lab/Phage-SOP/Out-test/SP34_FDSW202399941-1r/NODE_7_length_13644_cov_415.021782\n",
      "/home/junyuchen/Lab/Phage-SOP/Out-test/SP34_FDSW202399941-1r/NODE_7_length_13644_cov_415.021782/NODE_7_length_13644_cov_415.021782.fasta\n",
      "/home/junyuchen/Lab/Phage-SOP/Out-test/CD12727_FDSW202399936-1r/assemble/scaffolds.fasta\n",
      "/home/junyuchen/Lab/Phage-SOP/Out-test/CD12727_FDSW202399936-1r/NODE_1_length_164966_cov_262.158971\n",
      "/home/junyuchen/Lab/Phage-SOP/Out-test/CD12727_FDSW202399936-1r/NODE_1_length_164966_cov_262.158971/NODE_1_length_164966_cov_262.158971.fasta\n",
      "/home/junyuchen/Lab/Phage-SOP/Out-test/CD12727_FDSW202399936-1r/NODE_2_length_134142_cov_23.097556\n",
      "/home/junyuchen/Lab/Phage-SOP/Out-test/CD12727_FDSW202399936-1r/NODE_2_length_134142_cov_23.097556/NODE_2_length_134142_cov_23.097556.fasta\n",
      "/home/junyuchen/Lab/Phage-SOP/Out-test/CD12727_FDSW202399936-1r/NODE_3_length_97866_cov_4553.120017\n",
      "/home/junyuchen/Lab/Phage-SOP/Out-test/CD12727_FDSW202399936-1r/NODE_3_length_97866_cov_4553.120017/NODE_3_length_97866_cov_4553.120017.fasta\n",
      "/home/junyuchen/Lab/Phage-SOP/Out-test/CD12727_FDSW202399936-1r/NODE_4_length_39649_cov_1144.317548\n",
      "/home/junyuchen/Lab/Phage-SOP/Out-test/CD12727_FDSW202399936-1r/NODE_4_length_39649_cov_1144.317548/NODE_4_length_39649_cov_1144.317548.fasta\n",
      "/home/junyuchen/Lab/Phage-SOP/Out-test/CD12727_FDSW202399936-1r/NODE_5_length_33259_cov_23.238315\n",
      "/home/junyuchen/Lab/Phage-SOP/Out-test/CD12727_FDSW202399936-1r/NODE_5_length_33259_cov_23.238315/NODE_5_length_33259_cov_23.238315.fasta\n",
      "/home/junyuchen/Lab/Phage-SOP/Out-test/CD12727_FDSW202399936-1r/NODE_6_length_26583_cov_1054.729606\n",
      "/home/junyuchen/Lab/Phage-SOP/Out-test/CD12727_FDSW202399936-1r/NODE_6_length_26583_cov_1054.729606/NODE_6_length_26583_cov_1054.729606.fasta\n",
      "/home/junyuchen/Lab/Phage-SOP/Out-test/CD12727_FDSW202399936-1r/NODE_7_length_21706_cov_46.044016\n",
      "/home/junyuchen/Lab/Phage-SOP/Out-test/CD12727_FDSW202399936-1r/NODE_7_length_21706_cov_46.044016/NODE_7_length_21706_cov_46.044016.fasta\n",
      "/home/junyuchen/Lab/Phage-SOP/Out-test/CD12727_FDSW202399936-1r/NODE_8_length_19002_cov_31.104080\n",
      "/home/junyuchen/Lab/Phage-SOP/Out-test/CD12727_FDSW202399936-1r/NODE_8_length_19002_cov_31.104080/NODE_8_length_19002_cov_31.104080.fasta\n",
      "/home/junyuchen/Lab/Phage-SOP/Out-test/CD12727_FDSW202399936-1r/NODE_9_length_14193_cov_942.362074\n",
      "/home/junyuchen/Lab/Phage-SOP/Out-test/CD12727_FDSW202399936-1r/NODE_9_length_14193_cov_942.362074/NODE_9_length_14193_cov_942.362074.fasta\n",
      "/home/junyuchen/Lab/Phage-SOP/Out-test/CD12727_FDSW202399936-1r/NODE_10_length_12622_cov_1179.591151\n",
      "/home/junyuchen/Lab/Phage-SOP/Out-test/CD12727_FDSW202399936-1r/NODE_10_length_12622_cov_1179.591151/NODE_10_length_12622_cov_1179.591151.fasta\n",
      "/home/junyuchen/Lab/Phage-SOP/Out-test/CD1382_FDSW202399938-1r/assemble/scaffolds.fasta\n",
      "/home/junyuchen/Lab/Phage-SOP/Out-test/CD1382_FDSW202399938-1r/NODE_1_length_167501_cov_42.904274\n",
      "/home/junyuchen/Lab/Phage-SOP/Out-test/CD1382_FDSW202399938-1r/NODE_1_length_167501_cov_42.904274/NODE_1_length_167501_cov_42.904274.fasta\n",
      "/home/junyuchen/Lab/Phage-SOP/Out-test/CD1382_FDSW202399938-1r/NODE_2_length_97655_cov_2546.011445\n",
      "/home/junyuchen/Lab/Phage-SOP/Out-test/CD1382_FDSW202399938-1r/NODE_2_length_97655_cov_2546.011445/NODE_2_length_97655_cov_2546.011445.fasta\n",
      "/home/junyuchen/Lab/Phage-SOP/Out-test/CD1382_FDSW202399938-1r/NODE_3_length_86889_cov_5793.294792\n",
      "/home/junyuchen/Lab/Phage-SOP/Out-test/CD1382_FDSW202399938-1r/NODE_3_length_86889_cov_5793.294792/NODE_3_length_86889_cov_5793.294792.fasta\n",
      "/home/junyuchen/Lab/Phage-SOP/Out-test/CD1382_FDSW202399938-1r/NODE_4_length_50225_cov_52.161272\n",
      "/home/junyuchen/Lab/Phage-SOP/Out-test/CD1382_FDSW202399938-1r/NODE_4_length_50225_cov_52.161272/NODE_4_length_50225_cov_52.161272.fasta\n",
      "/home/junyuchen/Lab/Phage-SOP/Out-test/CD1382_FDSW202399938-1r/NODE_5_length_29523_cov_98.038482\n",
      "/home/junyuchen/Lab/Phage-SOP/Out-test/CD1382_FDSW202399938-1r/NODE_5_length_29523_cov_98.038482/NODE_5_length_29523_cov_98.038482.fasta\n",
      "/home/junyuchen/Lab/Phage-SOP/Out-test/CD1382_FDSW202399938-1r/NODE_6_length_17469_cov_241.897898\n",
      "/home/junyuchen/Lab/Phage-SOP/Out-test/CD1382_FDSW202399938-1r/NODE_6_length_17469_cov_241.897898/NODE_6_length_17469_cov_241.897898.fasta\n",
      "/home/junyuchen/Lab/Phage-SOP/Out-test/CD1382_FDSW202399938-1r/NODE_7_length_16535_cov_119.779005\n",
      "/home/junyuchen/Lab/Phage-SOP/Out-test/CD1382_FDSW202399938-1r/NODE_7_length_16535_cov_119.779005/NODE_7_length_16535_cov_119.779005.fasta\n",
      "/home/junyuchen/Lab/Phage-SOP/Out-test/CD11204_FDSW202399937-1r/assemble/scaffolds.fasta\n",
      "/home/junyuchen/Lab/Phage-SOP/Out-test/CD11204_FDSW202399937-1r/NODE_1_length_133922_cov_16.209985\n",
      "/home/junyuchen/Lab/Phage-SOP/Out-test/CD11204_FDSW202399937-1r/NODE_1_length_133922_cov_16.209985/NODE_1_length_133922_cov_16.209985.fasta\n",
      "/home/junyuchen/Lab/Phage-SOP/Out-test/CD11204_FDSW202399937-1r/NODE_2_length_86889_cov_6256.174966\n",
      "/home/junyuchen/Lab/Phage-SOP/Out-test/CD11204_FDSW202399937-1r/NODE_2_length_86889_cov_6256.174966/NODE_2_length_86889_cov_6256.174966.fasta\n",
      "/home/junyuchen/Lab/Phage-SOP/Out-test/CD11204_FDSW202399937-1r/NODE_3_length_51024_cov_4028.508662\n",
      "/home/junyuchen/Lab/Phage-SOP/Out-test/CD11204_FDSW202399937-1r/NODE_3_length_51024_cov_4028.508662/NODE_3_length_51024_cov_4028.508662.fasta\n",
      "/home/junyuchen/Lab/Phage-SOP/Out-test/CD11204_FDSW202399937-1r/NODE_4_length_49745_cov_11.761642\n",
      "/home/junyuchen/Lab/Phage-SOP/Out-test/CD11204_FDSW202399937-1r/NODE_4_length_49745_cov_11.761642/NODE_4_length_49745_cov_11.761642.fasta\n",
      "/home/junyuchen/Lab/Phage-SOP/Out-test/CD11204_FDSW202399937-1r/NODE_5_length_48962_cov_11.810293\n",
      "/home/junyuchen/Lab/Phage-SOP/Out-test/CD11204_FDSW202399937-1r/NODE_5_length_48962_cov_11.810293/NODE_5_length_48962_cov_11.810293.fasta\n",
      "/home/junyuchen/Lab/Phage-SOP/Out-test/CD11204_FDSW202399937-1r/NODE_6_length_40050_cov_22.207876\n",
      "/home/junyuchen/Lab/Phage-SOP/Out-test/CD11204_FDSW202399937-1r/NODE_6_length_40050_cov_22.207876/NODE_6_length_40050_cov_22.207876.fasta\n",
      "/home/junyuchen/Lab/Phage-SOP/Out-test/CD11204_FDSW202399937-1r/NODE_7_length_33086_cov_6.393449\n",
      "/home/junyuchen/Lab/Phage-SOP/Out-test/CD11204_FDSW202399937-1r/NODE_7_length_33086_cov_6.393449/NODE_7_length_33086_cov_6.393449.fasta\n",
      "/home/junyuchen/Lab/Phage-SOP/Out-test/CD11204_FDSW202399937-1r/NODE_8_length_29524_cov_223.498965\n",
      "/home/junyuchen/Lab/Phage-SOP/Out-test/CD11204_FDSW202399937-1r/NODE_8_length_29524_cov_223.498965/NODE_8_length_29524_cov_223.498965.fasta\n",
      "/home/junyuchen/Lab/Phage-SOP/Out-test/CD11204_FDSW202399937-1r/NODE_9_length_27285_cov_6.288909\n",
      "/home/junyuchen/Lab/Phage-SOP/Out-test/CD11204_FDSW202399937-1r/NODE_9_length_27285_cov_6.288909/NODE_9_length_27285_cov_6.288909.fasta\n",
      "/home/junyuchen/Lab/Phage-SOP/Out-test/CD11204_FDSW202399937-1r/NODE_10_length_26894_cov_29.244756\n",
      "/home/junyuchen/Lab/Phage-SOP/Out-test/CD11204_FDSW202399937-1r/NODE_10_length_26894_cov_29.244756/NODE_10_length_26894_cov_29.244756.fasta\n",
      "/home/junyuchen/Lab/Phage-SOP/Out-test/CD11204_FDSW202399937-1r/NODE_11_length_19894_cov_6.038812\n",
      "/home/junyuchen/Lab/Phage-SOP/Out-test/CD11204_FDSW202399937-1r/NODE_11_length_19894_cov_6.038812/NODE_11_length_19894_cov_6.038812.fasta\n",
      "/home/junyuchen/Lab/Phage-SOP/Out-test/CD11204_FDSW202399937-1r/NODE_12_length_19882_cov_10.055530\n",
      "/home/junyuchen/Lab/Phage-SOP/Out-test/CD11204_FDSW202399937-1r/NODE_12_length_19882_cov_10.055530/NODE_12_length_19882_cov_10.055530.fasta\n",
      "/home/junyuchen/Lab/Phage-SOP/Out-test/CD11204_FDSW202399937-1r/NODE_13_length_18211_cov_6.048304\n",
      "/home/junyuchen/Lab/Phage-SOP/Out-test/CD11204_FDSW202399937-1r/NODE_13_length_18211_cov_6.048304/NODE_13_length_18211_cov_6.048304.fasta\n",
      "/home/junyuchen/Lab/Phage-SOP/Out-test/CD11204_FDSW202399937-1r/NODE_14_length_17865_cov_7.937619\n",
      "/home/junyuchen/Lab/Phage-SOP/Out-test/CD11204_FDSW202399937-1r/NODE_14_length_17865_cov_7.937619/NODE_14_length_17865_cov_7.937619.fasta\n",
      "/home/junyuchen/Lab/Phage-SOP/Out-test/CD11204_FDSW202399937-1r/NODE_15_length_16382_cov_11.130826\n",
      "/home/junyuchen/Lab/Phage-SOP/Out-test/CD11204_FDSW202399937-1r/NODE_15_length_16382_cov_11.130826/NODE_15_length_16382_cov_11.130826.fasta\n",
      "/home/junyuchen/Lab/Phage-SOP/Out-test/CD11204_FDSW202399937-1r/NODE_16_length_13681_cov_5.324160\n",
      "/home/junyuchen/Lab/Phage-SOP/Out-test/CD11204_FDSW202399937-1r/NODE_16_length_13681_cov_5.324160/NODE_16_length_13681_cov_5.324160.fasta\n",
      "/home/junyuchen/Lab/Phage-SOP/Out-test/CD11204_FDSW202399937-1r/NODE_17_length_11169_cov_3.448623\n",
      "/home/junyuchen/Lab/Phage-SOP/Out-test/CD11204_FDSW202399937-1r/NODE_17_length_11169_cov_3.448623/NODE_17_length_11169_cov_3.448623.fasta\n",
      "/home/junyuchen/Lab/Phage-SOP/Out-test/CD11204_FDSW202399937-1r/NODE_18_length_10405_cov_5.343575\n",
      "/home/junyuchen/Lab/Phage-SOP/Out-test/CD11204_FDSW202399937-1r/NODE_18_length_10405_cov_5.343575/NODE_18_length_10405_cov_5.343575.fasta\n",
      "/home/junyuchen/Lab/Phage-SOP/Out-test/CD11204_FDSW202399937-1r/NODE_19_length_10037_cov_4.658085\n",
      "/home/junyuchen/Lab/Phage-SOP/Out-test/CD11204_FDSW202399937-1r/NODE_19_length_10037_cov_4.658085/NODE_19_length_10037_cov_4.658085.fasta\n",
      "/home/junyuchen/Lab/Phage-SOP/Out-test/BT_FDSW202399939-1r/assemble/scaffolds.fasta\n",
      "/home/junyuchen/Lab/Phage-SOP/Out-test/BT_FDSW202399939-1r/NODE_1_length_62294_cov_7285.933884\n",
      "/home/junyuchen/Lab/Phage-SOP/Out-test/BT_FDSW202399939-1r/NODE_1_length_62294_cov_7285.933884/NODE_1_length_62294_cov_7285.933884.fasta\n",
      "/home/junyuchen/Lab/Phage-SOP/Out-test/BT_FDSW202399939-1r/NODE_2_length_22357_cov_8020.335934\n",
      "/home/junyuchen/Lab/Phage-SOP/Out-test/BT_FDSW202399939-1r/NODE_2_length_22357_cov_8020.335934/NODE_2_length_22357_cov_8020.335934.fasta\n",
      "/home/junyuchen/Lab/Phage-SOP/Out-test/SP24_FDSW202399940-1r/assemble/scaffolds.fasta\n",
      "/home/junyuchen/Lab/Phage-SOP/Out-test/SP24_FDSW202399940-1r/NODE_1_length_140481_cov_8.033826\n",
      "/home/junyuchen/Lab/Phage-SOP/Out-test/SP24_FDSW202399940-1r/NODE_1_length_140481_cov_8.033826/NODE_1_length_140481_cov_8.033826.fasta\n",
      "/home/junyuchen/Lab/Phage-SOP/Out-test/SP24_FDSW202399940-1r/NODE_2_length_98383_cov_202.102046\n",
      "/home/junyuchen/Lab/Phage-SOP/Out-test/SP24_FDSW202399940-1r/NODE_2_length_98383_cov_202.102046/NODE_2_length_98383_cov_202.102046.fasta\n",
      "/home/junyuchen/Lab/Phage-SOP/Out-test/SP24_FDSW202399940-1r/NODE_3_length_50371_cov_12496.890055\n",
      "/home/junyuchen/Lab/Phage-SOP/Out-test/SP24_FDSW202399940-1r/NODE_3_length_50371_cov_12496.890055/NODE_3_length_50371_cov_12496.890055.fasta\n",
      "/home/junyuchen/Lab/Phage-SOP/Out-test/SP24_FDSW202399940-1r/NODE_4_length_40509_cov_1997.390666\n",
      "/home/junyuchen/Lab/Phage-SOP/Out-test/SP24_FDSW202399940-1r/NODE_4_length_40509_cov_1997.390666/NODE_4_length_40509_cov_1997.390666.fasta\n",
      "/home/junyuchen/Lab/Phage-SOP/Out-test/SP24_FDSW202399940-1r/NODE_5_length_21387_cov_1887.400009\n",
      "/home/junyuchen/Lab/Phage-SOP/Out-test/SP24_FDSW202399940-1r/NODE_5_length_21387_cov_1887.400009/NODE_5_length_21387_cov_1887.400009.fasta\n",
      "/home/junyuchen/Lab/Phage-SOP/Out-test/SP24_FDSW202399940-1r/NODE_6_length_20673_cov_7.514211\n",
      "/home/junyuchen/Lab/Phage-SOP/Out-test/SP24_FDSW202399940-1r/NODE_6_length_20673_cov_7.514211/NODE_6_length_20673_cov_7.514211.fasta\n",
      "/home/junyuchen/Lab/Phage-SOP/Out-test/SP24_FDSW202399940-1r/NODE_7_length_11585_cov_3.891500\n",
      "/home/junyuchen/Lab/Phage-SOP/Out-test/SP24_FDSW202399940-1r/NODE_7_length_11585_cov_3.891500/NODE_7_length_11585_cov_3.891500.fasta\n",
      "/home/junyuchen/Lab/Phage-SOP/Out-test/SP24_FDSW202399940-1r/NODE_8_length_10936_cov_2167.133719\n",
      "/home/junyuchen/Lab/Phage-SOP/Out-test/SP24_FDSW202399940-1r/NODE_8_length_10936_cov_2167.133719/NODE_8_length_10936_cov_2167.133719.fasta\n",
      "/home/junyuchen/Lab/Phage-SOP/Out-test/SP24_FDSW202399940-1r/NODE_9_length_10805_cov_156.088558\n",
      "/home/junyuchen/Lab/Phage-SOP/Out-test/SP24_FDSW202399940-1r/NODE_9_length_10805_cov_156.088558/NODE_9_length_10805_cov_156.088558.fasta\n"
     ]
    }
   ],
   "source": [
    "for run in os.listdir(Dir):\n",
    "    for assemble in os.listdir(os.path.join(Dir, run)):\n",
    "        contigsOutDir = \"\"\n",
    "        contigsOutPath = \"\"\n",
    "        #SpadesFilePath = \"\"\n",
    "        prefixList = []\n",
    "        contigsFileList = []\n",
    "        contigsOutDirList = []\n",
    "        SpadesFilePath = os.path.join(Dir, run, assemble, \"scaffolds.fasta\")\n",
    "        print(SpadesFilePath)\n",
    "        if os.path.exists(SpadesFilePath):\n",
    "            for contigs in SeqIO.parse(SpadesFilePath, \"fasta\"):\n",
    "                    if len(contigs) > dlen:\n",
    "                        #print(contigs.id)\n",
    "                        #print(contigs)\n",
    "                        #print(dirs)\n",
    "                        #print(subdir)\n",
    "                        #print(contigs.name)\n",
    "                        contigsOutDir = os.path.join(Dir, run ,contigs.name) #OutDir is the sub dir of run\n",
    "                        contigsOutPath = os.path.join(contigsOutDir, contigs.name+\".fasta\")\n",
    "                        contigsOutDirList.append(contigsOutDir)\n",
    "                        contigsFileList.append(contigsOutPath)\n",
    "                        prefixList.append(contigs.name)\n",
    "                        print(contigsOutDir)\n",
    "                        print(contigsOutPath)\n",
    "                        #os.makedirs(contigsOutDir, 0o777, True)\n",
    "                        #SeqIO.write(contigs, contigsOutPath, \"fasta\")\n",
    "        #RunProkkaParallel(contigsFileList, contigsOutDirList, prefixList)"
   ]
  },
  {
   "cell_type": "code",
   "execution_count": null,
   "metadata": {},
   "outputs": [],
   "source": [
    "[09:41:38] Annotating as >>> Viruses <<<\n",
    "[09:41:38] '/home/junyuchen/Lab/Phage-SOP/Out-test/CD11204_FDSW202399937-1r/NODE_2_length_86889_cov_6256.174966/home/junyuchen/Lab/Phage-SOP/Out-test/CD11204_FDSW202399937-1r/NODE_2_length_86889_cov_6256.174966/NODE_2_length_86889_cov_6256.174966.fasta' is not a readable non-empty FASTA file\n",
    "[09:41:38] '/home/junyuchen/Lab/Phage-SOP/Out-test/CD11204_FDSW202399937-1r/NODE_6_length_40050_cov_22.207876/home/junyuchen/Lab/Phage-SOP/Out-test/CD11204_FDSW202399937-1r/NODE_6_length_40050_cov_22.207876/NODE_6_length_40050_cov_22.207876.fasta' is not a readable non-empty FASTA file\n",
    "[09:41:38] System has 28 cores.\n",
    "[09:41:38] Will use maximum of 8 cores."
   ]
  },
  {
   "cell_type": "code",
   "execution_count": null,
   "metadata": {},
   "outputs": [],
   "source": [
    "prokka --kingdom Viruses --addgenes --prefix NODE_1_length_62294_cov_7285.933884 --outdir /home/junyuchen/Lab/Phage-SOP/Out-test/BT_FDSW202399939-1r/NODE_1_length_62294_cov_7285.933884-3 --force /home/junyuchen/Lab/Phage-SOP/Out-test/BT_FDSW202399939-1r/NODE_1_length_62294_cov_7285.933884/NODE_1_length_62294_cov_7285.933884.fasta"
   ]
  },
  {
   "cell_type": "markdown",
   "metadata": {},
   "source": [
    "```shell\n",
    "prokka --kingdom Viruses --addgenes --prefix NODE_1_length_133922_cov_16.209985 --outdir /home/junyuchen/Lab/Phage-SOP/Out-test/CD11204_FDSW202399937-1r/NODE_1_length_133922_cov_16.209985 --force /home/junyuchen/Lab/Phage-SOP/Out-test/CD11204_FDSW202399937-1r/NODE_1_length_133922_cov_16.209985/NODE_1_length_133922_cov_16.209985.fasta\n",
    "```"
   ]
  },
  {
   "cell_type": "code",
   "execution_count": null,
   "metadata": {},
   "outputs": [],
   "source": [
    "prokka --addgenes --prefix NODE_1_length_62294_cov_7285.933884 --outdir /home/junyuchen/Lab/Phage-SOP/Out-test/BT_FDSW202399939-1r/NODE_1_length_62294_cov_7285.933884-1 --force /home/junyuchen/Lab/Phage-SOP/Out-test/BT_FDSW202399939-1r/NODE_1_length_62294_cov_7285.933884/NODE_1_length_62294_cov_7285.933884.fasta"
   ]
  },
  {
   "cell_type": "code",
   "execution_count": null,
   "metadata": {},
   "outputs": [],
   "source": [
    "prokka --addgenes --prefix NODE_1_length_62294_cov_7285.933884 -hmms /home/junyuchen/Lab/Phage-SOP/Database/VOGDB/VOGDB.hmm --outdir /home/junyuchen/Lab/Phage-SOP/Out-test/BT_FDSW202399939-1r/NODE_1_length_62294_cov_7285.933884-2 --force /home/junyuchen/Lab/Phage-SOP/Out-test/BT_FDSW202399939-1r/NODE_1_length_62294_cov_7285.933884/NODE_1_length_62294_cov_7285.933884.fasta"
   ]
  },
  {
   "cell_type": "markdown",
   "metadata": {},
   "source": [
    "```shell\n",
    "prokka --kingdom Viruses --hmms HAMAP --addgenes --prefix NODE_1_length_62294_cov_7285.933884 --outdir /home/junyuchen/Lab/Phage-SOP/Out-test/BT_FDSW202399939-1r/NODE_1_length_62294_cov_7285.933884 --force /home/junyuchen/Lab/Phage-SOP/Out-test/BT_FDSW202399939-1r/NODE_1_length_62294_cov_7285.933884/NODE_1_length_62294_cov_7285.933884.fasta\n",
    "prokka --kingdom Viruses --hmms VOGs --addgenes --prefix NODE_2_length_22357_cov_8020.335934--outdir /home/junyuchen/Lab/Phage-SOP/Out-test/BT_FDSW202399939-1r/NODE_2_length_22357_cov_8020.335934 /home/junyuchen/Lab/Phage-SOP/Out-test/BT_FDSW202399939-1r/NODE_2_length_22357_cov_8020.335934/NODE_2_length_22357_cov_8020.335934.fasta\n",
    "```"
   ]
  },
  {
   "cell_type": "code",
   "execution_count": null,
   "metadata": {},
   "outputs": [],
   "source": [
    "[09:53:46] Not using genus-specific database. Try --usegenus to enable it.\n",
    "[09:53:46] Preparing user-supplied primary HMMER annotation source: VOGs\n",
    "[09:53:46] Your HMM is not indexed, please run: hmmpress VOGs"
   ]
  },
  {
   "cell_type": "code",
   "execution_count": 32,
   "metadata": {},
   "outputs": [],
   "source": [
    "def AnnotatePhage(Dir):\n",
    "    for subdir, dirs, files in os.walk(Dir):\n",
    "        contigsOutDir = \"\"\n",
    "        contigsOutPath = \"\"\n",
    "        #SpadesFilePath = \"\"\n",
    "        prefixList = []\n",
    "        contigsFileList = []\n",
    "        contigsOutDirList = []\n",
    "        print(subdir)\n",
    "        for file in files:\n",
    "            if file == \"scaffolds.fasta\":\n",
    "                SpadesFilePath = os.path.join(subdir, \"scaffolds.fasta\")\n",
    "                #print(SpadesFilePath)\n",
    "                for contigs in SeqIO.parse(SpadesFilePath, \"fasta\"):\n",
    "                    if len(contigs) > dlen:\n",
    "                        #print(contigs.id)\n",
    "                        #print(contigs)\n",
    "                        #print(dirs)\n",
    "                        #print(subdir)\n",
    "                        #print(contigs.name)\n",
    "                        contigsOutDir = os.path.join(Dir, subdir.split(\"/\")[-1] ,contigs.name) #OutDir is the sub dir of run\n",
    "                        contigsOutPath = os.path.join(contigsOutDir, contigs.name+\".fasta\")\n",
    "                        contigsOutDirList.append(contigsOutDir)\n",
    "                        contigsFileList.append(contigsOutPath)\n",
    "                        prefixList.append(contigs.name)\n",
    "                        print(contigsOutDir)\n",
    "                        #os.makedirs(contigsOutDir, 0o777, True)\n",
    "                        #SeqIO.write(contigs, contigsOutPath, \"fasta\")\n",
    "        #RunProkkaParallel(contigsFileList, contigsOutDirList, prefixList)"
   ]
  },
  {
   "cell_type": "code",
   "execution_count": 33,
   "metadata": {},
   "outputs": [],
   "source": [
    "dlen = 10000"
   ]
  },
  {
   "cell_type": "code",
   "execution_count": 34,
   "metadata": {},
   "outputs": [],
   "source": [
    "Dir = \"/home/junyuchen/Lab/Phage-SOP/Out-test\""
   ]
  },
  {
   "cell_type": "code",
   "execution_count": 35,
   "metadata": {
    "collapsed": true,
    "jupyter": {
     "outputs_hidden": true
    }
   },
   "outputs": [
    {
     "name": "stdout",
     "output_type": "stream",
     "text": [
      "/home/junyuchen/Lab/Phage-SOP/Out-test\n",
      "/home/junyuchen/Lab/Phage-SOP/Out-test/FP7_FDSW202399942-1r\n",
      "/home/junyuchen/Lab/Phage-SOP/Out-test/FP7_FDSW202399942-1r/assemble\n",
      "/home/junyuchen/Lab/Phage-SOP/Out-test/assemble/NODE_1_length_178520_cov_344.884958\n",
      "/home/junyuchen/Lab/Phage-SOP/Out-test/assemble/NODE_2_length_98383_cov_1105.336903\n",
      "/home/junyuchen/Lab/Phage-SOP/Out-test/assemble/NODE_3_length_47165_cov_11537.685502\n",
      "/home/junyuchen/Lab/Phage-SOP/Out-test/assemble/NODE_4_length_34937_cov_82.923112\n",
      "/home/junyuchen/Lab/Phage-SOP/Out-test/assemble/NODE_5_length_25751_cov_60.415823\n",
      "/home/junyuchen/Lab/Phage-SOP/Out-test/assemble/NODE_6_length_14275_cov_62.077496\n",
      "/home/junyuchen/Lab/Phage-SOP/Out-test/assemble/NODE_7_length_10830_cov_23.448353\n",
      "/home/junyuchen/Lab/Phage-SOP/Out-test/FP7_FDSW202399942-1r/assemble/NODE_6_length_14275_cov_62.077496\n",
      "/home/junyuchen/Lab/Phage-SOP/Out-test/FP7_FDSW202399942-1r/assemble/pipeline_state\n",
      "/home/junyuchen/Lab/Phage-SOP/Out-test/FP7_FDSW202399942-1r/assemble/tmp\n",
      "/home/junyuchen/Lab/Phage-SOP/Out-test/FP7_FDSW202399942-1r/assemble/NODE_1_length_178520_cov_344.884958\n",
      "/home/junyuchen/Lab/Phage-SOP/Out-test/FP7_FDSW202399942-1r/assemble/corrected\n",
      "/home/junyuchen/Lab/Phage-SOP/Out-test/FP7_FDSW202399942-1r/assemble/corrected/configs\n",
      "/home/junyuchen/Lab/Phage-SOP/Out-test/FP7_FDSW202399942-1r/assemble/K55\n",
      "/home/junyuchen/Lab/Phage-SOP/Out-test/K55/NODE_1_length_178520_cov_344.884958\n",
      "/home/junyuchen/Lab/Phage-SOP/Out-test/K55/NODE_2_length_98383_cov_1105.336903\n",
      "/home/junyuchen/Lab/Phage-SOP/Out-test/K55/NODE_3_length_47165_cov_11537.685502\n",
      "/home/junyuchen/Lab/Phage-SOP/Out-test/K55/NODE_4_length_34937_cov_82.923112\n",
      "/home/junyuchen/Lab/Phage-SOP/Out-test/K55/NODE_5_length_25751_cov_60.415823\n",
      "/home/junyuchen/Lab/Phage-SOP/Out-test/K55/NODE_6_length_14275_cov_62.077496\n",
      "/home/junyuchen/Lab/Phage-SOP/Out-test/K55/NODE_7_length_10830_cov_23.448353\n",
      "/home/junyuchen/Lab/Phage-SOP/Out-test/FP7_FDSW202399942-1r/assemble/K55/NODE_6_length_14275_cov_62.077496\n",
      "/home/junyuchen/Lab/Phage-SOP/Out-test/FP7_FDSW202399942-1r/assemble/K55/path_extend\n",
      "/home/junyuchen/Lab/Phage-SOP/Out-test/FP7_FDSW202399942-1r/assemble/K55/NODE_1_length_178520_cov_344.884958\n",
      "/home/junyuchen/Lab/Phage-SOP/Out-test/FP7_FDSW202399942-1r/assemble/K55/NODE_5_length_25751_cov_60.415823\n",
      "/home/junyuchen/Lab/Phage-SOP/Out-test/FP7_FDSW202399942-1r/assemble/K55/NODE_7_length_10830_cov_23.448353\n",
      "/home/junyuchen/Lab/Phage-SOP/Out-test/FP7_FDSW202399942-1r/assemble/K55/configs\n",
      "/home/junyuchen/Lab/Phage-SOP/Out-test/FP7_FDSW202399942-1r/assemble/K55/NODE_2_length_98383_cov_1105.336903\n",
      "/home/junyuchen/Lab/Phage-SOP/Out-test/FP7_FDSW202399942-1r/assemble/K55/NODE_4_length_34937_cov_82.923112\n",
      "/home/junyuchen/Lab/Phage-SOP/Out-test/FP7_FDSW202399942-1r/assemble/K55/NODE_3_length_47165_cov_11537.685502\n",
      "/home/junyuchen/Lab/Phage-SOP/Out-test/FP7_FDSW202399942-1r/assemble/NODE_5_length_25751_cov_60.415823\n",
      "/home/junyuchen/Lab/Phage-SOP/Out-test/FP7_FDSW202399942-1r/assemble/NODE_7_length_10830_cov_23.448353\n",
      "/home/junyuchen/Lab/Phage-SOP/Out-test/FP7_FDSW202399942-1r/assemble/NODE_2_length_98383_cov_1105.336903\n",
      "/home/junyuchen/Lab/Phage-SOP/Out-test/FP7_FDSW202399942-1r/assemble/NODE_4_length_34937_cov_82.923112\n",
      "/home/junyuchen/Lab/Phage-SOP/Out-test/FP7_FDSW202399942-1r/assemble/K21\n",
      "/home/junyuchen/Lab/Phage-SOP/Out-test/FP7_FDSW202399942-1r/assemble/K21/configs\n",
      "/home/junyuchen/Lab/Phage-SOP/Out-test/FP7_FDSW202399942-1r/assemble/K21/simplified_contigs\n",
      "/home/junyuchen/Lab/Phage-SOP/Out-test/FP7_FDSW202399942-1r/assemble/NODE_3_length_47165_cov_11537.685502\n",
      "/home/junyuchen/Lab/Phage-SOP/Out-test/FP7_FDSW202399942-1r/assemble/misc\n",
      "/home/junyuchen/Lab/Phage-SOP/Out-test/FP7_FDSW202399942-1r/assemble/K33\n",
      "/home/junyuchen/Lab/Phage-SOP/Out-test/FP7_FDSW202399942-1r/assemble/K33/configs\n",
      "/home/junyuchen/Lab/Phage-SOP/Out-test/FP7_FDSW202399942-1r/assemble/K33/simplified_contigs\n",
      "/home/junyuchen/Lab/Phage-SOP/Out-test/SP34_FDSW202399941-1r\n",
      "/home/junyuchen/Lab/Phage-SOP/Out-test/SP34_FDSW202399941-1r/assemble\n",
      "/home/junyuchen/Lab/Phage-SOP/Out-test/assemble/NODE_1_length_98383_cov_2031.781293\n",
      "/home/junyuchen/Lab/Phage-SOP/Out-test/assemble/NODE_2_length_50371_cov_14378.617080\n",
      "/home/junyuchen/Lab/Phage-SOP/Out-test/assemble/NODE_3_length_50094_cov_404.898000\n",
      "/home/junyuchen/Lab/Phage-SOP/Out-test/assemble/NODE_4_length_20492_cov_404.311396\n",
      "/home/junyuchen/Lab/Phage-SOP/Out-test/assemble/NODE_5_length_18535_cov_439.241288\n",
      "/home/junyuchen/Lab/Phage-SOP/Out-test/assemble/NODE_6_length_15227_cov_425.670775\n",
      "/home/junyuchen/Lab/Phage-SOP/Out-test/assemble/NODE_7_length_13644_cov_415.021782\n",
      "/home/junyuchen/Lab/Phage-SOP/Out-test/SP34_FDSW202399941-1r/assemble/pipeline_state\n",
      "/home/junyuchen/Lab/Phage-SOP/Out-test/SP34_FDSW202399941-1r/assemble/NODE_2_length_50371_cov_14378.617080\n",
      "/home/junyuchen/Lab/Phage-SOP/Out-test/SP34_FDSW202399941-1r/assemble/tmp\n",
      "/home/junyuchen/Lab/Phage-SOP/Out-test/SP34_FDSW202399941-1r/assemble/NODE_5_length_18535_cov_439.241288\n",
      "/home/junyuchen/Lab/Phage-SOP/Out-test/SP34_FDSW202399941-1r/assemble/corrected\n",
      "/home/junyuchen/Lab/Phage-SOP/Out-test/SP34_FDSW202399941-1r/assemble/corrected/configs\n",
      "/home/junyuchen/Lab/Phage-SOP/Out-test/SP34_FDSW202399941-1r/assemble/K55\n",
      "/home/junyuchen/Lab/Phage-SOP/Out-test/K55/NODE_1_length_98383_cov_2031.781293\n",
      "/home/junyuchen/Lab/Phage-SOP/Out-test/K55/NODE_2_length_50371_cov_14378.617080\n",
      "/home/junyuchen/Lab/Phage-SOP/Out-test/K55/NODE_3_length_50094_cov_404.898000\n",
      "/home/junyuchen/Lab/Phage-SOP/Out-test/K55/NODE_4_length_20492_cov_404.311396\n",
      "/home/junyuchen/Lab/Phage-SOP/Out-test/K55/NODE_5_length_18535_cov_439.241288\n",
      "/home/junyuchen/Lab/Phage-SOP/Out-test/K55/NODE_6_length_15227_cov_425.670775\n",
      "/home/junyuchen/Lab/Phage-SOP/Out-test/K55/NODE_7_length_13644_cov_415.021782\n",
      "/home/junyuchen/Lab/Phage-SOP/Out-test/SP34_FDSW202399941-1r/assemble/K55/NODE_2_length_50371_cov_14378.617080\n",
      "/home/junyuchen/Lab/Phage-SOP/Out-test/SP34_FDSW202399941-1r/assemble/K55/path_extend\n",
      "/home/junyuchen/Lab/Phage-SOP/Out-test/SP34_FDSW202399941-1r/assemble/K55/NODE_5_length_18535_cov_439.241288\n",
      "/home/junyuchen/Lab/Phage-SOP/Out-test/SP34_FDSW202399941-1r/assemble/K55/NODE_3_length_50094_cov_404.898000\n",
      "/home/junyuchen/Lab/Phage-SOP/Out-test/SP34_FDSW202399941-1r/assemble/K55/NODE_4_length_20492_cov_404.311396\n",
      "/home/junyuchen/Lab/Phage-SOP/Out-test/SP34_FDSW202399941-1r/assemble/K55/NODE_6_length_15227_cov_425.670775\n",
      "/home/junyuchen/Lab/Phage-SOP/Out-test/SP34_FDSW202399941-1r/assemble/K55/configs\n",
      "/home/junyuchen/Lab/Phage-SOP/Out-test/SP34_FDSW202399941-1r/assemble/K55/NODE_1_length_98383_cov_2031.781293\n",
      "/home/junyuchen/Lab/Phage-SOP/Out-test/SP34_FDSW202399941-1r/assemble/K55/NODE_7_length_13644_cov_415.021782\n",
      "/home/junyuchen/Lab/Phage-SOP/Out-test/SP34_FDSW202399941-1r/assemble/NODE_3_length_50094_cov_404.898000\n",
      "/home/junyuchen/Lab/Phage-SOP/Out-test/SP34_FDSW202399941-1r/assemble/NODE_4_length_20492_cov_404.311396\n",
      "/home/junyuchen/Lab/Phage-SOP/Out-test/SP34_FDSW202399941-1r/assemble/NODE_6_length_15227_cov_425.670775\n",
      "/home/junyuchen/Lab/Phage-SOP/Out-test/SP34_FDSW202399941-1r/assemble/NODE_1_length_98383_cov_2031.781293\n",
      "/home/junyuchen/Lab/Phage-SOP/Out-test/SP34_FDSW202399941-1r/assemble/NODE_7_length_13644_cov_415.021782\n",
      "/home/junyuchen/Lab/Phage-SOP/Out-test/SP34_FDSW202399941-1r/assemble/K21\n",
      "/home/junyuchen/Lab/Phage-SOP/Out-test/SP34_FDSW202399941-1r/assemble/K21/configs\n",
      "/home/junyuchen/Lab/Phage-SOP/Out-test/SP34_FDSW202399941-1r/assemble/K21/simplified_contigs\n",
      "/home/junyuchen/Lab/Phage-SOP/Out-test/SP34_FDSW202399941-1r/assemble/misc\n",
      "/home/junyuchen/Lab/Phage-SOP/Out-test/SP34_FDSW202399941-1r/assemble/K33\n",
      "/home/junyuchen/Lab/Phage-SOP/Out-test/SP34_FDSW202399941-1r/assemble/K33/configs\n",
      "/home/junyuchen/Lab/Phage-SOP/Out-test/SP34_FDSW202399941-1r/assemble/K33/simplified_contigs\n",
      "/home/junyuchen/Lab/Phage-SOP/Out-test/CD12727_FDSW202399936-1r\n",
      "/home/junyuchen/Lab/Phage-SOP/Out-test/CD12727_FDSW202399936-1r/assemble\n",
      "/home/junyuchen/Lab/Phage-SOP/Out-test/assemble/NODE_1_length_164966_cov_262.158971\n",
      "/home/junyuchen/Lab/Phage-SOP/Out-test/assemble/NODE_2_length_134142_cov_23.097556\n",
      "/home/junyuchen/Lab/Phage-SOP/Out-test/assemble/NODE_3_length_97866_cov_4553.120017\n",
      "/home/junyuchen/Lab/Phage-SOP/Out-test/assemble/NODE_4_length_39649_cov_1144.317548\n",
      "/home/junyuchen/Lab/Phage-SOP/Out-test/assemble/NODE_5_length_33259_cov_23.238315\n",
      "/home/junyuchen/Lab/Phage-SOP/Out-test/assemble/NODE_6_length_26583_cov_1054.729606\n",
      "/home/junyuchen/Lab/Phage-SOP/Out-test/assemble/NODE_7_length_21706_cov_46.044016\n",
      "/home/junyuchen/Lab/Phage-SOP/Out-test/assemble/NODE_8_length_19002_cov_31.104080\n",
      "/home/junyuchen/Lab/Phage-SOP/Out-test/assemble/NODE_9_length_14193_cov_942.362074\n",
      "/home/junyuchen/Lab/Phage-SOP/Out-test/assemble/NODE_10_length_12622_cov_1179.591151\n",
      "/home/junyuchen/Lab/Phage-SOP/Out-test/CD12727_FDSW202399936-1r/assemble/pipeline_state\n",
      "/home/junyuchen/Lab/Phage-SOP/Out-test/CD12727_FDSW202399936-1r/assemble/NODE_4_length_39649_cov_1144.317548\n",
      "/home/junyuchen/Lab/Phage-SOP/Out-test/CD12727_FDSW202399936-1r/assemble/NODE_10_length_12622_cov_1179.591151\n",
      "/home/junyuchen/Lab/Phage-SOP/Out-test/CD12727_FDSW202399936-1r/assemble/tmp\n",
      "/home/junyuchen/Lab/Phage-SOP/Out-test/CD12727_FDSW202399936-1r/assemble/NODE_3_length_97866_cov_4553.120017\n",
      "/home/junyuchen/Lab/Phage-SOP/Out-test/CD12727_FDSW202399936-1r/assemble/corrected\n",
      "/home/junyuchen/Lab/Phage-SOP/Out-test/CD12727_FDSW202399936-1r/assemble/corrected/configs\n",
      "/home/junyuchen/Lab/Phage-SOP/Out-test/CD12727_FDSW202399936-1r/assemble/K55\n",
      "/home/junyuchen/Lab/Phage-SOP/Out-test/K55/NODE_1_length_164966_cov_262.158971\n",
      "/home/junyuchen/Lab/Phage-SOP/Out-test/K55/NODE_2_length_134142_cov_23.097556\n",
      "/home/junyuchen/Lab/Phage-SOP/Out-test/K55/NODE_3_length_97866_cov_4553.120017\n",
      "/home/junyuchen/Lab/Phage-SOP/Out-test/K55/NODE_4_length_39649_cov_1144.317548\n",
      "/home/junyuchen/Lab/Phage-SOP/Out-test/K55/NODE_5_length_33259_cov_23.238315\n",
      "/home/junyuchen/Lab/Phage-SOP/Out-test/K55/NODE_6_length_26583_cov_1054.729606\n",
      "/home/junyuchen/Lab/Phage-SOP/Out-test/K55/NODE_7_length_21706_cov_46.044016\n",
      "/home/junyuchen/Lab/Phage-SOP/Out-test/K55/NODE_8_length_19002_cov_31.104080\n",
      "/home/junyuchen/Lab/Phage-SOP/Out-test/K55/NODE_9_length_14193_cov_942.362074\n",
      "/home/junyuchen/Lab/Phage-SOP/Out-test/K55/NODE_10_length_12622_cov_1179.591151\n",
      "/home/junyuchen/Lab/Phage-SOP/Out-test/CD12727_FDSW202399936-1r/assemble/K55/NODE_4_length_39649_cov_1144.317548\n",
      "/home/junyuchen/Lab/Phage-SOP/Out-test/CD12727_FDSW202399936-1r/assemble/K55/NODE_10_length_12622_cov_1179.591151\n",
      "/home/junyuchen/Lab/Phage-SOP/Out-test/CD12727_FDSW202399936-1r/assemble/K55/NODE_3_length_97866_cov_4553.120017\n",
      "/home/junyuchen/Lab/Phage-SOP/Out-test/CD12727_FDSW202399936-1r/assemble/K55/path_extend\n",
      "/home/junyuchen/Lab/Phage-SOP/Out-test/CD12727_FDSW202399936-1r/assemble/K55/NODE_2_length_134142_cov_23.097556\n",
      "/home/junyuchen/Lab/Phage-SOP/Out-test/CD12727_FDSW202399936-1r/assemble/K55/NODE_1_length_164966_cov_262.158971\n",
      "/home/junyuchen/Lab/Phage-SOP/Out-test/CD12727_FDSW202399936-1r/assemble/K55/configs\n",
      "/home/junyuchen/Lab/Phage-SOP/Out-test/CD12727_FDSW202399936-1r/assemble/K55/NODE_8_length_19002_cov_31.104080\n",
      "/home/junyuchen/Lab/Phage-SOP/Out-test/CD12727_FDSW202399936-1r/assemble/K55/NODE_6_length_26583_cov_1054.729606\n",
      "/home/junyuchen/Lab/Phage-SOP/Out-test/CD12727_FDSW202399936-1r/assemble/K55/NODE_5_length_33259_cov_23.238315\n",
      "/home/junyuchen/Lab/Phage-SOP/Out-test/CD12727_FDSW202399936-1r/assemble/K55/NODE_9_length_14193_cov_942.362074\n",
      "/home/junyuchen/Lab/Phage-SOP/Out-test/CD12727_FDSW202399936-1r/assemble/K55/NODE_7_length_21706_cov_46.044016\n",
      "/home/junyuchen/Lab/Phage-SOP/Out-test/CD12727_FDSW202399936-1r/assemble/NODE_2_length_134142_cov_23.097556\n",
      "/home/junyuchen/Lab/Phage-SOP/Out-test/CD12727_FDSW202399936-1r/assemble/NODE_1_length_164966_cov_262.158971\n",
      "/home/junyuchen/Lab/Phage-SOP/Out-test/CD12727_FDSW202399936-1r/assemble/NODE_8_length_19002_cov_31.104080\n",
      "/home/junyuchen/Lab/Phage-SOP/Out-test/CD12727_FDSW202399936-1r/assemble/NODE_6_length_26583_cov_1054.729606\n",
      "/home/junyuchen/Lab/Phage-SOP/Out-test/CD12727_FDSW202399936-1r/assemble/K21\n",
      "/home/junyuchen/Lab/Phage-SOP/Out-test/CD12727_FDSW202399936-1r/assemble/K21/configs\n",
      "/home/junyuchen/Lab/Phage-SOP/Out-test/CD12727_FDSW202399936-1r/assemble/K21/simplified_contigs\n",
      "/home/junyuchen/Lab/Phage-SOP/Out-test/CD12727_FDSW202399936-1r/assemble/NODE_5_length_33259_cov_23.238315\n",
      "/home/junyuchen/Lab/Phage-SOP/Out-test/CD12727_FDSW202399936-1r/assemble/NODE_9_length_14193_cov_942.362074\n",
      "/home/junyuchen/Lab/Phage-SOP/Out-test/CD12727_FDSW202399936-1r/assemble/misc\n",
      "/home/junyuchen/Lab/Phage-SOP/Out-test/CD12727_FDSW202399936-1r/assemble/NODE_7_length_21706_cov_46.044016\n",
      "/home/junyuchen/Lab/Phage-SOP/Out-test/CD12727_FDSW202399936-1r/assemble/K33\n",
      "/home/junyuchen/Lab/Phage-SOP/Out-test/CD12727_FDSW202399936-1r/assemble/K33/configs\n",
      "/home/junyuchen/Lab/Phage-SOP/Out-test/CD12727_FDSW202399936-1r/assemble/K33/simplified_contigs\n",
      "/home/junyuchen/Lab/Phage-SOP/Out-test/CD1382_FDSW202399938-1r\n",
      "/home/junyuchen/Lab/Phage-SOP/Out-test/CD1382_FDSW202399938-1r/assemble\n",
      "/home/junyuchen/Lab/Phage-SOP/Out-test/assemble/NODE_1_length_167501_cov_42.904274\n",
      "/home/junyuchen/Lab/Phage-SOP/Out-test/assemble/NODE_2_length_97655_cov_2546.011445\n",
      "/home/junyuchen/Lab/Phage-SOP/Out-test/assemble/NODE_3_length_86889_cov_5793.294792\n",
      "/home/junyuchen/Lab/Phage-SOP/Out-test/assemble/NODE_4_length_50225_cov_52.161272\n",
      "/home/junyuchen/Lab/Phage-SOP/Out-test/assemble/NODE_5_length_29523_cov_98.038482\n",
      "/home/junyuchen/Lab/Phage-SOP/Out-test/assemble/NODE_6_length_17469_cov_241.897898\n",
      "/home/junyuchen/Lab/Phage-SOP/Out-test/assemble/NODE_7_length_16535_cov_119.779005\n",
      "/home/junyuchen/Lab/Phage-SOP/Out-test/CD1382_FDSW202399938-1r/assemble/pipeline_state\n",
      "/home/junyuchen/Lab/Phage-SOP/Out-test/CD1382_FDSW202399938-1r/assemble/tmp\n",
      "/home/junyuchen/Lab/Phage-SOP/Out-test/CD1382_FDSW202399938-1r/assemble/NODE_7_length_16535_cov_119.779005\n",
      "/home/junyuchen/Lab/Phage-SOP/Out-test/CD1382_FDSW202399938-1r/assemble/NODE_2_length_97655_cov_2546.011445\n",
      "/home/junyuchen/Lab/Phage-SOP/Out-test/CD1382_FDSW202399938-1r/assemble/corrected\n",
      "/home/junyuchen/Lab/Phage-SOP/Out-test/CD1382_FDSW202399938-1r/assemble/corrected/configs\n",
      "/home/junyuchen/Lab/Phage-SOP/Out-test/CD1382_FDSW202399938-1r/assemble/K55\n",
      "/home/junyuchen/Lab/Phage-SOP/Out-test/K55/NODE_1_length_167501_cov_42.904274\n",
      "/home/junyuchen/Lab/Phage-SOP/Out-test/K55/NODE_2_length_97655_cov_2546.011445\n",
      "/home/junyuchen/Lab/Phage-SOP/Out-test/K55/NODE_3_length_86889_cov_5793.294792\n",
      "/home/junyuchen/Lab/Phage-SOP/Out-test/K55/NODE_4_length_50225_cov_52.161272\n",
      "/home/junyuchen/Lab/Phage-SOP/Out-test/K55/NODE_5_length_29523_cov_98.038482\n",
      "/home/junyuchen/Lab/Phage-SOP/Out-test/K55/NODE_6_length_17469_cov_241.897898\n",
      "/home/junyuchen/Lab/Phage-SOP/Out-test/K55/NODE_7_length_16535_cov_119.779005\n",
      "/home/junyuchen/Lab/Phage-SOP/Out-test/CD1382_FDSW202399938-1r/assemble/K55/NODE_7_length_16535_cov_119.779005\n",
      "/home/junyuchen/Lab/Phage-SOP/Out-test/CD1382_FDSW202399938-1r/assemble/K55/path_extend\n",
      "/home/junyuchen/Lab/Phage-SOP/Out-test/CD1382_FDSW202399938-1r/assemble/K55/NODE_2_length_97655_cov_2546.011445\n",
      "/home/junyuchen/Lab/Phage-SOP/Out-test/CD1382_FDSW202399938-1r/assemble/K55/NODE_1_length_167501_cov_42.904274\n",
      "/home/junyuchen/Lab/Phage-SOP/Out-test/CD1382_FDSW202399938-1r/assemble/K55/NODE_4_length_50225_cov_52.161272\n",
      "/home/junyuchen/Lab/Phage-SOP/Out-test/CD1382_FDSW202399938-1r/assemble/K55/configs\n",
      "/home/junyuchen/Lab/Phage-SOP/Out-test/CD1382_FDSW202399938-1r/assemble/K55/NODE_3_length_86889_cov_5793.294792\n",
      "/home/junyuchen/Lab/Phage-SOP/Out-test/CD1382_FDSW202399938-1r/assemble/K55/NODE_5_length_29523_cov_98.038482\n",
      "/home/junyuchen/Lab/Phage-SOP/Out-test/CD1382_FDSW202399938-1r/assemble/K55/NODE_6_length_17469_cov_241.897898\n",
      "/home/junyuchen/Lab/Phage-SOP/Out-test/CD1382_FDSW202399938-1r/assemble/NODE_1_length_167501_cov_42.904274\n",
      "/home/junyuchen/Lab/Phage-SOP/Out-test/CD1382_FDSW202399938-1r/assemble/NODE_4_length_50225_cov_52.161272\n",
      "/home/junyuchen/Lab/Phage-SOP/Out-test/CD1382_FDSW202399938-1r/assemble/NODE_3_length_86889_cov_5793.294792\n",
      "/home/junyuchen/Lab/Phage-SOP/Out-test/CD1382_FDSW202399938-1r/assemble/K21\n",
      "/home/junyuchen/Lab/Phage-SOP/Out-test/CD1382_FDSW202399938-1r/assemble/K21/configs\n",
      "/home/junyuchen/Lab/Phage-SOP/Out-test/CD1382_FDSW202399938-1r/assemble/K21/simplified_contigs\n",
      "/home/junyuchen/Lab/Phage-SOP/Out-test/CD1382_FDSW202399938-1r/assemble/NODE_5_length_29523_cov_98.038482\n",
      "/home/junyuchen/Lab/Phage-SOP/Out-test/CD1382_FDSW202399938-1r/assemble/misc\n",
      "/home/junyuchen/Lab/Phage-SOP/Out-test/CD1382_FDSW202399938-1r/assemble/NODE_6_length_17469_cov_241.897898\n",
      "/home/junyuchen/Lab/Phage-SOP/Out-test/CD1382_FDSW202399938-1r/assemble/K33\n",
      "/home/junyuchen/Lab/Phage-SOP/Out-test/CD1382_FDSW202399938-1r/assemble/K33/configs\n",
      "/home/junyuchen/Lab/Phage-SOP/Out-test/CD1382_FDSW202399938-1r/assemble/K33/simplified_contigs\n",
      "/home/junyuchen/Lab/Phage-SOP/Out-test/CD11204_FDSW202399937-1r\n",
      "/home/junyuchen/Lab/Phage-SOP/Out-test/CD11204_FDSW202399937-1r/assemble\n",
      "/home/junyuchen/Lab/Phage-SOP/Out-test/assemble/NODE_1_length_133922_cov_16.209985\n",
      "/home/junyuchen/Lab/Phage-SOP/Out-test/assemble/NODE_2_length_86889_cov_6256.174966\n",
      "/home/junyuchen/Lab/Phage-SOP/Out-test/assemble/NODE_3_length_51024_cov_4028.508662\n",
      "/home/junyuchen/Lab/Phage-SOP/Out-test/assemble/NODE_4_length_49745_cov_11.761642\n",
      "/home/junyuchen/Lab/Phage-SOP/Out-test/assemble/NODE_5_length_48962_cov_11.810293\n",
      "/home/junyuchen/Lab/Phage-SOP/Out-test/assemble/NODE_6_length_40050_cov_22.207876\n",
      "/home/junyuchen/Lab/Phage-SOP/Out-test/assemble/NODE_7_length_33086_cov_6.393449\n",
      "/home/junyuchen/Lab/Phage-SOP/Out-test/assemble/NODE_8_length_29524_cov_223.498965\n",
      "/home/junyuchen/Lab/Phage-SOP/Out-test/assemble/NODE_9_length_27285_cov_6.288909\n",
      "/home/junyuchen/Lab/Phage-SOP/Out-test/assemble/NODE_10_length_26894_cov_29.244756\n",
      "/home/junyuchen/Lab/Phage-SOP/Out-test/assemble/NODE_11_length_19894_cov_6.038812\n",
      "/home/junyuchen/Lab/Phage-SOP/Out-test/assemble/NODE_12_length_19882_cov_10.055530\n",
      "/home/junyuchen/Lab/Phage-SOP/Out-test/assemble/NODE_13_length_18211_cov_6.048304\n",
      "/home/junyuchen/Lab/Phage-SOP/Out-test/assemble/NODE_14_length_17865_cov_7.937619\n",
      "/home/junyuchen/Lab/Phage-SOP/Out-test/assemble/NODE_15_length_16382_cov_11.130826\n",
      "/home/junyuchen/Lab/Phage-SOP/Out-test/assemble/NODE_16_length_13681_cov_5.324160\n",
      "/home/junyuchen/Lab/Phage-SOP/Out-test/assemble/NODE_17_length_11169_cov_3.448623\n",
      "/home/junyuchen/Lab/Phage-SOP/Out-test/assemble/NODE_18_length_10405_cov_5.343575\n",
      "/home/junyuchen/Lab/Phage-SOP/Out-test/assemble/NODE_19_length_10037_cov_4.658085\n",
      "/home/junyuchen/Lab/Phage-SOP/Out-test/CD11204_FDSW202399937-1r/assemble/pipeline_state\n",
      "/home/junyuchen/Lab/Phage-SOP/Out-test/CD11204_FDSW202399937-1r/assemble/NODE_2_length_86889_cov_6256.174966\n",
      "/home/junyuchen/Lab/Phage-SOP/Out-test/CD11204_FDSW202399937-1r/assemble/tmp\n",
      "/home/junyuchen/Lab/Phage-SOP/Out-test/CD11204_FDSW202399937-1r/assemble/NODE_4_length_49745_cov_11.761642\n",
      "/home/junyuchen/Lab/Phage-SOP/Out-test/CD11204_FDSW202399937-1r/assemble/NODE_5_length_48962_cov_11.810293\n",
      "/home/junyuchen/Lab/Phage-SOP/Out-test/CD11204_FDSW202399937-1r/assemble/corrected\n",
      "/home/junyuchen/Lab/Phage-SOP/Out-test/CD11204_FDSW202399937-1r/assemble/corrected/configs\n",
      "/home/junyuchen/Lab/Phage-SOP/Out-test/CD11204_FDSW202399937-1r/assemble/K55\n",
      "/home/junyuchen/Lab/Phage-SOP/Out-test/K55/NODE_1_length_133922_cov_16.209985\n",
      "/home/junyuchen/Lab/Phage-SOP/Out-test/K55/NODE_2_length_86889_cov_6256.174966\n",
      "/home/junyuchen/Lab/Phage-SOP/Out-test/K55/NODE_3_length_51024_cov_4028.508662\n",
      "/home/junyuchen/Lab/Phage-SOP/Out-test/K55/NODE_4_length_49745_cov_11.761642\n",
      "/home/junyuchen/Lab/Phage-SOP/Out-test/K55/NODE_5_length_48962_cov_11.810293\n",
      "/home/junyuchen/Lab/Phage-SOP/Out-test/K55/NODE_6_length_40050_cov_22.207876\n",
      "/home/junyuchen/Lab/Phage-SOP/Out-test/K55/NODE_7_length_33086_cov_6.393449\n",
      "/home/junyuchen/Lab/Phage-SOP/Out-test/K55/NODE_8_length_29524_cov_223.498965\n",
      "/home/junyuchen/Lab/Phage-SOP/Out-test/K55/NODE_9_length_27285_cov_6.288909\n",
      "/home/junyuchen/Lab/Phage-SOP/Out-test/K55/NODE_10_length_26894_cov_29.244756\n",
      "/home/junyuchen/Lab/Phage-SOP/Out-test/K55/NODE_11_length_19894_cov_6.038812\n",
      "/home/junyuchen/Lab/Phage-SOP/Out-test/K55/NODE_12_length_19882_cov_10.055530\n",
      "/home/junyuchen/Lab/Phage-SOP/Out-test/K55/NODE_13_length_18211_cov_6.048304\n",
      "/home/junyuchen/Lab/Phage-SOP/Out-test/K55/NODE_14_length_17865_cov_7.937619\n",
      "/home/junyuchen/Lab/Phage-SOP/Out-test/K55/NODE_15_length_16382_cov_11.130826\n",
      "/home/junyuchen/Lab/Phage-SOP/Out-test/K55/NODE_16_length_13681_cov_5.324160\n",
      "/home/junyuchen/Lab/Phage-SOP/Out-test/K55/NODE_17_length_11169_cov_3.448623\n",
      "/home/junyuchen/Lab/Phage-SOP/Out-test/K55/NODE_18_length_10405_cov_5.343575\n",
      "/home/junyuchen/Lab/Phage-SOP/Out-test/K55/NODE_19_length_10037_cov_4.658085\n",
      "/home/junyuchen/Lab/Phage-SOP/Out-test/CD11204_FDSW202399937-1r/assemble/K55/NODE_2_length_86889_cov_6256.174966\n",
      "/home/junyuchen/Lab/Phage-SOP/Out-test/CD11204_FDSW202399937-1r/assemble/K55/path_extend\n",
      "/home/junyuchen/Lab/Phage-SOP/Out-test/CD11204_FDSW202399937-1r/assemble/K55/NODE_4_length_49745_cov_11.761642\n",
      "/home/junyuchen/Lab/Phage-SOP/Out-test/CD11204_FDSW202399937-1r/assemble/K55/NODE_5_length_48962_cov_11.810293\n",
      "/home/junyuchen/Lab/Phage-SOP/Out-test/CD11204_FDSW202399937-1r/assemble/K55/NODE_13_length_18211_cov_6.048304\n",
      "/home/junyuchen/Lab/Phage-SOP/Out-test/CD11204_FDSW202399937-1r/assemble/K55/NODE_16_length_13681_cov_5.324160\n",
      "/home/junyuchen/Lab/Phage-SOP/Out-test/CD11204_FDSW202399937-1r/assemble/K55/NODE_11_length_19894_cov_6.038812\n",
      "/home/junyuchen/Lab/Phage-SOP/Out-test/CD11204_FDSW202399937-1r/assemble/K55/NODE_6_length_40050_cov_22.207876\n",
      "/home/junyuchen/Lab/Phage-SOP/Out-test/CD11204_FDSW202399937-1r/assemble/K55/NODE_12_length_19882_cov_10.055530\n",
      "/home/junyuchen/Lab/Phage-SOP/Out-test/CD11204_FDSW202399937-1r/assemble/K55/NODE_15_length_16382_cov_11.130826\n",
      "/home/junyuchen/Lab/Phage-SOP/Out-test/CD11204_FDSW202399937-1r/assemble/K55/NODE_10_length_26894_cov_29.244756\n",
      "/home/junyuchen/Lab/Phage-SOP/Out-test/CD11204_FDSW202399937-1r/assemble/K55/NODE_8_length_29524_cov_223.498965\n",
      "/home/junyuchen/Lab/Phage-SOP/Out-test/CD11204_FDSW202399937-1r/assemble/K55/NODE_14_length_17865_cov_7.937619\n",
      "/home/junyuchen/Lab/Phage-SOP/Out-test/CD11204_FDSW202399937-1r/assemble/K55/configs\n",
      "/home/junyuchen/Lab/Phage-SOP/Out-test/CD11204_FDSW202399937-1r/assemble/K55/NODE_1_length_133922_cov_16.209985\n",
      "/home/junyuchen/Lab/Phage-SOP/Out-test/CD11204_FDSW202399937-1r/assemble/K55/NODE_7_length_33086_cov_6.393449\n",
      "/home/junyuchen/Lab/Phage-SOP/Out-test/CD11204_FDSW202399937-1r/assemble/K55/NODE_19_length_10037_cov_4.658085\n",
      "/home/junyuchen/Lab/Phage-SOP/Out-test/CD11204_FDSW202399937-1r/assemble/K55/NODE_3_length_51024_cov_4028.508662\n",
      "/home/junyuchen/Lab/Phage-SOP/Out-test/CD11204_FDSW202399937-1r/assemble/K55/NODE_17_length_11169_cov_3.448623\n",
      "/home/junyuchen/Lab/Phage-SOP/Out-test/CD11204_FDSW202399937-1r/assemble/K55/NODE_9_length_27285_cov_6.288909\n",
      "/home/junyuchen/Lab/Phage-SOP/Out-test/CD11204_FDSW202399937-1r/assemble/K55/NODE_18_length_10405_cov_5.343575\n",
      "/home/junyuchen/Lab/Phage-SOP/Out-test/CD11204_FDSW202399937-1r/assemble/NODE_13_length_18211_cov_6.048304\n",
      "/home/junyuchen/Lab/Phage-SOP/Out-test/CD11204_FDSW202399937-1r/assemble/NODE_16_length_13681_cov_5.324160\n",
      "/home/junyuchen/Lab/Phage-SOP/Out-test/CD11204_FDSW202399937-1r/assemble/NODE_11_length_19894_cov_6.038812\n",
      "/home/junyuchen/Lab/Phage-SOP/Out-test/CD11204_FDSW202399937-1r/assemble/NODE_6_length_40050_cov_22.207876\n",
      "/home/junyuchen/Lab/Phage-SOP/Out-test/CD11204_FDSW202399937-1r/assemble/NODE_12_length_19882_cov_10.055530\n",
      "/home/junyuchen/Lab/Phage-SOP/Out-test/CD11204_FDSW202399937-1r/assemble/NODE_15_length_16382_cov_11.130826\n",
      "/home/junyuchen/Lab/Phage-SOP/Out-test/CD11204_FDSW202399937-1r/assemble/NODE_10_length_26894_cov_29.244756\n",
      "/home/junyuchen/Lab/Phage-SOP/Out-test/CD11204_FDSW202399937-1r/assemble/NODE_8_length_29524_cov_223.498965\n",
      "/home/junyuchen/Lab/Phage-SOP/Out-test/CD11204_FDSW202399937-1r/assemble/NODE_14_length_17865_cov_7.937619\n",
      "/home/junyuchen/Lab/Phage-SOP/Out-test/CD11204_FDSW202399937-1r/assemble/NODE_1_length_133922_cov_16.209985\n",
      "/home/junyuchen/Lab/Phage-SOP/Out-test/CD11204_FDSW202399937-1r/assemble/NODE_7_length_33086_cov_6.393449\n",
      "/home/junyuchen/Lab/Phage-SOP/Out-test/CD11204_FDSW202399937-1r/assemble/NODE_19_length_10037_cov_4.658085\n",
      "/home/junyuchen/Lab/Phage-SOP/Out-test/CD11204_FDSW202399937-1r/assemble/K21\n",
      "/home/junyuchen/Lab/Phage-SOP/Out-test/CD11204_FDSW202399937-1r/assemble/K21/configs\n",
      "/home/junyuchen/Lab/Phage-SOP/Out-test/CD11204_FDSW202399937-1r/assemble/K21/simplified_contigs\n",
      "/home/junyuchen/Lab/Phage-SOP/Out-test/CD11204_FDSW202399937-1r/assemble/NODE_3_length_51024_cov_4028.508662\n",
      "/home/junyuchen/Lab/Phage-SOP/Out-test/CD11204_FDSW202399937-1r/assemble/NODE_17_length_11169_cov_3.448623\n",
      "/home/junyuchen/Lab/Phage-SOP/Out-test/CD11204_FDSW202399937-1r/assemble/NODE_9_length_27285_cov_6.288909\n",
      "/home/junyuchen/Lab/Phage-SOP/Out-test/CD11204_FDSW202399937-1r/assemble/misc\n",
      "/home/junyuchen/Lab/Phage-SOP/Out-test/CD11204_FDSW202399937-1r/assemble/NODE_18_length_10405_cov_5.343575\n",
      "/home/junyuchen/Lab/Phage-SOP/Out-test/CD11204_FDSW202399937-1r/assemble/K33\n",
      "/home/junyuchen/Lab/Phage-SOP/Out-test/CD11204_FDSW202399937-1r/assemble/K33/configs\n",
      "/home/junyuchen/Lab/Phage-SOP/Out-test/CD11204_FDSW202399937-1r/assemble/K33/simplified_contigs\n",
      "/home/junyuchen/Lab/Phage-SOP/Out-test/.ipynb_checkpoints\n",
      "/home/junyuchen/Lab/Phage-SOP/Out-test/BT_FDSW202399939-1r\n",
      "/home/junyuchen/Lab/Phage-SOP/Out-test/BT_FDSW202399939-1r/assemble\n",
      "/home/junyuchen/Lab/Phage-SOP/Out-test/assemble/NODE_1_length_62294_cov_7285.933884\n",
      "/home/junyuchen/Lab/Phage-SOP/Out-test/assemble/NODE_2_length_22357_cov_8020.335934\n",
      "/home/junyuchen/Lab/Phage-SOP/Out-test/BT_FDSW202399939-1r/assemble/pipeline_state\n",
      "/home/junyuchen/Lab/Phage-SOP/Out-test/BT_FDSW202399939-1r/assemble/NODE_1_length_62294_cov_7285.933884\n",
      "/home/junyuchen/Lab/Phage-SOP/Out-test/BT_FDSW202399939-1r/assemble/tmp\n",
      "/home/junyuchen/Lab/Phage-SOP/Out-test/BT_FDSW202399939-1r/assemble/corrected\n",
      "/home/junyuchen/Lab/Phage-SOP/Out-test/BT_FDSW202399939-1r/assemble/corrected/configs\n",
      "/home/junyuchen/Lab/Phage-SOP/Out-test/BT_FDSW202399939-1r/assemble/K55\n",
      "/home/junyuchen/Lab/Phage-SOP/Out-test/K55/NODE_1_length_62294_cov_7285.933884\n",
      "/home/junyuchen/Lab/Phage-SOP/Out-test/K55/NODE_2_length_22357_cov_8020.335934\n",
      "/home/junyuchen/Lab/Phage-SOP/Out-test/BT_FDSW202399939-1r/assemble/K55/NODE_1_length_62294_cov_7285.933884\n",
      "/home/junyuchen/Lab/Phage-SOP/Out-test/BT_FDSW202399939-1r/assemble/K55/path_extend\n",
      "/home/junyuchen/Lab/Phage-SOP/Out-test/BT_FDSW202399939-1r/assemble/K55/configs\n",
      "/home/junyuchen/Lab/Phage-SOP/Out-test/BT_FDSW202399939-1r/assemble/K55/NODE_2_length_22357_cov_8020.335934\n",
      "/home/junyuchen/Lab/Phage-SOP/Out-test/BT_FDSW202399939-1r/assemble/NODE_2_length_22357_cov_8020.335934\n",
      "/home/junyuchen/Lab/Phage-SOP/Out-test/BT_FDSW202399939-1r/assemble/K21\n",
      "/home/junyuchen/Lab/Phage-SOP/Out-test/BT_FDSW202399939-1r/assemble/K21/configs\n",
      "/home/junyuchen/Lab/Phage-SOP/Out-test/BT_FDSW202399939-1r/assemble/K21/simplified_contigs\n",
      "/home/junyuchen/Lab/Phage-SOP/Out-test/BT_FDSW202399939-1r/assemble/misc\n",
      "/home/junyuchen/Lab/Phage-SOP/Out-test/BT_FDSW202399939-1r/assemble/K33\n",
      "/home/junyuchen/Lab/Phage-SOP/Out-test/BT_FDSW202399939-1r/assemble/K33/configs\n",
      "/home/junyuchen/Lab/Phage-SOP/Out-test/BT_FDSW202399939-1r/assemble/K33/simplified_contigs\n",
      "/home/junyuchen/Lab/Phage-SOP/Out-test/SP24_FDSW202399940-1r\n",
      "/home/junyuchen/Lab/Phage-SOP/Out-test/SP24_FDSW202399940-1r/assemble\n",
      "/home/junyuchen/Lab/Phage-SOP/Out-test/assemble/NODE_1_length_140481_cov_8.033826\n",
      "/home/junyuchen/Lab/Phage-SOP/Out-test/assemble/NODE_2_length_98383_cov_202.102046\n",
      "/home/junyuchen/Lab/Phage-SOP/Out-test/assemble/NODE_3_length_50371_cov_12496.890055\n",
      "/home/junyuchen/Lab/Phage-SOP/Out-test/assemble/NODE_4_length_40509_cov_1997.390666\n",
      "/home/junyuchen/Lab/Phage-SOP/Out-test/assemble/NODE_5_length_21387_cov_1887.400009\n",
      "/home/junyuchen/Lab/Phage-SOP/Out-test/assemble/NODE_6_length_20673_cov_7.514211\n",
      "/home/junyuchen/Lab/Phage-SOP/Out-test/assemble/NODE_7_length_11585_cov_3.891500\n",
      "/home/junyuchen/Lab/Phage-SOP/Out-test/assemble/NODE_8_length_10936_cov_2167.133719\n",
      "/home/junyuchen/Lab/Phage-SOP/Out-test/assemble/NODE_9_length_10805_cov_156.088558\n",
      "/home/junyuchen/Lab/Phage-SOP/Out-test/SP24_FDSW202399940-1r/assemble/pipeline_state\n",
      "/home/junyuchen/Lab/Phage-SOP/Out-test/SP24_FDSW202399940-1r/assemble/NODE_8_length_10936_cov_2167.133719\n",
      "/home/junyuchen/Lab/Phage-SOP/Out-test/SP24_FDSW202399940-1r/assemble/tmp\n",
      "/home/junyuchen/Lab/Phage-SOP/Out-test/SP24_FDSW202399940-1r/assemble/NODE_3_length_50371_cov_12496.890055\n",
      "/home/junyuchen/Lab/Phage-SOP/Out-test/SP24_FDSW202399940-1r/assemble/NODE_6_length_20673_cov_7.514211\n",
      "/home/junyuchen/Lab/Phage-SOP/Out-test/SP24_FDSW202399940-1r/assemble/NODE_9_length_10805_cov_156.088558\n",
      "/home/junyuchen/Lab/Phage-SOP/Out-test/SP24_FDSW202399940-1r/assemble/corrected\n",
      "/home/junyuchen/Lab/Phage-SOP/Out-test/SP24_FDSW202399940-1r/assemble/corrected/configs\n",
      "/home/junyuchen/Lab/Phage-SOP/Out-test/SP24_FDSW202399940-1r/assemble/NODE_7_length_11585_cov_3.891500\n",
      "/home/junyuchen/Lab/Phage-SOP/Out-test/SP24_FDSW202399940-1r/assemble/K55\n",
      "/home/junyuchen/Lab/Phage-SOP/Out-test/K55/NODE_1_length_140481_cov_8.033826\n",
      "/home/junyuchen/Lab/Phage-SOP/Out-test/K55/NODE_2_length_98383_cov_202.102046\n",
      "/home/junyuchen/Lab/Phage-SOP/Out-test/K55/NODE_3_length_50371_cov_12496.890055\n",
      "/home/junyuchen/Lab/Phage-SOP/Out-test/K55/NODE_4_length_40509_cov_1997.390666\n",
      "/home/junyuchen/Lab/Phage-SOP/Out-test/K55/NODE_5_length_21387_cov_1887.400009\n",
      "/home/junyuchen/Lab/Phage-SOP/Out-test/K55/NODE_6_length_20673_cov_7.514211\n",
      "/home/junyuchen/Lab/Phage-SOP/Out-test/K55/NODE_7_length_11585_cov_3.891500\n",
      "/home/junyuchen/Lab/Phage-SOP/Out-test/K55/NODE_8_length_10936_cov_2167.133719\n",
      "/home/junyuchen/Lab/Phage-SOP/Out-test/K55/NODE_9_length_10805_cov_156.088558\n",
      "/home/junyuchen/Lab/Phage-SOP/Out-test/SP24_FDSW202399940-1r/assemble/K55/NODE_8_length_10936_cov_2167.133719\n",
      "/home/junyuchen/Lab/Phage-SOP/Out-test/SP24_FDSW202399940-1r/assemble/K55/NODE_3_length_50371_cov_12496.890055\n",
      "/home/junyuchen/Lab/Phage-SOP/Out-test/SP24_FDSW202399940-1r/assemble/K55/path_extend\n",
      "/home/junyuchen/Lab/Phage-SOP/Out-test/SP24_FDSW202399940-1r/assemble/K55/NODE_6_length_20673_cov_7.514211\n",
      "/home/junyuchen/Lab/Phage-SOP/Out-test/SP24_FDSW202399940-1r/assemble/K55/NODE_9_length_10805_cov_156.088558\n",
      "/home/junyuchen/Lab/Phage-SOP/Out-test/SP24_FDSW202399940-1r/assemble/K55/NODE_7_length_11585_cov_3.891500\n",
      "/home/junyuchen/Lab/Phage-SOP/Out-test/SP24_FDSW202399940-1r/assemble/K55/NODE_5_length_21387_cov_1887.400009\n",
      "/home/junyuchen/Lab/Phage-SOP/Out-test/SP24_FDSW202399940-1r/assemble/K55/NODE_1_length_140481_cov_8.033826\n",
      "/home/junyuchen/Lab/Phage-SOP/Out-test/SP24_FDSW202399940-1r/assemble/K55/NODE_2_length_98383_cov_202.102046\n",
      "/home/junyuchen/Lab/Phage-SOP/Out-test/SP24_FDSW202399940-1r/assemble/K55/configs\n",
      "/home/junyuchen/Lab/Phage-SOP/Out-test/SP24_FDSW202399940-1r/assemble/K55/NODE_4_length_40509_cov_1997.390666\n",
      "/home/junyuchen/Lab/Phage-SOP/Out-test/SP24_FDSW202399940-1r/assemble/NODE_5_length_21387_cov_1887.400009\n",
      "/home/junyuchen/Lab/Phage-SOP/Out-test/SP24_FDSW202399940-1r/assemble/NODE_1_length_140481_cov_8.033826\n",
      "/home/junyuchen/Lab/Phage-SOP/Out-test/SP24_FDSW202399940-1r/assemble/NODE_2_length_98383_cov_202.102046\n",
      "/home/junyuchen/Lab/Phage-SOP/Out-test/SP24_FDSW202399940-1r/assemble/K21\n",
      "/home/junyuchen/Lab/Phage-SOP/Out-test/SP24_FDSW202399940-1r/assemble/K21/configs\n",
      "/home/junyuchen/Lab/Phage-SOP/Out-test/SP24_FDSW202399940-1r/assemble/K21/simplified_contigs\n",
      "/home/junyuchen/Lab/Phage-SOP/Out-test/SP24_FDSW202399940-1r/assemble/misc\n",
      "/home/junyuchen/Lab/Phage-SOP/Out-test/SP24_FDSW202399940-1r/assemble/K33\n",
      "/home/junyuchen/Lab/Phage-SOP/Out-test/SP24_FDSW202399940-1r/assemble/K33/configs\n",
      "/home/junyuchen/Lab/Phage-SOP/Out-test/SP24_FDSW202399940-1r/assemble/K33/simplified_contigs\n",
      "/home/junyuchen/Lab/Phage-SOP/Out-test/SP24_FDSW202399940-1r/assemble/NODE_4_length_40509_cov_1997.390666\n"
     ]
    }
   ],
   "source": [
    "AnnotatePhage(Dir)"
   ]
  },
  {
   "cell_type": "code",
   "execution_count": 15,
   "metadata": {},
   "outputs": [
    {
     "ename": "NameError",
     "evalue": "name 'contigsOutPath' is not defined",
     "output_type": "error",
     "traceback": [
      "\u001b[0;31m---------------------------------------------------------------------------\u001b[0m",
      "\u001b[0;31mNameError\u001b[0m                                 Traceback (most recent call last)",
      "\u001b[0;32m<ipython-input-15-7cd07cc47e31>\u001b[0m in \u001b[0;36m<module>\u001b[0;34m\u001b[0m\n\u001b[0;32m----> 1\u001b[0;31m \u001b[0mcontigsOutPath\u001b[0m\u001b[0;34m\u001b[0m\u001b[0;34m\u001b[0m\u001b[0m\n\u001b[0m",
      "\u001b[0;31mNameError\u001b[0m: name 'contigsOutPath' is not defined"
     ]
    }
   ],
   "source": [
    "contigsOutPath"
   ]
  },
  {
   "cell_type": "code",
   "execution_count": null,
   "metadata": {},
   "outputs": [],
   "source": []
  }
 ],
 "metadata": {
  "kernelspec": {
   "display_name": "Python 3",
   "language": "python",
   "name": "python3"
  },
  "language_info": {
   "codemirror_mode": {
    "name": "ipython",
    "version": 3
   },
   "file_extension": ".py",
   "mimetype": "text/x-python",
   "name": "python",
   "nbconvert_exporter": "python",
   "pygments_lexer": "ipython3",
   "version": "3.8.5"
  }
 },
 "nbformat": 4,
 "nbformat_minor": 4
}
