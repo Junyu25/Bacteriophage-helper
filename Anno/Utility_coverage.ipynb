{
 "cells": [
  {
   "cell_type": "markdown",
   "metadata": {},
   "source": [
    "### SAMtools: get breadth of coverage"
   ]
  },
  {
   "cell_type": "markdown",
   "metadata": {},
   "source": [
    "http://www.metagenomics.wiki/tools/samtools/breadth-of-coverage"
   ]
  },
  {
   "cell_type": "code",
   "execution_count": null,
   "metadata": {},
   "outputs": [],
   "source": []
  },
  {
   "cell_type": "markdown",
   "metadata": {},
   "source": [
    "### Bwa mem "
   ]
  },
  {
   "cell_type": "markdown",
   "metadata": {},
   "source": [
    "which DNA read went where?"
   ]
  },
  {
   "cell_type": "markdown",
   "metadata": {},
   "source": [
    "aligning DNA sequencing reads back to your contigs"
   ]
  },
  {
   "cell_type": "markdown",
   "metadata": {},
   "source": [
    "http://millardlab.org/bioinformatics/lab_server/read-mapping-to-phage-contigs/"
   ]
  },
  {
   "cell_type": "markdown",
   "metadata": {},
   "source": [
    "By mapping back to pahge contigs, we can know the coverage of our DNA seq   \n",
    "Coverage information will be needed for submission of sequences to EBI"
   ]
  },
  {
   "cell_type": "markdown",
   "metadata": {},
   "source": [
    "`bwa index scaffolds.fasta`"
   ]
  },
  {
   "cell_type": "markdown",
   "metadata": {},
   "source": [
    "`bwa mem scaffolds.fasta -t 16 ../../R1.fq ../../R2.fq`"
   ]
  },
  {
   "cell_type": "markdown",
   "metadata": {},
   "source": [
    "```shell\n",
    "bwa mem scaffolds.fasta -t 16 ../../R1.fq ../../R2.fq | samtools view -bS -F4 - | samtools sort - -o out.bam\n",
    "```"
   ]
  }
 ],
 "metadata": {
  "kernelspec": {
   "display_name": "Python 3",
   "language": "python",
   "name": "python3"
  },
  "language_info": {
   "codemirror_mode": {
    "name": "ipython",
    "version": 3
   },
   "file_extension": ".py",
   "mimetype": "text/x-python",
   "name": "python",
   "nbconvert_exporter": "python",
   "pygments_lexer": "ipython3",
   "version": "3.8.6"
  }
 },
 "nbformat": 4,
 "nbformat_minor": 4
}
