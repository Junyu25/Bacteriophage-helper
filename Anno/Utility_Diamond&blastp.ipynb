{
 "cells": [
  {
   "cell_type": "markdown",
   "metadata": {},
   "source": [
    "## Annotation"
   ]
  },
  {
   "cell_type": "markdown",
   "metadata": {},
   "source": [
    "### Diamond"
   ]
  },
  {
   "cell_type": "markdown",
   "metadata": {},
   "source": [
    "http://www.diamondsearch.org/index.php"
   ]
  },
  {
   "cell_type": "markdown",
   "metadata": {},
   "source": [
    "#### e.g."
   ]
  },
  {
   "cell_type": "markdown",
   "metadata": {},
   "source": [
    "```shell\n",
    "diamond blastp --db /home/malab/databases_of_malab/nr/nr --query Y4A2proteins.fasta --out Y4A2proteins_annatation.out --evalue 1e-05 --outfmt 6 --max-target-seqs 1 --threads 10\n",
    "```"
   ]
  },
  {
   "cell_type": "code",
   "execution_count": null,
   "metadata": {},
   "outputs": [],
   "source": []
  },
  {
   "cell_type": "markdown",
   "metadata": {},
   "source": [
    "#### Argument:\n",
    "\n",
    "-  `--db/-d <file>`\n",
    "\n",
    "    Path to the DIAMOND database file.\n",
    "\n",
    "-  `--query/-q <file>`\n",
    "\n",
    "    Path to the query input file in FASTA or FASTQ format (may be gzip compressed). If this parameter is omitted, the input will be read from `stdin`.\n",
    "\n",
    "-  `--out/-o <file>`\n",
    "\n",
    "    Path to the output file. If this parameter is omitted, the results will be written to the standard output and all other program output will be suppressed.\n",
    "\n",
    "-  `--evalue/-e #`\n",
    "\n",
    "    Maximum expected value to report an alignment (default=0.001).\n",
    "    \n",
    "-  `--outfmt/-f 6`  \n",
    "\n",
    "    BLAST tabular format (default). This format can be customized, the `6` may be followed by a space-separated list of the following keywords, each specifying a field of the output.\n",
    "\n",
    "-  `--max-target-seqs/-k #`\n",
    "\n",
    "    The maximum number of target sequences per query to report alignments for (default=25). Setting this to 0 will report all alignments that were found.\n",
    "\n",
    "-  `--threads/-p #`\n",
    "\n",
    "    Number of CPU threads. By default, the program will auto-detect and use all available virtual cores on the machine."
   ]
  },
  {
   "cell_type": "markdown",
   "metadata": {},
   "source": [
    "#### DataBase"
   ]
  },
  {
   "cell_type": "markdown",
   "metadata": {},
   "source": [
    "nr: `/home/malab/databases_of_malab/nr/nr.dmnd`"
   ]
  },
  {
   "cell_type": "markdown",
   "metadata": {},
   "source": [
    "### blastp"
   ]
  },
  {
   "cell_type": "markdown",
   "metadata": {},
   "source": [
    "#### e.g."
   ]
  },
  {
   "cell_type": "markdown",
   "metadata": {},
   "source": [
    "```shell\n",
    "blastp -db /home/malab/databases_of_malab/bacteria_genome/all.faa -query Y4A2proteins.fasta  -out Y4A2proteins_annatation.out -evalue 1e-05 -outfmt 6 -max_target_seqs 1 -num_threads 10\n",
    "```"
   ]
  },
  {
   "cell_type": "markdown",
   "metadata": {},
   "source": [
    "#### Argument:\n",
    "    Same as diamond"
   ]
  },
  {
   "cell_type": "markdown",
   "metadata": {},
   "source": [
    "#### DataBase"
   ]
  },
  {
   "cell_type": "markdown",
   "metadata": {},
   "source": [
    "nr: `/home/malab/databases_of_malab/nr/nr`"
   ]
  },
  {
   "cell_type": "markdown",
   "metadata": {},
   "source": [
    "## Appendix"
   ]
  },
  {
   "cell_type": "markdown",
   "metadata": {},
   "source": [
    "### Custom DataBase"
   ]
  },
  {
   "cell_type": "markdown",
   "metadata": {},
   "source": [
    "`diamond makedb --in aa.fasta -d aa.fasta`"
   ]
  },
  {
   "cell_type": "markdown",
   "metadata": {},
   "source": [
    "`makeblastdb -in nr.fasta  -dbtype nucl`"
   ]
  },
  {
   "cell_type": "markdown",
   "metadata": {},
   "source": [
    "### BLAST tabular format"
   ]
  },
  {
   "cell_type": "markdown",
   "metadata": {},
   "source": [
    "By default, there are 12 preconfigured fields:   \n",
    "`qseqid sseqid pident length mismatch gapopen qstart qend sstart send evalue bitscore`"
   ]
  },
  {
   "cell_type": "markdown",
   "metadata": {},
   "source": [
    "* `qseqid` Query Seq - id\n",
    "\n",
    "* `sseqid` Subject Seq - id\n",
    "\n",
    "* `pident` Percentage of identical matches\n",
    "\n",
    "* `length` Alignment length\n",
    "\n",
    "* `mismatch` Number of mismatches\n",
    "\n",
    "* `gapopen` Number of gap openings\n",
    "\n",
    "* `qstart` Start of alignment in query\n",
    "\n",
    "* `qend` End of alignment in query\n",
    "\n",
    "* `sstart` Start of alignment in subject\n",
    "\n",
    "* `send` End of alignment in subject\n",
    "\n",
    "* `evalue` Expect value\n",
    "\n",
    "* `bitscore` Bit score"
   ]
  },
  {
   "cell_type": "code",
   "execution_count": null,
   "metadata": {},
   "outputs": [],
   "source": []
  },
  {
   "cell_type": "code",
   "execution_count": null,
   "metadata": {},
   "outputs": [],
   "source": []
  },
  {
   "cell_type": "markdown",
   "metadata": {},
   "source": [
    "### Diamond"
   ]
  },
  {
   "cell_type": "markdown",
   "metadata": {},
   "source": [
    "http://www.diamondsearch.org/index.php"
   ]
  },
  {
   "cell_type": "markdown",
   "metadata": {},
   "source": [
    "#### e.g."
   ]
  },
  {
   "cell_type": "markdown",
   "metadata": {},
   "source": [
    "```shell\n",
    "diamond blastp --db /home/malab/databases_of_malab/nr/nr --query Y4A2proteins.fasta --out Y4A2proteins_annatation.out --evalue 1e-05 --outfmt 6 --max-target-seqs 1 --threads 10\n",
    "```"
   ]
  },
  {
   "cell_type": "code",
   "execution_count": 1,
   "metadata": {},
   "outputs": [
    {
     "name": "stdout",
     "output_type": "stream",
     "text": [
      "\u001b[0m\u001b[01;34mBT_FDSW202399939-1r\u001b[0m       \u001b[01;34mCD1382_FDSW202399938-1r\u001b[0m  \u001b[01;34mSP24_FDSW202399940-1r\u001b[0m\n",
      "\u001b[01;34mCD11204_FDSW202399937-1r\u001b[0m  \u001b[01;34mFP7_FDSW202399942-1r\u001b[0m     \u001b[01;34mSP34_FDSW202399941-1r\u001b[0m\n",
      "\u001b[01;34mCD12727_FDSW202399936-1r\u001b[0m  metaspades.log           test.sh\n"
     ]
    }
   ],
   "source": [
    "ls /home/junyuchen/Lab/Phage-SOP/Result/Meta-spades-test"
   ]
  },
  {
   "cell_type": "code",
   "execution_count": 2,
   "metadata": {},
   "outputs": [
    {
     "name": "stdout",
     "output_type": "stream",
     "text": [
      "assembly_graph.fastg               first_pe_contigs.fasta  run_spades.sh\n",
      "assembly_graph_with_scaffolds.gfa  input_dataset.yaml      run_spades.yaml\n",
      "before_rr.fasta                    \u001b[0m\u001b[01;34mK21\u001b[0m                     scaffolds.fasta\n",
      "\u001b[01;35mCD1382_FDSW202399938-1r.png\u001b[0m        \u001b[01;34mK33\u001b[0m                     scaffolds.paths\n",
      "contigs.fasta                      \u001b[01;34mK55\u001b[0m                     spades.log\n",
      "contigs.paths                      \u001b[01;34mmisc\u001b[0m                    \u001b[01;34mtmp\u001b[0m\n",
      "\u001b[01;34mcorrected\u001b[0m                          params.txt\n",
      "dataset.info                       \u001b[01;34mpipeline_state\u001b[0m\n"
     ]
    }
   ],
   "source": [
    "ls /home/junyuchen/Lab/Phage-SOP/Result/Meta-spades-test/CD1382_FDSW202399938-1r"
   ]
  },
  {
   "cell_type": "code",
   "execution_count": null,
   "metadata": {},
   "outputs": [],
   "source": [
    "/home/junyuchen/Lab/Phage-SOP/Result/Meta-spades-test/CD1382_FDSW202399938-1r/scaffolds.fasta"
   ]
  },
  {
   "cell_type": "markdown",
   "metadata": {},
   "source": [
    "```shell\n",
    "diamond blastx --db /home/malab/databases_of_malab/nr/nr --query /home/junyuchen/Lab/Phage-SOP/Result/Meta-spades-test/CD1382_FDSW202399938-1r/scaffolds.fasta --out CD1382_diamond.out --evalue 1e-05 --outfmt 6 --max-target-seqs 1 --threads 10\n",
    "```"
   ]
  },
  {
   "cell_type": "code",
   "execution_count": null,
   "metadata": {},
   "outputs": [],
   "source": [
    "conda install -c bioconda diamond=0.9.14"
   ]
  },
  {
   "cell_type": "code",
   "execution_count": null,
   "metadata": {},
   "outputs": [],
   "source": []
  },
  {
   "cell_type": "markdown",
   "metadata": {},
   "source": [
    "No Result "
   ]
  },
  {
   "cell_type": "markdown",
   "metadata": {},
   "source": [
    "需要先翻译成aa 再搜索"
   ]
  },
  {
   "cell_type": "markdown",
   "metadata": {},
   "source": [
    "### blastp"
   ]
  },
  {
   "cell_type": "markdown",
   "metadata": {},
   "source": [
    "#### e.g."
   ]
  },
  {
   "cell_type": "code",
   "execution_count": null,
   "metadata": {},
   "outputs": [],
   "source": [
    "/home/junyuchen/Lab/Phage-SOP/Result/Meta-spades-test/CD1382_FDSW202399938-1r/scaffolds.fasta"
   ]
  },
  {
   "cell_type": "markdown",
   "metadata": {},
   "source": [
    "```shell\n",
    "blastp -db /home/malab/databases_of_malab/bacteria_genome/all.faa -query /home/junyuchen/Lab/Phage-SOP/Result/Meta-spades-test/CD1382_FDSW202399938-1r/scaffolds.fasta  -out CD1382_blastp_annotation.out -evalue 1e-05 -outfmt 6 -max_target_seqs 1 -num_threads 10\n",
    "```"
   ]
  },
  {
   "cell_type": "code",
   "execution_count": null,
   "metadata": {},
   "outputs": [],
   "source": []
  }
 ],
 "metadata": {
  "kernelspec": {
   "display_name": "Python 3",
   "language": "python",
   "name": "python3"
  },
  "language_info": {
   "codemirror_mode": {
    "name": "ipython",
    "version": 3
   },
   "file_extension": ".py",
   "mimetype": "text/x-python",
   "name": "python",
   "nbconvert_exporter": "python",
   "pygments_lexer": "ipython3",
   "version": "3.8.5"
  }
 },
 "nbformat": 4,
 "nbformat_minor": 4
}
