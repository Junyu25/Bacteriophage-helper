{
 "cells": [
  {
   "cell_type": "markdown",
   "metadata": {},
   "source": [
    "## Prokka to blastp"
   ]
  },
  {
   "cell_type": "code",
   "execution_count": 2,
   "metadata": {},
   "outputs": [
    {
     "name": "stdout",
     "output_type": "stream",
     "text": [
      "/home/junyuchen/Lab/Phage-SOP/Bacteriophage-helper\n"
     ]
    }
   ],
   "source": [
    "pwd"
   ]
  },
  {
   "cell_type": "code",
   "execution_count": 3,
   "metadata": {},
   "outputs": [
    {
     "name": "stdout",
     "output_type": "stream",
     "text": [
      "total 748K\n",
      "drwxr-xr-x  3 junyuchen users 4.0K 6月  28 22:28 \u001b[0m\u001b[01;34m.\u001b[0m\n",
      "drwxr-xr-x 13 junyuchen users 4.0K 6月  30 04:10 \u001b[01;34m..\u001b[0m\n",
      "drwxr-xr-x  2 junyuchen users 4.0K 7月  14 05:15 \u001b[01;34m.ipynb_checkpoints\u001b[0m\n",
      "-rw-r--r--  1 junyuchen users  32K 6月  28 22:27 NODE_1_length_62294_cov_7285.933884.err\n",
      "-rw-r--r--  1 junyuchen users  22K 6月  28 22:27 NODE_1_length_62294_cov_7285.933884.faa\n",
      "-rw-r--r--  1 junyuchen users  62K 6月  30 04:15 NODE_1_length_62294_cov_7285.933884.fasta\n",
      "-rw-r--r--  1 junyuchen users  62K 6月  28 22:27 NODE_1_length_62294_cov_7285.933884.ffn\n",
      "-rw-r--r--  1 junyuchen users  62K 6月  28 22:27 NODE_1_length_62294_cov_7285.933884.fna\n",
      "-rw-r--r--  1 junyuchen users  62K 6月  28 22:27 NODE_1_length_62294_cov_7285.933884.fsa\n",
      "-rw-r--r--  1 junyuchen users 126K 6月  28 22:27 NODE_1_length_62294_cov_7285.933884.gbk\n",
      "-rw-r--r--  1 junyuchen users  80K 6月  28 22:27 NODE_1_length_62294_cov_7285.933884.gff\n",
      "-rw-r--r--  1 junyuchen users  12K 6月  28 22:27 NODE_1_length_62294_cov_7285.933884.log\n",
      "-rw-r--r--  1 junyuchen users 179K 6月  28 22:27 NODE_1_length_62294_cov_7285.933884.sqn\n",
      "-rw-r--r--  1 junyuchen users 9.3K 6月  28 22:27 NODE_1_length_62294_cov_7285.933884.tbl\n",
      "-rw-r--r--  1 junyuchen users 4.2K 6月  28 22:27 NODE_1_length_62294_cov_7285.933884.tsv\n",
      "-rw-r--r--  1 junyuchen users   73 6月  28 22:27 NODE_1_length_62294_cov_7285.933884.txt\n"
     ]
    }
   ],
   "source": [
    "ls /home/junyuchen/Lab/Phage-SOP/Out-test/BT_FDSW202399939-1r/NODE_1_length_62294_cov_7285.933884/ -alh"
   ]
  },
  {
   "cell_type": "code",
   "execution_count": 4,
   "metadata": {},
   "outputs": [
    {
     "name": "stdout",
     "output_type": "stream",
     "text": [
      ">BNFJHGNJ_00001 hypothetical protein\n",
      "MEGLDMDNILSPDEVETLFTDDNTEETQVTPPAPEGDNNKDKTTEVPPVNPDELFEEPES\n",
      "VGSGKVDTQGKENTNPDEGTGASPKANFYSSIASALKEEGILSDLDDETLGKIKTPEDFA\n",
      "EAVDTYLKNQLDERQRKIDEALQVGVEPDEIRQYESTIQYLDSITDEALSDESEKGINLR\n",
      "KKLIFQDFINRGFSQERARRETDKSFNAGTDIEDAKEARISNKEYFKQEYDDIINEAKEK\n",
      "EEEHRKELEKQSKEIRKSIIEDKEIFPGLELDKTTREKIYNSVSKPVYKDPETGEYLTAV\n",
      "QKYQRDNKVDFTKKLGLLFTLTDGFTNLDKLVKPTAKKQVKQSLRELEHTINTTRRNTDG\n",
      "SLNFITGVSDDPDSKASWEPDV\n",
      ">BNFJHGNJ_00002 hypothetical protein\n",
      "MIGFQHWKGLTTENHLGAIFQRAPQKATNLMVQLLAFHRGKTLDTFLSSFPTKTFEDDSE\n"
     ]
    }
   ],
   "source": [
    "head /home/junyuchen/Lab/Phage-SOP/Out-test/BT_FDSW202399939-1r/NODE_1_length_62294_cov_7285.933884/NODE_1_length_62294_cov_7285.933884.faa"
   ]
  },
  {
   "cell_type": "markdown",
   "metadata": {},
   "source": [
    "### Diamond blastp"
   ]
  },
  {
   "cell_type": "markdown",
   "metadata": {},
   "source": [
    "```shell\n",
    "diamond blastp --db /home/malab/databases_of_malab/nr/nr --query Y4A2proteins.fasta --out Y4A2proteins_annatation.out --evalue 1e-05 --outfmt 6 --max-target-seqs 1 --threads 10\n",
    "```"
   ]
  },
  {
   "cell_type": "code",
   "execution_count": null,
   "metadata": {},
   "outputs": [],
   "source": [
    "/home/junyuchen/Lab/Phage-SOP/Out-test/Diamond-prokka"
   ]
  },
  {
   "cell_type": "code",
   "execution_count": null,
   "metadata": {},
   "outputs": [],
   "source": []
  },
  {
   "cell_type": "markdown",
   "metadata": {},
   "source": [
    "```shell\n",
    "diamond blastp --db /home/malab/databases_of_malab/nr/nr --query /home/junyuchen/Lab/Phage-SOP/Out-test/BT_FDSW202399939-1r/NODE_1_length_62294_cov_7285.933884/NODE_1_length_62294_cov_7285.933884.faa --out NODE_1_length_62294_cov_7285.933884.out --evalue 1e-05 --outfmt 6 --max-target-seqs 1 --threads 16\n",
    "```"
   ]
  },
  {
   "cell_type": "markdown",
   "metadata": {},
   "source": [
    "```shell\n",
    "diamond blastp --db /home/malab/databases_of_malab/nr/nr --query /home/junyuchen/Lab/Phage-SOP/Out-test/BT_FDSW202399939-1r/NODE_1_length_62294_cov_7285.933884/NODE_1_length_62294_cov_7285.933884.faa --out NODE_1_length_62294_cov_7285.933884-10.out --evalue 1e-05 --outfmt 6 --max-target-seqs 10 --threads 16\n",
    "```"
   ]
  },
  {
   "cell_type": "code",
   "execution_count": null,
   "metadata": {},
   "outputs": [],
   "source": []
  }
 ],
 "metadata": {
  "kernelspec": {
   "display_name": "Bash",
   "language": "bash",
   "name": "bash"
  },
  "language_info": {
   "codemirror_mode": "shell",
   "file_extension": ".sh",
   "mimetype": "text/x-sh",
   "name": "bash"
  }
 },
 "nbformat": 4,
 "nbformat_minor": 4
}
