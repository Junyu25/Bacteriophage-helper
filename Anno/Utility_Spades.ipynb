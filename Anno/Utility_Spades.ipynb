{
 "cells": [
  {
   "cell_type": "markdown",
   "metadata": {},
   "source": [
    "## Assembly"
   ]
  },
  {
   "cell_type": "markdown",
   "metadata": {},
   "source": [
    "Base on this [Article](https://microbiomejournal.biomedcentral.com/articles/10.1186/s40168-019-0626-5), it's better to choose SPAdes, SPAdes (meta) should be meta-spades"
   ]
  },
  {
   "cell_type": "markdown",
   "metadata": {},
   "source": [
    "And we can use [QUAST](http://cab.spbu.ru/software/quast/) to evaluate the assembly performance"
   ]
  },
  {
   "cell_type": "markdown",
   "metadata": {},
   "source": [
    "### SPAdes"
   ]
  },
  {
   "cell_type": "markdown",
   "metadata": {},
   "source": [
    "https://github.com/ablab/spades"
   ]
  },
  {
   "cell_type": "markdown",
   "metadata": {},
   "source": [
    "```python\n",
    "def runmetaspades(Sample):\n",
    "    cmd = \"metaspades.py -1 \" +Sample+ \"_1.fastq\" + \" -2 \" +Sample+ \"_2.fastq\" + \" -o ./assemble\"\n",
    "    subprocess.call(cmd)\n",
    "```"
   ]
  },
  {
   "cell_type": "markdown",
   "metadata": {},
   "source": [
    "* `--isolate`                   \n",
    "    this flag is highly recommended for high-coverage isolate and multi-cell data\n",
    "* `-t <int>, --threads <int>`   \n",
    "    number of threads. [default: 16]"
   ]
  },
  {
   "cell_type": "code",
   "execution_count": null,
   "metadata": {},
   "outputs": [],
   "source": []
  },
  {
   "cell_type": "markdown",
   "metadata": {},
   "source": [
    "## spades"
   ]
  },
  {
   "cell_type": "markdown",
   "metadata": {},
   "source": [
    "```shell\n",
    "spades.py --isolate -1 /home/junyuchen/Lab/Phage-SOP/rawdata/jtshen-2020-06-13/CD1382_FDSW202399938-1r_1.clean.fq -2 /home/junyuchen/Lab/Phage-SOP/rawdata/jtshen-2020-06-13/CD1382_FDSW202399938-1r_2.clean.fq -o /home/junyuchen/Lab/Phage-SOP/Result/Assembly-2020-06-13/CD1382_FDSW202399938-1r\n",
    "```"
   ]
  },
  {
   "cell_type": "markdown",
   "metadata": {},
   "source": [
    "```shell\n",
    "spades.py --isolate -1 /home/junyuchen/Lab/Phage-SOP/rawdata/jtshen-2020-06-13/BT_FDSW202399939-1r_1.clean.fq -2 /home/junyuchen/Lab/Phage-SOP/rawdata/jtshen-2020-06-13/BT_FDSW202399939-1r_2.clean.fq -o /home/junyuchen/Lab/Phage-SOP/Result/Assembly-2020-06-13/BT_FDSW202399939-1r\n",
    "```"
   ]
  },
  {
   "cell_type": "markdown",
   "metadata": {},
   "source": [
    "```shell\n",
    "python /home/junyuchen/Lab/Phage-SOP/Scripts/Assembly_quick.py -i /home/junyuchen/Lab/Phage-SOP/rawdata/jtshen-2020-06-13 -o /home/junyuchen/Lab/Phage-SOP/Result/Assembly-2020-06-14\n",
    "```"
   ]
  },
  {
   "cell_type": "markdown",
   "metadata": {},
   "source": [
    "## metaspades"
   ]
  },
  {
   "cell_type": "code",
   "execution_count": null,
   "metadata": {},
   "outputs": [],
   "source": [
    "python /home/junyuchen/Lab/Phage-SOP/Scripts/Assembly_quick.py"
   ]
  },
  {
   "cell_type": "markdown",
   "metadata": {},
   "source": [
    "```shell\n",
    "python /home/junyuchen/Lab/Phage-SOP/Scripts/Assembly_quick.py -i /home/junyuchen/Lab/Phage-SOP/rawdata/jtshen-2020-06-13 -o /home/junyuchen/Lab/Phage-SOP/Result/Meta-spades-test\n",
    "```"
   ]
  },
  {
   "cell_type": "code",
   "execution_count": null,
   "metadata": {},
   "outputs": [],
   "source": []
  }
 ],
 "metadata": {
  "kernelspec": {
   "display_name": "Python 3",
   "language": "python",
   "name": "python3"
  },
  "language_info": {
   "codemirror_mode": {
    "name": "ipython",
    "version": 3
   },
   "file_extension": ".py",
   "mimetype": "text/x-python",
   "name": "python",
   "nbconvert_exporter": "python",
   "pygments_lexer": "ipython3",
   "version": "3.8.6"
  }
 },
 "nbformat": 4,
 "nbformat_minor": 4
}
