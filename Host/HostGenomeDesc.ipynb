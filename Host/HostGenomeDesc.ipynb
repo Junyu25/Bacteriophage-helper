{
 "cells": [
  {
   "cell_type": "markdown",
   "metadata": {},
   "source": [
    "## Host Genome"
   ]
  },
  {
   "cell_type": "markdown",
   "metadata": {},
   "source": [
    "### Extract short fragment"
   ]
  },
  {
   "cell_type": "code",
   "execution_count": 1,
   "metadata": {},
   "outputs": [],
   "source": [
    "from Bio import SeqIO"
   ]
  },
  {
   "cell_type": "code",
   "execution_count": 6,
   "metadata": {},
   "outputs": [],
   "source": [
    "sp34 = \"/home/junyuchen/Lab/Phage-SOP/Result/Assembly-2020-06-14/SP34_FDSW202399941-1r/scaffolds.fasta\""
   ]
  },
  {
   "cell_type": "code",
   "execution_count": 7,
   "metadata": {},
   "outputs": [],
   "source": [
    "cd1382 = \"/home/junyuchen/Lab/Phage-SOP/Result/Assembly-2020-06-14/CD1382_FDSW202399938-1r/scaffolds.fasta\""
   ]
  },
  {
   "cell_type": "code",
   "execution_count": 8,
   "metadata": {},
   "outputs": [],
   "source": [
    "OutDir = \"/home/junyuchen/Lab/Phage-SOP/Result/ShortReadsExtract\""
   ]
  },
  {
   "cell_type": "code",
   "execution_count": 9,
   "metadata": {},
   "outputs": [
    {
     "data": {
      "text/plain": [
       "3032"
      ]
     },
     "execution_count": 9,
     "metadata": {},
     "output_type": "execute_result"
    }
   ],
   "source": [
    "ShortS = []\n",
    "for seq in SeqIO.parse(sp34, \"fasta\"):\n",
    "    if len(seq) < 10000:\n",
    "        ShortS.append(seq)\n",
    "#print(ShortS)\n",
    "SeqIO.write(ShortS, OutDir + \"/sp34.fasta\", \"fasta\")"
   ]
  },
  {
   "cell_type": "code",
   "execution_count": 10,
   "metadata": {},
   "outputs": [
    {
     "data": {
      "text/plain": [
       "656"
      ]
     },
     "execution_count": 10,
     "metadata": {},
     "output_type": "execute_result"
    }
   ],
   "source": [
    "ShortS = []\n",
    "for seq in SeqIO.parse(cd1382, \"fasta\"):\n",
    "    if len(seq) < 10000:\n",
    "        ShortS.append(seq)\n",
    "#print(ShortS)\n",
    "SeqIO.write(ShortS, OutDir + \"/cd1382.fasta\", \"fasta\")"
   ]
  },
  {
   "cell_type": "code",
   "execution_count": 11,
   "metadata": {},
   "outputs": [],
   "source": [
    "cd1382 = \"/home/junyuchen/Lab/Phage-SOP/Result/Meta-spades-test/CD1382_FDSW202399938-1r/scaffolds.fasta\""
   ]
  },
  {
   "cell_type": "code",
   "execution_count": 12,
   "metadata": {},
   "outputs": [],
   "source": [
    "sp34 = \"/home/junyuchen/Lab/Phage-SOP/Result/Meta-spades-test/SP34_FDSW202399941-1r/scaffolds.fasta\""
   ]
  },
  {
   "cell_type": "code",
   "execution_count": 13,
   "metadata": {},
   "outputs": [],
   "source": [
    "OutDir = \"/home/junyuchen/Lab/Phage-SOP/Result/ShortReadsExtract\""
   ]
  },
  {
   "cell_type": "code",
   "execution_count": 14,
   "metadata": {},
   "outputs": [
    {
     "data": {
      "text/plain": [
       "2168"
      ]
     },
     "execution_count": 14,
     "metadata": {},
     "output_type": "execute_result"
    }
   ],
   "source": [
    "ShortS = []\n",
    "for seq in SeqIO.parse(sp34, \"fasta\"):\n",
    "    if len(seq) < 10000:\n",
    "        ShortS.append(seq)\n",
    "#print(ShortS)\n",
    "SeqIO.write(ShortS, OutDir + \"/sp34-1.fasta\", \"fasta\")"
   ]
  },
  {
   "cell_type": "code",
   "execution_count": 15,
   "metadata": {},
   "outputs": [
    {
     "data": {
      "text/plain": [
       "300"
      ]
     },
     "execution_count": 15,
     "metadata": {},
     "output_type": "execute_result"
    }
   ],
   "source": [
    "ShortS = []\n",
    "for seq in SeqIO.parse(cd1382, \"fasta\"):\n",
    "    if len(seq) < 10000:\n",
    "        ShortS.append(seq)\n",
    "#print(ShortS)\n",
    "SeqIO.write(ShortS, OutDir + \"/cd1382-1.fasta\", \"fasta\")"
   ]
  },
  {
   "cell_type": "markdown",
   "metadata": {},
   "source": [
    "### Use blastp?"
   ]
  },
  {
   "cell_type": "markdown",
   "metadata": {},
   "source": [
    "#### translate seq first"
   ]
  },
  {
   "cell_type": "code",
   "execution_count": null,
   "metadata": {},
   "outputs": [],
   "source": [
    "transeq /home/junyuchen/Lab/Phage-SOP/Result/ShortReadsExtract/sp34.fasta /home/junyuchen/Lab/Phage-SOP/Result/ShortReadsExtract/sp34_tran.fasta -frame 6 -table=11 -sformat pearson"
   ]
  },
  {
   "cell_type": "code",
   "execution_count": null,
   "metadata": {},
   "outputs": [],
   "source": [
    "transeq /home/junyuchen/Lab/Phage-SOP/Result/ShortReadsExtract/cd1382.fasta /home/junyuchen/Lab/Phage-SOP/Result/ShortReadsExtract/cd1382_tran.fasta -frame 6 -table=11 -sformat pearson"
   ]
  },
  {
   "cell_type": "code",
   "execution_count": null,
   "metadata": {},
   "outputs": [],
   "source": [
    "transeq /home/junyuchen/Lab/Phage-SOP/Result/ShortReadsExtract/sp34-1.fasta /home/junyuchen/Lab/Phage-SOP/Result/ShortReadsExtract/sp34_tran-1.fasta -frame 6 -table=11 -sformat pearson"
   ]
  },
  {
   "cell_type": "code",
   "execution_count": null,
   "metadata": {},
   "outputs": [],
   "source": [
    "transeq /home/junyuchen/Lab/Phage-SOP/Result/ShortReadsExtract/cd1382-1.fasta /home/junyuchen/Lab/Phage-SOP/Result/ShortReadsExtract/cd1382_tran-1.fasta -frame 6 -table=11 -sformat pearson"
   ]
  },
  {
   "cell_type": "code",
   "execution_count": null,
   "metadata": {},
   "outputs": [],
   "source": []
  },
  {
   "cell_type": "markdown",
   "metadata": {},
   "source": [
    "```shell\n",
    "diamond blastx --db /home/malab/databases_of_malab/nr/nr --query /home/junyuchen/Lab/Phage-SOP/Result/ShortReadsExtract/sp34_tran.fasta --out /home/junyuchen/Lab/Phage-SOP/Result/ShortReadsExtract/sp34_blastp.out --evalue 1e-05 --outfmt 6 --max-target-seqs 1 --threads 10\n",
    "```"
   ]
  },
  {
   "cell_type": "markdown",
   "metadata": {},
   "source": [
    "```shell\n",
    "diamond blastx --db /home/malab/databases_of_malab/nr/nr --query /home/junyuchen/Lab/Phage-SOP/Result/ShortReadsExtract/cd1382_tran.fasta --out /home/junyuchen/Lab/Phage-SOP/Result/ShortReadsExtract/cd1382_blastp.out --evalue 1e-05 --outfmt 6 --max-target-seqs 1 --threads 10\n",
    "```"
   ]
  },
  {
   "cell_type": "code",
   "execution_count": null,
   "metadata": {},
   "outputs": [],
   "source": []
  },
  {
   "cell_type": "markdown",
   "metadata": {},
   "source": [
    "```shell\n",
    "diamond blastp --db /home/malab/databases_of_malab/nr/nr --query /home/junyuchen/Lab/Phage-SOP/Result/ShortReadsExtract/sp34_tran.fasta --out /home/junyuchen/Lab/Phage-SOP/Result/ShortReadsExtract/sp34_blastp.out --evalue 1e-05 --outfmt 6 --max-target-seqs 1 --threads 10\n",
    "```"
   ]
  },
  {
   "cell_type": "markdown",
   "metadata": {},
   "source": [
    "```shell\n",
    "diamond blastp --db /home/malab/databases_of_malab/nr/nr --query /home/junyuchen/Lab/Phage-SOP/Result/ShortReadsExtract/cd1382_tran.fasta --out /home/junyuchen/Lab/Phage-SOP/Result/ShortReadsExtract/cd1382_blastp.out --evalue 1e-05 --outfmt 6 --max-target-seqs 1 --threads 10\n",
    "```"
   ]
  },
  {
   "cell_type": "code",
   "execution_count": null,
   "metadata": {},
   "outputs": [],
   "source": []
  },
  {
   "cell_type": "markdown",
   "metadata": {},
   "source": [
    "```shell\n",
    "diamond blastp --db /home/malab/databases_of_malab/nr/nr --query /home/junyuchen/Lab/Phage-SOP/Result/ShortReadsExtract/sp34_tran-1.fasta --out /home/junyuchen/Lab/Phage-SOP/Result/ShortReadsExtract/sp34_blastp-1.out --evalue 1e-05 --outfmt 6 --max-target-seqs 1 --threads 10\n",
    "```"
   ]
  },
  {
   "cell_type": "markdown",
   "metadata": {},
   "source": [
    "```shell\n",
    "diamond blastp --db /home/malab/databases_of_malab/nr/nr --query /home/junyuchen/Lab/Phage-SOP/Result/ShortReadsExtract/cd1382_tran.fasta --out /home/junyuchen/Lab/Phage-SOP/Result/ShortReadsExtract/cd1382_blastp.out --evalue 1e-05 --outfmt 6 --max-target-seqs 1 --threads 10\n",
    "```"
   ]
  }
 ],
 "metadata": {
  "kernelspec": {
   "display_name": "Python 3.7.3 64-bit ('base': conda)",
   "language": "python",
   "name": "python37364bitbasecondaa8b4e34df04d46d2ad5a28c55cfae4a5"
  },
  "language_info": {
   "codemirror_mode": {
    "name": "ipython",
    "version": 3
   },
   "file_extension": ".py",
   "mimetype": "text/x-python",
   "name": "python",
   "nbconvert_exporter": "python",
   "pygments_lexer": "ipython3",
   "version": "3.7.6"
  }
 },
 "nbformat": 4,
 "nbformat_minor": 4
}
