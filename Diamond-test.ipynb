{
 "cells": [
  {
   "cell_type": "markdown",
   "metadata": {},
   "source": [
    "### Diamond"
   ]
  },
  {
   "cell_type": "markdown",
   "metadata": {},
   "source": [
    "http://www.diamondsearch.org/index.php"
   ]
  },
  {
   "cell_type": "markdown",
   "metadata": {},
   "source": [
    "#### e.g."
   ]
  },
  {
   "cell_type": "markdown",
   "metadata": {},
   "source": [
    "```shell\n",
    "diamond blastp --db /home/malab/databases_of_malab/nr/nr --query Y4A2proteins.fasta --out Y4A2proteins_annatation.out --evalue 1e-05 --outfmt 6 --max-target-seqs 1 --threads 10\n",
    "```"
   ]
  },
  {
   "cell_type": "code",
   "execution_count": 1,
   "metadata": {},
   "outputs": [
    {
     "name": "stdout",
     "output_type": "stream",
     "text": [
      "\u001b[0m\u001b[01;34mBT_FDSW202399939-1r\u001b[0m       \u001b[01;34mCD1382_FDSW202399938-1r\u001b[0m  \u001b[01;34mSP24_FDSW202399940-1r\u001b[0m\n",
      "\u001b[01;34mCD11204_FDSW202399937-1r\u001b[0m  \u001b[01;34mFP7_FDSW202399942-1r\u001b[0m     \u001b[01;34mSP34_FDSW202399941-1r\u001b[0m\n",
      "\u001b[01;34mCD12727_FDSW202399936-1r\u001b[0m  metaspades.log           test.sh\n"
     ]
    }
   ],
   "source": [
    "ls /home/junyuchen/Lab/Phage-SOP/Result/Meta-spades-test"
   ]
  },
  {
   "cell_type": "code",
   "execution_count": 2,
   "metadata": {},
   "outputs": [
    {
     "name": "stdout",
     "output_type": "stream",
     "text": [
      "assembly_graph.fastg               first_pe_contigs.fasta  run_spades.sh\n",
      "assembly_graph_with_scaffolds.gfa  input_dataset.yaml      run_spades.yaml\n",
      "before_rr.fasta                    \u001b[0m\u001b[01;34mK21\u001b[0m                     scaffolds.fasta\n",
      "\u001b[01;35mCD1382_FDSW202399938-1r.png\u001b[0m        \u001b[01;34mK33\u001b[0m                     scaffolds.paths\n",
      "contigs.fasta                      \u001b[01;34mK55\u001b[0m                     spades.log\n",
      "contigs.paths                      \u001b[01;34mmisc\u001b[0m                    \u001b[01;34mtmp\u001b[0m\n",
      "\u001b[01;34mcorrected\u001b[0m                          params.txt\n",
      "dataset.info                       \u001b[01;34mpipeline_state\u001b[0m\n"
     ]
    }
   ],
   "source": [
    "ls /home/junyuchen/Lab/Phage-SOP/Result/Meta-spades-test/CD1382_FDSW202399938-1r"
   ]
  },
  {
   "cell_type": "code",
   "execution_count": null,
   "metadata": {},
   "outputs": [],
   "source": [
    "/home/junyuchen/Lab/Phage-SOP/Result/Meta-spades-test/CD1382_FDSW202399938-1r/scaffolds.fasta"
   ]
  },
  {
   "cell_type": "markdown",
   "metadata": {},
   "source": [
    "```shell\n",
    "diamond blastx --db /home/malab/databases_of_malab/nr/nr --query /home/junyuchen/Lab/Phage-SOP/Result/Meta-spades-test/CD1382_FDSW202399938-1r/scaffolds.fasta --out CD1382_diamond.out --evalue 1e-05 --outfmt 6 --max-target-seqs 1 --threads 10\n",
    "```"
   ]
  },
  {
   "cell_type": "code",
   "execution_count": null,
   "metadata": {},
   "outputs": [],
   "source": [
    "conda install -c bioconda diamond=0.9.14"
   ]
  },
  {
   "cell_type": "code",
   "execution_count": null,
   "metadata": {},
   "outputs": [],
   "source": []
  },
  {
   "cell_type": "markdown",
   "metadata": {},
   "source": [
    "No Result "
   ]
  },
  {
   "cell_type": "markdown",
   "metadata": {},
   "source": [
    "需要先翻译成aa 再搜索"
   ]
  },
  {
   "cell_type": "markdown",
   "metadata": {},
   "source": [
    "### blastp"
   ]
  },
  {
   "cell_type": "markdown",
   "metadata": {},
   "source": [
    "#### e.g."
   ]
  },
  {
   "cell_type": "code",
   "execution_count": null,
   "metadata": {},
   "outputs": [],
   "source": [
    "/home/junyuchen/Lab/Phage-SOP/Result/Meta-spades-test/CD1382_FDSW202399938-1r/scaffolds.fasta"
   ]
  },
  {
   "cell_type": "markdown",
   "metadata": {},
   "source": [
    "```shell\n",
    "blastp -db /home/malab/databases_of_malab/bacteria_genome/all.faa -query /home/junyuchen/Lab/Phage-SOP/Result/Meta-spades-test/CD1382_FDSW202399938-1r/scaffolds.fasta  -out CD1382_blastp_annotation.out -evalue 1e-05 -outfmt 6 -max_target_seqs 1 -num_threads 10\n",
    "```"
   ]
  },
  {
   "cell_type": "code",
   "execution_count": null,
   "metadata": {},
   "outputs": [],
   "source": []
  }
 ],
 "metadata": {
  "kernelspec": {
   "display_name": "Bash",
   "language": "bash",
   "name": "bash"
  },
  "language_info": {
   "codemirror_mode": "shell",
   "file_extension": ".sh",
   "mimetype": "text/x-sh",
   "name": "bash"
  }
 },
 "nbformat": 4,
 "nbformat_minor": 4
}
