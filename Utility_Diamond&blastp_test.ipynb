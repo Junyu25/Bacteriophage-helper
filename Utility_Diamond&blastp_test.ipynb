{
 "cells": [
  {
   "cell_type": "markdown",
   "metadata": {},
   "source": [
    "## Diamond"
   ]
  },
  {
   "cell_type": "markdown",
   "metadata": {},
   "source": [
    "`diamond makedb --in aa.fasta -d aa`"
   ]
  },
  {
   "cell_type": "code",
   "execution_count": 1,
   "metadata": {},
   "outputs": [],
   "source": [
    "cd ~/Lab/Phage-SOP/Data"
   ]
  },
  {
   "cell_type": "code",
   "execution_count": 2,
   "metadata": {},
   "outputs": [
    {
     "name": "stdout",
     "output_type": "stream",
     "text": [
      "CD1382.fasta  crAss001.fasta  crAss001-Pro.fasta\n"
     ]
    }
   ],
   "source": [
    "ls"
   ]
  },
  {
   "cell_type": "code",
   "execution_count": null,
   "metadata": {},
   "outputs": [],
   "source": [
    "diamond makedb --in crAss001-Pro.fasta -d crAss001-Pro"
   ]
  },
  {
   "cell_type": "markdown",
   "metadata": {},
   "source": [
    "```shell\n",
    "diamond blastp --db /home/malab/databases_of_malab/nr/nr --query Y4A2proteins.fasta --out Y4A2proteins_annatation.out --evalue 1e-05 --outfmt 6 --max-target-seqs 1 --threads 10\n",
    "```"
   ]
  },
  {
   "cell_type": "code",
   "execution_count": 3,
   "metadata": {},
   "outputs": [
    {
     "name": "stdout",
     "output_type": "stream",
     "text": [
      "/home/junyuchen/Lab/Phage-SOP/Data\n"
     ]
    }
   ],
   "source": [
    "pwd"
   ]
  },
  {
   "cell_type": "markdown",
   "metadata": {},
   "source": [
    "```shell\n",
    "diamond blastp --db /home/junyuchen/Lab/Phage-SOP/Data/crAss001-Pro --query CD1382.fasta --out CD1382_annatation.out --evalue 1e-05 --outfmt 6 --max-target-seqs 1 --threads 10\n",
    "```"
   ]
  },
  {
   "cell_type": "markdown",
   "metadata": {},
   "source": [
    "```shell\n",
    "diamond blastp --db /home/junyuchen/Lab/Phage-SOP/Data/crAss001-Pro --query CD1382.fasta --out CD1382_annatation.out --outfmt 6 --max-target-seqs 20 --threads 10\n",
    "```"
   ]
  },
  {
   "cell_type": "code",
   "execution_count": null,
   "metadata": {},
   "outputs": [],
   "source": []
  },
  {
   "cell_type": "code",
   "execution_count": null,
   "metadata": {},
   "outputs": [],
   "source": []
  },
  {
   "cell_type": "code",
   "execution_count": null,
   "metadata": {},
   "outputs": [],
   "source": []
  },
  {
   "cell_type": "code",
   "execution_count": null,
   "metadata": {},
   "outputs": [],
   "source": [
    "/home/junyuchen/Lab/Phage-SOP/Result/Assembly-2020-06-13"
   ]
  },
  {
   "cell_type": "markdown",
   "metadata": {},
   "source": [
    "60k 8% sim"
   ]
  },
  {
   "cell_type": "markdown",
   "metadata": {},
   "source": [
    "prokka vir 注释"
   ]
  },
  {
   "cell_type": "markdown",
   "metadata": {},
   "source": [
    "SAMtools: get breadth of coverage"
   ]
  },
  {
   "cell_type": "code",
   "execution_count": null,
   "metadata": {},
   "outputs": [],
   "source": [
    "/home/jtshen/CD1382_FDSW202399938-1r/49/CD1382_FDSW202399938-1r-49.scafSeq"
   ]
  },
  {
   "cell_type": "code",
   "execution_count": null,
   "metadata": {},
   "outputs": [],
   "source": [
    "REF_GENOME_FILE=/home/jtshen/CD1382_FDSW202399938-1r/49/CD1382_FDSW202399938-1r-49.scafSeq\n",
    "WGS_SAMPLE=my_short_read_sample.fastq\n",
    "MIN_COVERAGE_DEPTH=5"
   ]
  },
  {
   "cell_type": "code",
   "execution_count": null,
   "metadata": {},
   "outputs": [],
   "source": [
    "bowtie2-build ${REF_GENOME_FILE} refgenome"
   ]
  },
  {
   "cell_type": "code",
   "execution_count": null,
   "metadata": {},
   "outputs": [],
   "source": [
    "bowtie2 -x example/index/lambda_virus -1 example/reads/reads_1.fq -2 example/reads/reads_2.fq"
   ]
  },
  {
   "cell_type": "code",
   "execution_count": null,
   "metadata": {},
   "outputs": [],
   "source": [
    "bowtie2 -x /home/junyuchen/Lab/Phage-SOP/Result/Assembly-2020-06-13/Coverage/CD1382/CD1382 --no-unal -1 /home/junyuchen/Lab/Phage-SOP/rawdata/jtshen-2020-06-13/CD1382_FDSW202399938-1r_1.clean.fq -2 /home/junyuchen/Lab/Phage-SOP/rawdata/jtshen-2020-06-13/CD1382_FDSW202399938-1r_2.clean.fq -S - -p 12 | \\\n",
    " samtools view -bS - | \\\n",
    " samtools sort -m 5G - mapping_result_sorted.bam"
   ]
  },
  {
   "cell_type": "code",
   "execution_count": null,
   "metadata": {},
   "outputs": [],
   "source": [
    "/home/junyuchen/Lab/Phage-SOP/Result/Assembly-2020-06-13/CD1382_FDSW202399938-1r/scaffolds.fasta"
   ]
  },
  {
   "cell_type": "markdown",
   "metadata": {},
   "source": [
    "bowtie2 -x /home/junyuchen/Lab/Phage-SOP/Result/Assembly-2020-06-13/Coverage/CD1382/CD1382 --no-unal -1 /home/junyuchen/Lab/Phage-SOP/rawdata/jtshen-2020-06-13/CD1382_FDSW202399938-1r_1.clean.fq -2 /home/junyuchen/Lab/Phage-SOP/rawdata/jtshen-2020-06-13/CD1382_FDSW202399938-1r_2.clean.fq -S CD1382.sam -p 12 "
   ]
  }
 ],
 "metadata": {
  "kernelspec": {
   "display_name": "Python 3",
   "language": "python",
   "name": "python3"
  },
  "language_info": {
   "codemirror_mode": {
    "name": "ipython",
    "version": 3
   },
   "file_extension": ".py",
   "mimetype": "text/x-python",
   "name": "python",
   "nbconvert_exporter": "python",
   "pygments_lexer": "ipython3",
   "version": "3.7.7"
  }
 },
 "nbformat": 4,
 "nbformat_minor": 4
}
