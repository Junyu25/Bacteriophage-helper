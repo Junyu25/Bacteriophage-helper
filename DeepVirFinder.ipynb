{
 "cells": [
  {
   "cell_type": "markdown",
   "metadata": {},
   "source": [
    "# DeepVirFinder"
   ]
  },
  {
   "cell_type": "markdown",
   "metadata": {},
   "source": [
    "https://github.com/jessieren/DeepVirFinder"
   ]
  },
  {
   "cell_type": "markdown",
   "metadata": {},
   "source": [
    "`conda create --name dvf python=3.6 numpy theano keras scikit-learn Biopython`"
   ]
  },
  {
   "cell_type": "markdown",
   "metadata": {},
   "source": [
    "`python dvf.py [-i INPUT_FA] [-o OUTPUT_DIR] [-l CUTOFF_LEN] [-c CORE_NUM]`"
   ]
  },
  {
   "cell_type": "markdown",
   "metadata": {},
   "source": [
    "```shell\n",
    "  -h, --help            show this help message and exit\n",
    "  -i INPUT_FA, --in=INPUT_FA\n",
    "                        input fasta file\n",
    "  -m MODDIR, --mod=MODDIR\n",
    "                        model directory (default ./models)\n",
    "  -o OUTPUT_DIR, --out=OUTPUT_DIR\n",
    "                        output directory\n",
    "  -l CUTOFF_LEN, --len=CUTOFF_LEN\n",
    "                        predict only for sequence >= L bp (default 1)\n",
    "  -c CORE_NUM, --core=CORE_NUM\n",
    "                        number of parallel cores (default 1)\n",
    "```"
   ]
  },
  {
   "cell_type": "code",
   "execution_count": null,
   "metadata": {},
   "outputs": [],
   "source": [
    "conda activate dvf"
   ]
  },
  {
   "cell_type": "code",
   "execution_count": null,
   "metadata": {},
   "outputs": [],
   "source": [
    "python dvf.py -i ./test/crAssphage.fa -o ./test/ -l 300"
   ]
  },
  {
   "cell_type": "markdown",
   "metadata": {},
   "source": [
    "```shell\n",
    "python dvf.py -i /home/junyuchen/Lab/Phage-SOP/Result/Assembly-2020-06-13/Quast/CD1382_spades.fasta -o /home/junyuchen/Lab/Phage-SOP/Result/dvf/CD1382_spades -l 300 -c 16  > CD1382_spades.log\n",
    "```"
   ]
  },
  {
   "cell_type": "markdown",
   "metadata": {},
   "source": [
    "WARNING (theano.configdefaults): install mkl with `conda install mkl-service`: No module named 'mkl'"
   ]
  },
  {
   "cell_type": "markdown",
   "metadata": {},
   "source": [
    "对原始的fasta跑 dvf？"
   ]
  },
  {
   "cell_type": "code",
   "execution_count": null,
   "metadata": {},
   "outputs": [],
   "source": []
  }
 ],
 "metadata": {
  "kernelspec": {
   "display_name": "Bash",
   "language": "bash",
   "name": "bash"
  },
  "language_info": {
   "codemirror_mode": "shell",
   "file_extension": ".sh",
   "mimetype": "text/x-sh",
   "name": "bash"
  }
 },
 "nbformat": 4,
 "nbformat_minor": 4
}
