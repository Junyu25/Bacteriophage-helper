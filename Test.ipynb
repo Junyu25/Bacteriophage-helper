{
 "cells": [
  {
   "cell_type": "code",
   "execution_count": 1,
   "metadata": {},
   "outputs": [],
   "source": [
    "import os"
   ]
  },
  {
   "cell_type": "code",
   "execution_count": 2,
   "metadata": {},
   "outputs": [],
   "source": [
    "inputDir = \"/home/junyuchen/Lab/Phage-SOP/rawdata/jtshen-2020-06-13\""
   ]
  },
  {
   "cell_type": "code",
   "execution_count": 9,
   "metadata": {},
   "outputs": [
    {
     "name": "stdout",
     "output_type": "stream",
     "text": [
      "/home/junyuchen/Lab/Phage-SOP/rawdata/jtshen-2020-06-13/BT_FDSW202399939-1r_1.clean.fq\n",
      "/home/junyuchen/Lab/Phage-SOP/rawdata/jtshen-2020-06-13/BT_FDSW202399939-1r_2.clean.fq\n",
      "/home/junyuchen/Lab/Phage-SOP/rawdata/jtshen-2020-06-13/CD12727_FDSW202399936-1r_1.clean.fq\n",
      "/home/junyuchen/Lab/Phage-SOP/rawdata/jtshen-2020-06-13/CD12727_FDSW202399936-1r_2.clean.fq\n",
      "/home/junyuchen/Lab/Phage-SOP/rawdata/jtshen-2020-06-13/SP24_FDSW202399940-1r_1.clean.fq\n",
      "/home/junyuchen/Lab/Phage-SOP/rawdata/jtshen-2020-06-13/SP24_FDSW202399940-1r_2.clean.fq\n",
      "/home/junyuchen/Lab/Phage-SOP/rawdata/jtshen-2020-06-13/FP7_FDSW202399942-1r_1.clean.fq\n",
      "/home/junyuchen/Lab/Phage-SOP/rawdata/jtshen-2020-06-13/FP7_FDSW202399942-1r_2.clean.fq\n",
      "/home/junyuchen/Lab/Phage-SOP/rawdata/jtshen-2020-06-13/CD11204_FDSW202399937-1r_1.clean.fq\n",
      "/home/junyuchen/Lab/Phage-SOP/rawdata/jtshen-2020-06-13/CD11204_FDSW202399937-1r_2.clean.fq\n",
      "/home/junyuchen/Lab/Phage-SOP/rawdata/jtshen-2020-06-13/CD1382_FDSW202399938-1r_1.clean.fq\n",
      "/home/junyuchen/Lab/Phage-SOP/rawdata/jtshen-2020-06-13/CD1382_FDSW202399938-1r_2.clean.fq\n",
      "/home/junyuchen/Lab/Phage-SOP/rawdata/jtshen-2020-06-13/SP34_FDSW202399941-1r_1.clean.fq\n",
      "/home/junyuchen/Lab/Phage-SOP/rawdata/jtshen-2020-06-13/SP34_FDSW202399941-1r_2.clean.fq\n"
     ]
    }
   ],
   "source": [
    "for subdir, dirs, files in os.walk(inputDir):\n",
    "        R1 = \"\"\n",
    "        R2 = \"\"\n",
    "        outputFilePath = \"\"\n",
    "        R1List = []\n",
    "        R2List = []\n",
    "        outFileList = []\n",
    "        for file in files:\n",
    "            if file.endswith(\"_1.clean.fq\"):\n",
    "                R1 = os.path.join(subdir, file)\n",
    "                R2 = os.path.join(subdir, file[:-10]+\"2.clean.fq\")\n",
    "                R1List.append(R1)\n",
    "                print(R1)\n",
    "                print(R2)\n",
    "                R2List.append(R2)\n",
    "            sampleStr = os.path.splitext(file)[0][:-8]\n",
    "            #outputFilePath = os.path.join(ouputDir, sampleStr)\n",
    "            #outFileList.append(outputFilePath)"
   ]
  },
  {
   "cell_type": "code",
   "execution_count": 10,
   "metadata": {},
   "outputs": [
    {
     "data": {
      "text/plain": [
       "'BT_FDSW202399939-1r'"
      ]
     },
     "execution_count": 10,
     "metadata": {},
     "output_type": "execute_result"
    }
   ],
   "source": [
    "sampleStr"
   ]
  },
  {
   "cell_type": "code",
   "execution_count": 11,
   "metadata": {},
   "outputs": [
    {
     "data": {
      "text/plain": [
       "['/home/junyuchen/Lab/Phage-SOP/rawdata/jtshen-2020-06-13/BT_FDSW202399939-1r_1.clean.fq',\n",
       " '/home/junyuchen/Lab/Phage-SOP/rawdata/jtshen-2020-06-13/CD12727_FDSW202399936-1r_1.clean.fq',\n",
       " '/home/junyuchen/Lab/Phage-SOP/rawdata/jtshen-2020-06-13/SP24_FDSW202399940-1r_1.clean.fq',\n",
       " '/home/junyuchen/Lab/Phage-SOP/rawdata/jtshen-2020-06-13/FP7_FDSW202399942-1r_1.clean.fq',\n",
       " '/home/junyuchen/Lab/Phage-SOP/rawdata/jtshen-2020-06-13/CD11204_FDSW202399937-1r_1.clean.fq',\n",
       " '/home/junyuchen/Lab/Phage-SOP/rawdata/jtshen-2020-06-13/CD1382_FDSW202399938-1r_1.clean.fq',\n",
       " '/home/junyuchen/Lab/Phage-SOP/rawdata/jtshen-2020-06-13/SP34_FDSW202399941-1r_1.clean.fq']"
      ]
     },
     "execution_count": 11,
     "metadata": {},
     "output_type": "execute_result"
    }
   ],
   "source": [
    "R1List"
   ]
  },
  {
   "cell_type": "code",
   "execution_count": 12,
   "metadata": {},
   "outputs": [
    {
     "data": {
      "text/plain": [
       "['/home/junyuchen/Lab/Phage-SOP/rawdata/jtshen-2020-06-13/BT_FDSW202399939-1r_2.clean.fq',\n",
       " '/home/junyuchen/Lab/Phage-SOP/rawdata/jtshen-2020-06-13/CD12727_FDSW202399936-1r_2.clean.fq',\n",
       " '/home/junyuchen/Lab/Phage-SOP/rawdata/jtshen-2020-06-13/SP24_FDSW202399940-1r_2.clean.fq',\n",
       " '/home/junyuchen/Lab/Phage-SOP/rawdata/jtshen-2020-06-13/FP7_FDSW202399942-1r_2.clean.fq',\n",
       " '/home/junyuchen/Lab/Phage-SOP/rawdata/jtshen-2020-06-13/CD11204_FDSW202399937-1r_2.clean.fq',\n",
       " '/home/junyuchen/Lab/Phage-SOP/rawdata/jtshen-2020-06-13/CD1382_FDSW202399938-1r_2.clean.fq',\n",
       " '/home/junyuchen/Lab/Phage-SOP/rawdata/jtshen-2020-06-13/SP34_FDSW202399941-1r_2.clean.fq']"
      ]
     },
     "execution_count": 12,
     "metadata": {},
     "output_type": "execute_result"
    }
   ],
   "source": [
    "R2List"
   ]
  },
  {
   "cell_type": "code",
   "execution_count": null,
   "metadata": {},
   "outputs": [],
   "source": []
  },
  {
   "cell_type": "code",
   "execution_count": null,
   "metadata": {},
   "outputs": [],
   "source": []
  },
  {
   "cell_type": "markdown",
   "metadata": {},
   "source": [
    "/mnt/data2/LD_lab/JunyuChen/Phage/Assembly-2020-06-13"
   ]
  },
  {
   "cell_type": "code",
   "execution_count": null,
   "metadata": {},
   "outputs": [],
   "source": []
  },
  {
   "cell_type": "code",
   "execution_count": null,
   "metadata": {},
   "outputs": [],
   "source": []
  }
 ],
 "metadata": {
  "kernelspec": {
   "display_name": "Python 3",
   "language": "python",
   "name": "python3"
  },
  "language_info": {
   "codemirror_mode": {
    "name": "ipython",
    "version": 3
   },
   "file_extension": ".py",
   "mimetype": "text/x-python",
   "name": "python",
   "nbconvert_exporter": "python",
   "pygments_lexer": "ipython3",
   "version": "3.7.6"
  },
  "toc-autonumbering": true
 },
 "nbformat": 4,
 "nbformat_minor": 4
}
