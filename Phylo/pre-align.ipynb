{
 "cells": [
  {
   "cell_type": "code",
   "execution_count": 7,
   "metadata": {},
   "outputs": [],
   "source": [
    "file = \"/mnt/d/Lab/Phage/data/Phage_Bacteroides_thetaiotaomicron.fasta\""
   ]
  },
  {
   "cell_type": "code",
   "execution_count": 2,
   "metadata": {},
   "outputs": [],
   "source": [
    "from Bio import SeqIO"
   ]
  },
  {
   "cell_type": "code",
   "execution_count": 3,
   "metadata": {},
   "outputs": [],
   "source": [
    "from Bio.Seq import Seq"
   ]
  },
  {
   "cell_type": "code",
   "execution_count": 8,
   "metadata": {},
   "outputs": [
    {
     "data": {
      "text/plain": [
       "27"
      ]
     },
     "execution_count": 8,
     "metadata": {},
     "output_type": "execute_result"
    }
   ],
   "source": [
    "n = 0\n",
    "Seq = []\n",
    "for seq in SeqIO.parse(file, \"fasta\"):\n",
    "    #print(seq.id)\n",
    "    seq.id = seq.description.replace(seq.id, \"\").replace(\" |Bacteroides phage \", \"\").replace(\", complete genome\", \"\")\n",
    "    seq.description = \"\"\n",
    "    #print(seq.id)\n",
    "    #print(seq.description)\n",
    "    Seq.append(seq)\n",
    "    n += 1\n",
    "\n",
    "SeqIO.write(Seq, \"/mnt/d/Lab/Phage/data/Phage_Bacteroides_thetaiotaomicron_re.fasta\", \"fasta\")"
   ]
  },
  {
   "cell_type": "code",
   "execution_count": 4,
   "metadata": {},
   "outputs": [],
   "source": [
    "import os"
   ]
  },
  {
   "cell_type": "code",
   "execution_count": 8,
   "metadata": {},
   "outputs": [],
   "source": [
    "OutDir = \"/mnt/d/Lab/Phage/data/Phage_Bacteroides\""
   ]
  },
  {
   "cell_type": "code",
   "execution_count": 9,
   "metadata": {
    "collapsed": true,
    "jupyter": {
     "outputs_hidden": true
    }
   },
   "outputs": [
    {
     "name": "stdout",
     "output_type": "stream",
     "text": [
      "1\n",
      "2\n",
      "3\n",
      "4\n",
      "5\n",
      "6\n",
      "7\n",
      "8\n",
      "9\n",
      "10\n",
      "11\n",
      "12\n",
      "13\n",
      "14\n",
      "15\n",
      "16\n",
      "17\n",
      "18\n",
      "19\n",
      "20\n",
      "21\n",
      "22\n",
      "23\n",
      "24\n",
      "25\n",
      "26\n",
      "27\n"
     ]
    }
   ],
   "source": [
    "n = 0\n",
    "for seq in SeqIO.parse(file, \"fasta\"):\n",
    "    #print(seq.id)\n",
    "    seq.id = seq.description.replace(seq.id, \"\").replace(\" |Bacteroides phage \", \"\").replace(\", complete genome\", \"\")\n",
    "    seq.description = \"\"\n",
    "    #print(seq.id)\n",
    "    #print(seq.description)\n",
    "    #Seq.append(seq)    \n",
    "    SeqIO.write(seq, os.path.join(OutDir, seq.id+\".fasta\"), \"fasta\")\n",
    "    n += 1\n",
    "    print(n)\n"
   ]
  },
  {
   "cell_type": "code",
   "execution_count": null,
   "metadata": {},
   "outputs": [],
   "source": []
  }
 ],
 "metadata": {
  "kernelspec": {
   "display_name": "Python 3",
   "language": "python",
   "name": "python3"
  },
  "language_info": {
   "codemirror_mode": {
    "name": "ipython",
    "version": 3
   },
   "file_extension": ".py",
   "mimetype": "text/x-python",
   "name": "python",
   "nbconvert_exporter": "python",
   "pygments_lexer": "ipython3",
   "version": "3.8.5"
  }
 },
 "nbformat": 4,
 "nbformat_minor": 4
}
