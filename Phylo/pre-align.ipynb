{
 "cells": [
  {
   "cell_type": "code",
   "execution_count": 2,
   "metadata": {},
   "outputs": [],
   "source": [
    "file = \"/mnt/d/Lab/Phage/data/Phage_Bacteroides_thetaiotaomicron.fasta\""
   ]
  },
  {
   "cell_type": "code",
   "execution_count": 3,
   "metadata": {},
   "outputs": [],
   "source": [
    "from Bio import SeqIO"
   ]
  },
  {
   "cell_type": "code",
   "execution_count": 4,
   "metadata": {},
   "outputs": [],
   "source": [
    "from Bio.Seq import Seq"
   ]
  },
  {
   "cell_type": "code",
   "execution_count": 8,
   "metadata": {},
   "outputs": [
    {
     "data": {
      "text/plain": [
       "27"
      ]
     },
     "execution_count": 8,
     "metadata": {},
     "output_type": "execute_result"
    }
   ],
   "source": [
    "n = 0\n",
    "Seq = []\n",
    "for seq in SeqIO.parse(file, \"fasta\"):\n",
    "    #print(seq.id)\n",
    "    seq.id = seq.description.replace(seq.id, \"\").replace(\" |Bacteroides phage \", \"\").replace(\", complete genome\", \"\")\n",
    "    seq.description = \"\"\n",
    "    #print(seq.id)\n",
    "    #print(seq.description)\n",
    "    Seq.append(seq)\n",
    "    n += 1\n",
    "\n",
    "SeqIO.write(Seq, \"/mnt/d/Lab/Phage/data/Phage_Bacteroides_thetaiotaomicron_re.fasta\", \"fasta\")"
   ]
  }
 ],
 "metadata": {
  "kernelspec": {
   "display_name": "Python 3",
   "language": "python",
   "name": "python3"
  },
  "language_info": {
   "codemirror_mode": {
    "name": "ipython",
    "version": 3
   },
   "file_extension": ".py",
   "mimetype": "text/x-python",
   "name": "python",
   "nbconvert_exporter": "python",
   "pygments_lexer": "ipython3",
   "version": "3.8.5"
  }
 },
 "nbformat": 4,
 "nbformat_minor": 4
}
