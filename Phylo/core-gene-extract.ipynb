{
 "cells": [
  {
   "cell_type": "code",
   "execution_count": null,
   "metadata": {},
   "outputs": [],
   "source": [
    "python /home/junyuchen/Lab/Phage-SOP/Bacteriophage-helper/Scripts/RunProkkaDir.py -i /home/junyuchen/Lab/Phage-SOP/Data/Phage_Bacteroides -o /home/junyuchen/Lab/Phage-SOP/Result/Phage_Bacteroides"
   ]
  },
  {
   "cell_type": "code",
   "execution_count": null,
   "metadata": {},
   "outputs": [],
   "source": [
    "roary -f ./Phage_Bacteroides_pangenome -e -n -v ./Phage_Bacteroides_gff_out/*.gff > log"
   ]
  },
  {
   "cell_type": "code",
   "execution_count": null,
   "metadata": {},
   "outputs": [],
   "source": [
    "roary_plots.py accessory_binary_genes.fa.newick gene_presence_absence.csv"
   ]
  },
  {
   "cell_type": "code",
   "execution_count": null,
   "metadata": {},
   "outputs": [],
   "source": [
    "/home/ldlab/Phage/Phage_Bacteroides_pangenome_1600765708"
   ]
  },
  {
   "cell_type": "code",
   "execution_count": null,
   "metadata": {},
   "outputs": [],
   "source": []
  },
  {
   "cell_type": "code",
   "execution_count": null,
   "metadata": {},
   "outputs": [],
   "source": [
    "orthofinder -f Phage_Bacteroides_faa_out/"
   ]
  },
  {
   "cell_type": "code",
   "execution_count": null,
   "metadata": {},
   "outputs": [],
   "source": [
    "orthofinder -f Phage_Bacteroides_faa_out/ -M msa -oa"
   ]
  },
  {
   "cell_type": "code",
   "execution_count": null,
   "metadata": {},
   "outputs": [],
   "source": []
  },
  {
   "cell_type": "code",
   "execution_count": null,
   "metadata": {},
   "outputs": [],
   "source": []
  },
  {
   "cell_type": "markdown",
   "metadata": {},
   "source": [
    "### CrAss 249"
   ]
  },
  {
   "cell_type": "code",
   "execution_count": null,
   "metadata": {},
   "outputs": [],
   "source": [
    "python /home/junyuchen/Lab/Phage-SOP/Bacteriophage-helper/Scripts/RunProkkaDir.py -i /home/junyuchen/Lab/Phage-SOP/CraAss-Classification/CrAss-249 -o /home/junyuchen/Lab/Phage-SOP/CraAss-Classification/CrAss-249-Ano"
   ]
  },
  {
   "cell_type": "code",
   "execution_count": null,
   "metadata": {},
   "outputs": [],
   "source": [
    "/home/junyuchen/Lab/Phage-SOP/CraAss-Classification/CrAss-249-Ano"
   ]
  },
  {
   "cell_type": "code",
   "execution_count": null,
   "metadata": {},
   "outputs": [],
   "source": [
    "roary -f ./CrAss-249_pangenome -e -n -v ./CrAss-249-gff/*.gff > CrAss-249_pangenome.log"
   ]
  },
  {
   "cell_type": "code",
   "execution_count": null,
   "metadata": {},
   "outputs": [],
   "source": [
    "roary_plots.py accessory_binary_genes.fa.newick gene_presence_absence.csv"
   ]
  },
  {
   "cell_type": "code",
   "execution_count": null,
   "metadata": {},
   "outputs": [],
   "source": [
    "/home/ldlab/Phage/Phage_Bacteroides_pangenome_1600765708"
   ]
  }
 ],
 "metadata": {
  "kernelspec": {
   "display_name": "Bash",
   "language": "bash",
   "name": "bash"
  },
  "language_info": {
   "codemirror_mode": "shell",
   "file_extension": ".sh",
   "mimetype": "text/x-sh",
   "name": "bash"
  }
 },
 "nbformat": 4,
 "nbformat_minor": 4
}
