{
 "cells": [
  {
   "cell_type": "code",
   "execution_count": null,
   "metadata": {},
   "outputs": [],
   "source": [
    "conda install -c bioconda mafft"
   ]
  },
  {
   "cell_type": "code",
   "execution_count": null,
   "metadata": {},
   "outputs": [],
   "source": [
    "conda install -c bioconda trimal"
   ]
  },
  {
   "cell_type": "code",
   "execution_count": null,
   "metadata": {},
   "outputs": [],
   "source": []
  },
  {
   "cell_type": "markdown",
   "metadata": {},
   "source": [
    "https://github.com/edgraham/PhylogenomicsWorkflow"
   ]
  },
  {
   "cell_type": "code",
   "execution_count": null,
   "metadata": {},
   "outputs": [],
   "source": [
    "while read p; do muscle -maxiters 16 -in Dataset1_\"$p\".faa -out Dataset1_\"$p\".aln; done < ../../hug_marker_list.txt"
   ]
  },
  {
   "cell_type": "code",
   "execution_count": null,
   "metadata": {},
   "outputs": [],
   "source": [
    "while read p;do trimal -automated1 -in Dataset1_\"$p\".aln -out Dataset1_\"$p\".trimmed.aln; done < ../../hug_marker_list.txt"
   ]
  },
  {
   "cell_type": "code",
   "execution_count": null,
   "metadata": {},
   "outputs": [],
   "source": [
    "FastTree -gamma -lg Dataset1.HugRibosomal.trimmed.concat.aln > Dataset1.HugRibosomal.trimmed.concat.newick"
   ]
  },
  {
   "cell_type": "markdown",
   "metadata": {},
   "source": [
    "https://yulab-smu.top/treedata-book/"
   ]
  },
  {
   "cell_type": "code",
   "execution_count": null,
   "metadata": {},
   "outputs": [],
   "source": []
  },
  {
   "cell_type": "code",
   "execution_count": null,
   "metadata": {},
   "outputs": [],
   "source": [
    "mafft --thread 8 /mnt/d/Lab/Phage/data/Phage_Bacteroides_thetaiotaomicron.fasta > /mnt/d/Lab/Phage/results/mafft_align/Phage_Bacteroides_thetaiotaomicron.out"
   ]
  },
  {
   "cell_type": "code",
   "execution_count": null,
   "metadata": {},
   "outputs": [],
   "source": [
    "trimal -automated1 -in /mnt/d/Lab/Phage/results/mafft_align/Phage_Bacteroides_thetaiotaomicron.out -out Phage_Bacteroides_thetaiotaomicron.aln"
   ]
  },
  {
   "cell_type": "code",
   "execution_count": null,
   "metadata": {},
   "outputs": [],
   "source": [
    "FastTree -gamma -lg Phage_Bacteroides_thetaiotaomicron.aln > Phage_Bacteroides_thetaiotaomicron.aln.newick"
   ]
  },
  {
   "cell_type": "code",
   "execution_count": null,
   "metadata": {},
   "outputs": [],
   "source": []
  },
  {
   "cell_type": "code",
   "execution_count": null,
   "metadata": {},
   "outputs": [],
   "source": []
  },
  {
   "cell_type": "markdown",
   "metadata": {},
   "source": [
    "redo"
   ]
  },
  {
   "cell_type": "code",
   "execution_count": null,
   "metadata": {},
   "outputs": [],
   "source": [
    "mafft --thread 8 /mnt/d/Lab/Phage/data/Phage_Bacteroides_thetaiotaomicron_re.fasta > /mnt/d/Lab/Phage/results/Phage_Bacteroides_phylo_out/Phage_Bacteroides_thetaiotaomicron.aln"
   ]
  },
  {
   "cell_type": "code",
   "execution_count": null,
   "metadata": {},
   "outputs": [],
   "source": [
    "trimal -automated1 -in /mnt/d/Lab/Phage/results/Phage_Bacteroides_phylo_out/Phage_Bacteroides_thetaiotaomicron.aln -out /mnt/d/Lab/Phage/results/Phage_Bacteroides_phylo_out/Phage_Bacteroides_thetaiotaomicron_trim.aln"
   ]
  },
  {
   "cell_type": "code",
   "execution_count": null,
   "metadata": {},
   "outputs": [],
   "source": [
    "FastTree -gamma -lg /mnt/d/Lab/Phage/results/Phage_Bacteroides_phylo_out/Phage_Bacteroides_thetaiotaomicron_trim.aln > /mnt/d/Lab/Phage/results/Phage_Bacteroides_phylo_out/Phage_Bacteroides_thetaiotaomicron_trim.newick"
   ]
  },
  {
   "cell_type": "code",
   "execution_count": null,
   "metadata": {},
   "outputs": [],
   "source": []
  },
  {
   "cell_type": "code",
   "execution_count": null,
   "metadata": {},
   "outputs": [],
   "source": []
  },
  {
   "cell_type": "code",
   "execution_count": null,
   "metadata": {},
   "outputs": [],
   "source": []
  },
  {
   "cell_type": "code",
   "execution_count": null,
   "metadata": {},
   "outputs": [],
   "source": [
    "mafft --thread 8 /mnt/d/Lab/Phage/data/Phage-phylo.fasta > /mnt/d/Lab/Phage/results/Phage_Bacteroides_phylo_out/Phage-phylo.fasta.aln"
   ]
  },
  {
   "cell_type": "code",
   "execution_count": null,
   "metadata": {},
   "outputs": [],
   "source": [
    "trimal -automated1 -in /mnt/d/Lab/Phage/results/Phage_Bacteroides_phylo_out/Phage-phylo.fasta.aln -out /mnt/d/Lab/Phage/results/Phage_Bacteroides_phylo_out/Phage-phylo_trim.aln"
   ]
  },
  {
   "cell_type": "code",
   "execution_count": null,
   "metadata": {},
   "outputs": [],
   "source": [
    "FastTree -gamma -lg /mnt/d/Lab/Phage/results/Phage_Bacteroides_phylo_out/Phage-phylo_trim.aln > /mnt/d/Lab/Phage/results/Phage_Bacteroides_phylo_out/Phage_Bacteroides_thetaiotaomicron_trim.newick"
   ]
  }
 ],
 "metadata": {
  "kernelspec": {
   "display_name": "Bash",
   "language": "bash",
   "name": "bash"
  },
  "language_info": {
   "codemirror_mode": "shell",
   "file_extension": ".sh",
   "mimetype": "text/x-sh",
   "name": "bash"
  }
 },
 "nbformat": 4,
 "nbformat_minor": 4
}
