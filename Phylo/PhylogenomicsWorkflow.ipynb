{
 "cells": [
  {
   "cell_type": "code",
   "execution_count": null,
   "metadata": {},
   "outputs": [],
   "source": [
    "conda install -c bioconda mafft"
   ]
  },
  {
   "cell_type": "code",
   "execution_count": null,
   "metadata": {},
   "outputs": [],
   "source": [
    "conda install -c bioconda trimal"
   ]
  },
  {
   "cell_type": "code",
   "execution_count": null,
   "metadata": {},
   "outputs": [],
   "source": []
  },
  {
   "cell_type": "markdown",
   "metadata": {},
   "source": [
    "https://github.com/edgraham/PhylogenomicsWorkflow"
   ]
  },
  {
   "cell_type": "code",
   "execution_count": null,
   "metadata": {},
   "outputs": [],
   "source": [
    "while read p; do muscle -maxiters 16 -in Dataset1_\"$p\".faa -out Dataset1_\"$p\".aln; done < ../../hug_marker_list.txt"
   ]
  },
  {
   "cell_type": "code",
   "execution_count": null,
   "metadata": {},
   "outputs": [],
   "source": [
    "while read p;do trimal -automated1 -in Dataset1_\"$p\".aln -out Dataset1_\"$p\".trimmed.aln; done < ../../hug_marker_list.txt"
   ]
  },
  {
   "cell_type": "code",
   "execution_count": null,
   "metadata": {},
   "outputs": [],
   "source": [
    "FastTree -gamma -lg Dataset1.HugRibosomal.trimmed.concat.aln > Dataset1.HugRibosomal.trimmed.concat.newick"
   ]
  },
  {
   "cell_type": "markdown",
   "metadata": {},
   "source": [
    "https://yulab-smu.top/treedata-book/"
   ]
  },
  {
   "cell_type": "code",
   "execution_count": null,
   "metadata": {},
   "outputs": [],
   "source": []
  },
  {
   "cell_type": "code",
   "execution_count": null,
   "metadata": {},
   "outputs": [],
   "source": [
    "mafft --thread 8 /mnt/d/Lab/Phage/data/Phage_Bacteroides_thetaiotaomicron.fasta > /mnt/d/Lab/Phage/results/mafft_align/Phage_Bacteroides_thetaiotaomicron.out"
   ]
  },
  {
   "cell_type": "code",
   "execution_count": null,
   "metadata": {},
   "outputs": [],
   "source": [
    "trimal -automated1 -in /mnt/d/Lab/Phage/results/mafft_align/Phage_Bacteroides_thetaiotaomicron.out -out Phage_Bacteroides_thetaiotaomicron.aln"
   ]
  },
  {
   "cell_type": "code",
   "execution_count": null,
   "metadata": {},
   "outputs": [],
   "source": [
    "FastTree -gamma -lg Phage_Bacteroides_thetaiotaomicron.aln > Phage_Bacteroides_thetaiotaomicron.aln.newick"
   ]
  },
  {
   "cell_type": "code",
   "execution_count": null,
   "metadata": {},
   "outputs": [],
   "source": []
  },
  {
   "cell_type": "code",
   "execution_count": null,
   "metadata": {},
   "outputs": [],
   "source": []
  },
  {
   "cell_type": "markdown",
   "metadata": {},
   "source": [
    "redo"
   ]
  },
  {
   "cell_type": "code",
   "execution_count": null,
   "metadata": {},
   "outputs": [],
   "source": [
    "mafft --thread 8 /mnt/d/Lab/Phage/data/Phage_Bacteroides_thetaiotaomicron_re.fasta > /mnt/d/Lab/Phage/results/Phage_Bacteroides_phylo_out/Phage_Bacteroides_thetaiotaomicron_ori.aln"
   ]
  },
  {
   "cell_type": "code",
   "execution_count": null,
   "metadata": {},
   "outputs": [],
   "source": [
    "trimal -automated1 -in /mnt/d/Lab/Phage/results/Phage_Bacteroides_phylo_out/Phage_Bacteroides_thetaiotaomicron_ori.aln -out /mnt/d/Lab/Phage/results/Phage_Bacteroides_phylo_out/Phage_Bacteroides_thetaiotaomicron_trim_ori.aln"
   ]
  },
  {
   "cell_type": "code",
   "execution_count": null,
   "metadata": {},
   "outputs": [],
   "source": [
    "FastTree -gamma -lg /mnt/d/Lab/Phage/results/Phage_Bacteroides_phylo_out/Phage_Bacteroides_thetaiotaomicron_trim_ori.aln > /mnt/d/Lab/Phage/results/Phage_Bacteroides_phylo_out/Phage_Bacteroides_thetaiotaomicron_trim_ori.newick"
   ]
  },
  {
   "cell_type": "code",
   "execution_count": null,
   "metadata": {},
   "outputs": [],
   "source": [
    "FastTree -nt /mnt/d/Lab/Phage/results/Phage_Bacteroides_phylo_out/Phage_Bacteroides_thetaiotaomicron_trim_ori.aln > /mnt/d/Lab/Phage/results/Phage_Bacteroides_phylo_out/Phage_Bacteroides_thetaiotaomicron_trim_ori.newick"
   ]
  },
  {
   "cell_type": "code",
   "execution_count": null,
   "metadata": {},
   "outputs": [],
   "source": []
  },
  {
   "cell_type": "code",
   "execution_count": null,
   "metadata": {},
   "outputs": [],
   "source": []
  },
  {
   "cell_type": "code",
   "execution_count": null,
   "metadata": {},
   "outputs": [],
   "source": []
  },
  {
   "cell_type": "code",
   "execution_count": null,
   "metadata": {},
   "outputs": [],
   "source": [
    "mafft --thread 8 /mnt/d/Lab/Phage/data/Phage-phylo.fasta > /mnt/d/Lab/Phage/results/Phage_Bacteroides_phylo_out/Phage-phylo.fasta.aln"
   ]
  },
  {
   "cell_type": "markdown",
   "metadata": {},
   "source": [
    "`NNNN` 有问题..."
   ]
  },
  {
   "cell_type": "markdown",
   "metadata": {},
   "source": [
    "删除后重跑"
   ]
  },
  {
   "cell_type": "code",
   "execution_count": null,
   "metadata": {},
   "outputs": [],
   "source": [
    "mafft --thread 8 /mnt/d/Lab/Phage/data/Phage-phylo.fasta > /mnt/d/Lab/Phage/results/Phage_Bacteroides_phylo_out/Phage-phylo.fasta.aln"
   ]
  },
  {
   "cell_type": "code",
   "execution_count": null,
   "metadata": {},
   "outputs": [],
   "source": [
    "trimal -automated1 -in /mnt/d/Lab/Phage/results/Phage_Bacteroides_phylo_out/Phage-phylo.fasta.aln -out /mnt/d/Lab/Phage/results/Phage_Bacteroides_phylo_out/Phage-phylo_trim.aln"
   ]
  },
  {
   "cell_type": "code",
   "execution_count": null,
   "metadata": {},
   "outputs": [],
   "source": [
    "trimal -automated1 -in /mnt/d/Lab/Phage/results/Phage_Bacteroides_phylo_out/Phage-phylo.fasta.aln -out /mnt/d/Lab/Phage/results/Phage_Bacteroides_phylo_out/Phage-phylo_trim.meg -mega"
   ]
  },
  {
   "cell_type": "code",
   "execution_count": null,
   "metadata": {},
   "outputs": [],
   "source": [
    "readal -in /mnt/d/Lab/Phage/results/Phage_Bacteroides_phylo_out/Phage-phylo.fasta.aln -out /mnt/d/Lab/Phage/results/Phage_Bacteroides_phylo_out/Phage-phylo.meg -mega"
   ]
  },
  {
   "cell_type": "code",
   "execution_count": null,
   "metadata": {},
   "outputs": [],
   "source": [
    "FastTree -gamma -lg /mnt/d/Lab/Phage/results/Phage_Bacteroides_phylo_out/Phage-phylo_trim.aln > /mnt/d/Lab/Phage/results/Phage_Bacteroides_phylo_out/Phage_Bacteroides_thetaiotaomicron_trim.newick"
   ]
  },
  {
   "cell_type": "code",
   "execution_count": null,
   "metadata": {},
   "outputs": [],
   "source": [
    "FastTree -gamma -lg /mnt/d/Lab/Phage/results/Phage_Bacteroides_phylo_out/Phage-phylo.fasta.aln > /mnt/d/Lab/Phage/results/Phage_Bacteroides_phylo_out/Phage_Bacteroides_thetaiotaomicron.newick"
   ]
  },
  {
   "cell_type": "code",
   "execution_count": null,
   "metadata": {},
   "outputs": [],
   "source": [
    "FastTree -nt /mnt/d/Lab/Phage/results/Phage_Bacteroides_phylo_out/Phage-phylo.fasta.aln > /mnt/d/Lab/Phage/results/Phage_Bacteroides_phylo_out/Phage_Bacteroides_thetaiotaomicron_fasttree.newick"
   ]
  },
  {
   "cell_type": "code",
   "execution_count": null,
   "metadata": {},
   "outputs": [],
   "source": [
    "FastTree -nt /mnt/d/Lab/Phage/results/Phage_Bacteroides_phylo_out/Phage-phylo_trim.aln > /mnt/d/Lab/Phage/results/Phage_Bacteroides_phylo_out/Phage_Bacteroides_thetaiotaomicron_trim_fasttree.newick"
   ]
  },
  {
   "cell_type": "markdown",
   "metadata": {},
   "source": [
    "https://itol.embl.de/tree/21075253170254361600772352"
   ]
  },
  {
   "cell_type": "markdown",
   "metadata": {},
   "source": [
    "https://itol.embl.de/tree/21075253170441921600766001"
   ]
  },
  {
   "cell_type": "markdown",
   "metadata": {},
   "source": [
    "trimal -automated1 -in /mnt/d/Lab/Phage/results/Phage_Bacteroides_phylo_out/Phage-phylo.fasta.aln -out /mnt/d/Lab/Phage/results/Phage_Bacteroides_phylo_out/Phage-phylo_trim_1.aln  -htmlout /mnt/d/Lab/Phage/results/Phage_Bacteroides_phylo_out/Phage-phylo_trim_1.html"
   ]
  },
  {
   "cell_type": "code",
   "execution_count": null,
   "metadata": {},
   "outputs": [],
   "source": []
  },
  {
   "cell_type": "code",
   "execution_count": null,
   "metadata": {},
   "outputs": [],
   "source": []
  },
  {
   "cell_type": "code",
   "execution_count": null,
   "metadata": {},
   "outputs": [],
   "source": []
  },
  {
   "cell_type": "code",
   "execution_count": null,
   "metadata": {},
   "outputs": [],
   "source": [
    "mafft --thread 8 /mnt/d/Lab/Phage/data/Phage-phylo.fasta > /mnt/d/Lab/Phage/results/Phage_Bacteroides_phylo_out/Phage-phylo_re.aln"
   ]
  },
  {
   "cell_type": "code",
   "execution_count": null,
   "metadata": {},
   "outputs": [],
   "source": [
    "FastTree -nt /mnt/d/Lab/Phage/results/Phage_Bacteroides_phylo_out/Phage-phylo_re.aln > /mnt/d/Lab/Phage/results/Phage_Bacteroides_phylo_out/Phage_Bacteroides_thetaiotaomicron_trim_fasttree_re.newick"
   ]
  },
  {
   "cell_type": "code",
   "execution_count": null,
   "metadata": {},
   "outputs": [],
   "source": []
  },
  {
   "cell_type": "code",
   "execution_count": 1,
   "metadata": {},
   "outputs": [
    {
     "name": "stdout",
     "output_type": "stream",
     "text": [
      "(bio) "
     ]
    },
    {
     "ename": "",
     "evalue": "1",
     "output_type": "error",
     "traceback": []
    }
   ],
   "source": [
    "conda activate bio"
   ]
  },
  {
   "cell_type": "code",
   "execution_count": 4,
   "metadata": {
    "collapsed": true,
    "jupyter": {
     "outputs_hidden": true
    }
   },
   "outputs": [
    {
     "name": "stdout",
     "output_type": "stream",
     "text": [
      "nthread = 8\n",
      "nthreadpair = 8\n",
      "nthreadtb = 8\n",
      "ppenalty_ex = 0\n",
      "stacksize: 8192 kb\n",
      "generating a scoring matrix for nucleotide (dist=200) ... done\n",
      "Gap Penalty = -1.53, +0.00, +0.00\n",
      "\n",
      "\n",
      "\n",
      "Making a distance matrix ..\n",
      "    1 / 6 (thread    0)\n",
      "done.\n",
      "\n",
      "Constructing a UPGMA tree (efffree=0) ... \n",
      "    0 / 6\n",
      "done.\n",
      "\n",
      "Progressive alignment 1/2... \n",
      "\n",
      "len1=35499, len2=37887, Switching to the memsave mode\n",
      "STEP     5 / 5 (thread    4)mDP 00001 / 00001DP 00001 / 00001\n",
      "done.\n",
      "\n",
      "Making a distance matrix from msa.. \n",
      "    0 / 6 (thread    1)\n",
      "done.\n",
      "\n",
      "Constructing a UPGMA tree (efffree=1) ... \n",
      "    0 / 6\n",
      "done.\n",
      "\n",
      "Progressive alignment 2/2... \n",
      "\n",
      "len1=53352, len2=37991, Switching to the memsave mode\n",
      "STEP     5 / 5 (thread    4)mDP 00001 / 00001DP 00001 / 00001\n",
      "done.\n",
      "\n",
      "disttbfast (nuc) Version 7.471\n",
      "alg=M, model=DNA200 (2), 1.53 (4.59), -0.00 (-0.00), noshift, amax=0.0\n",
      "8 thread(s)\n",
      "\n",
      "\n",
      "Strategy:\n",
      " FFT-NS-2 (Fast but rough)\n",
      " Progressive method (guide trees were built 2 times.)\n",
      "\n",
      "If unsure which option to use, try 'mafft --auto input > output'.\n",
      "For more information, see 'mafft --help', 'mafft --man' and the mafft page.\n",
      "\n",
      "The default gap scoring scheme has been changed in version 7.110 (2013 Oct).\n",
      "It tends to insert more gaps into gap-rich regions than previous versions.\n",
      "To disable this change, add the --leavegappyregion option.\n",
      "\n",
      "(bio) "
     ]
    },
    {
     "ename": "",
     "evalue": "1",
     "output_type": "error",
     "traceback": []
    }
   ],
   "source": [
    "mafft --auto --thread 8 /mnt/d/Lab/Phage/data/demo.fasta > /mnt/d/Lab/Phage/results/Demo.aln"
   ]
  },
  {
   "cell_type": "code",
   "execution_count": 5,
   "metadata": {},
   "outputs": [
    {
     "name": "stdout",
     "output_type": "stream",
     "text": [
      "(bio) "
     ]
    },
    {
     "ename": "",
     "evalue": "1",
     "output_type": "error",
     "traceback": []
    }
   ],
   "source": [
    "trimal -automated1 -in /mnt/d/Lab/Phage/results/Demo.aln -out /mnt/d/Lab/Phage/results/Phage_Bacteroides_phylo_out/Demo_trim.aln  -htmlout /mnt/d/Lab/Phage/results/Phage_Bacteroides_phylo_out/Demo_trim.html"
   ]
  },
  {
   "cell_type": "code",
   "execution_count": 3,
   "metadata": {
    "collapsed": true,
    "jupyter": {
     "outputs_hidden": true
    }
   },
   "outputs": [
    {
     "name": "stdout",
     "output_type": "stream",
     "text": [
      "FastTree Version 2.1.10 Double precision (No SSE3)\n",
      "Alignment: /mnt/d/Lab/Phage/results/Demo.aln\n",
      "Nucleotide distances: Jukes-Cantor Joins: balanced Support: SH-like 1000\n",
      "Search: Normal +NNI +SPR (2 rounds range 10) +ML-NNI opt-each=1\n",
      "TopHits: 1.00*sqrtN close=default refresh=0.80\n",
      "ML Model: Jukes-Cantor, CAT approximation with 20 rate categories\n",
      "Ignored unknown character n (seen 300 times)\n",
      "Initial topology in 0.06 seconds\n",
      "Refining topology: 10 rounds ME-NNIs, 2 rounds ME-SPRs, 5 rounds ML-NNIs\n",
      "Total branch-length 3.084 after 0.64 sec, 1 of 4 splits   \n",
      "ML-NNI round 1: LogLk = -309423.561 NNIs 0 max delta 0.00 Time 1.37\n",
      "Switched to using 20 rate categories (CAT approximation)12 of 20   \n",
      "Rate categories were divided by 0.747 so that average rate = 1.0\n",
      "CAT-based log-likelihoods may not be comparable across runs\n",
      "Use -gamma for approximate but comparable Gamma(20) log-likelihoods\n",
      "ML-NNI round 2: LogLk = -296781.282 NNIs 0 max delta 0.00 Time 1.62\n",
      "Turning off heuristics for final round of ML NNIs (converged)\n",
      "ML-NNI round 3: LogLk = -296778.985 NNIs 0 max delta 0.00 Time 2.22 (final)\n",
      "Optimize all lengths: LogLk = -296778.889 Time 2.42\n",
      "Total time: 4.70 seconds Unique: 6/6 Bad splits: 0/3\n",
      "(bio) "
     ]
    },
    {
     "ename": "",
     "evalue": "1",
     "output_type": "error",
     "traceback": []
    }
   ],
   "source": [
    "FastTree -nt /mnt/d/Lab/Phage/results/Demo.aln > /mnt/d/Lab/Phage/results/Demo_fasttree.newick"
   ]
  },
  {
   "cell_type": "code",
   "execution_count": null,
   "metadata": {},
   "outputs": [],
   "source": []
  },
  {
   "cell_type": "code",
   "execution_count": null,
   "metadata": {},
   "outputs": [],
   "source": []
  },
  {
   "cell_type": "markdown",
   "metadata": {},
   "source": [
    "## FastANI demo"
   ]
  },
  {
   "cell_type": "code",
   "execution_count": 6,
   "metadata": {},
   "outputs": [
    {
     "name": "stdout",
     "output_type": "stream",
     "text": [
      "/mnt/d/Lab/Bacteriophage-helper/Phylo\n",
      "(bio) "
     ]
    },
    {
     "ename": "",
     "evalue": "1",
     "output_type": "error",
     "traceback": []
    }
   ],
   "source": [
    "pwd"
   ]
  },
  {
   "cell_type": "code",
   "execution_count": 16,
   "metadata": {},
   "outputs": [
    {
     "name": "stdout",
     "output_type": "stream",
     "text": [
      ">>>>>>>>>>>>>>>>>>\n",
      "Reference = [/mnt/d/Lab/Phage/data/Phage_Bacteroides/DA47HF.fasta]\n",
      "Query = [/mnt/d/Lab/Phage/data/Phage_Bacteroides/HNL05.fasta]\n",
      "Kmer size = 16\n",
      "Fragment length = 3000\n",
      "Threads = 1\n",
      "ANI output file = /mnt/d/Lab/Phage/results/fastANI/HNL05-DA47HF.out\n",
      ">>>>>>>>>>>>>>>>>>\n",
      "INFO [thread 0], skch::main, Count of threads executing parallel_for : 1\n",
      "INFO [thread 0], skch::Sketch::build, window size for minimizer sampling  = 24\n",
      "INFO [thread 0], skch::Sketch::build, minimizers picked from reference = 2994\n",
      "INFO [thread 0], skch::Sketch::index, unique minimizers = 2987\n",
      "INFO [thread 0], skch::Sketch::computeFreqHist, Frequency histogram of minimizers = (1, 2981) ... (3, 1)\n",
      "INFO [thread 0], skch::Sketch::computeFreqHist, consider all minimizers during lookup.\n",
      "INFO [thread 0], skch::main, Time spent sketching the reference : 0.0108788 sec\n",
      "INFO [thread 0], skch::main, Time spent mapping fragments in query #1 : 0.0279859 sec\n",
      "INFO [thread 0], skch::main, Time spent post mapping : 0.0087659 sec\n",
      "INFO [thread 0], skch::main, ready to exit the loop\n",
      "INFO, skch::main, parallel_for execution finished\n",
      "(bio) "
     ]
    },
    {
     "ename": "",
     "evalue": "1",
     "output_type": "error",
     "traceback": []
    }
   ],
   "source": [
    "fastANI -q /mnt/d/Lab/Phage/data/Phage_Bacteroides/HNL05.fasta -r /mnt/d/Lab/Phage/data/Phage_Bacteroides/DA47HF.fasta --visualize -o /mnt/d/Lab/Phage/results/fastANI/HNL05-DA47HF.out"
   ]
  },
  {
   "cell_type": "code",
   "execution_count": 8,
   "metadata": {
    "collapsed": true,
    "jupyter": {
     "outputs_hidden": true
    }
   },
   "outputs": [
    {
     "name": "stdout",
     "output_type": "stream",
     "text": [
      ">>>>>>>>>>>>>>>>>>\n",
      "Reference = [/mnt/d/Lab/Phage/data/Phage_Bacteroides/DA47HF.fasta]\n",
      "Query = [/mnt/d/Lab/Phage/data/Phage_Bacteroides/DA47HF.fasta]\n",
      "Kmer size = 16\n",
      "Fragment length = 3000\n",
      "Threads = 1\n",
      "ANI output file = /mnt/d/Lab/Phage/results/fastANI/DA47HF-DA47HF.out\n",
      ">>>>>>>>>>>>>>>>>>\n",
      "INFO [thread 0], skch::main, Count of threads executing parallel_for : 1\n",
      "INFO [thread 0], skch::Sketch::build, window size for minimizer sampling  = 24\n",
      "INFO [thread 0], skch::Sketch::build, minimizers picked from reference = 2994\n",
      "INFO [thread 0], skch::Sketch::index, unique minimizers = 2987\n",
      "INFO [thread 0], skch::Sketch::computeFreqHist, Frequency histogram of minimizers = (1, 2981) ... (3, 1)\n",
      "INFO [thread 0], skch::Sketch::computeFreqHist, consider all minimizers during lookup.\n",
      "INFO [thread 0], skch::main, Time spent sketching the reference : 0.0073785 sec\n",
      "INFO [thread 0], skch::main, Time spent mapping fragments in query #1 : 0.0109994 sec\n",
      "INFO [thread 0], skch::main, Time spent post mapping : 7e-06 sec\n",
      "INFO [thread 0], skch::main, ready to exit the loop\n",
      "INFO, skch::main, parallel_for execution finished\n",
      "(bio) "
     ]
    },
    {
     "ename": "",
     "evalue": "1",
     "output_type": "error",
     "traceback": []
    }
   ],
   "source": [
    "fastANI -q /mnt/d/Lab/Phage/data/Phage_Bacteroides/DA47HF.fasta -r /mnt/d/Lab/Phage/data/Phage_Bacteroides/DA47HF.fasta -o /mnt/d/Lab/Phage/results/fastANI/DA47HF-DA47HF.out"
   ]
  },
  {
   "cell_type": "code",
   "execution_count": 14,
   "metadata": {},
   "outputs": [
    {
     "name": "stdout",
     "output_type": "stream",
     "text": [
      ">>>>>>>>>>>>>>>>>>\n",
      "Reference = [/mnt/d/Lab/Phage/data/Phage_Bacteroides/DA47HF.fasta]\n",
      "Query = [/mnt/d/Lab/Phage/data/Phage_Bacteroides/DA283W1.fasta]\n",
      "Kmer size = 16\n",
      "Fragment length = 3000\n",
      "Threads = 1\n",
      "ANI output file = /mnt/d/Lab/Phage/results/fastANI/DA283W1-DA47HF.out\n",
      ">>>>>>>>>>>>>>>>>>\n",
      "INFO [thread 0], skch::main, Count of threads executing parallel_for : 1\n",
      "INFO [thread 0], skch::Sketch::build, window size for minimizer sampling  = 24\n",
      "INFO [thread 0], skch::Sketch::build, minimizers picked from reference = 2994\n",
      "INFO [thread 0], skch::Sketch::index, unique minimizers = 2987\n",
      "INFO [thread 0], skch::Sketch::computeFreqHist, Frequency histogram of minimizers = (1, 2981) ... (3, 1)\n",
      "INFO [thread 0], skch::Sketch::computeFreqHist, consider all minimizers during lookup.\n",
      "INFO [thread 0], skch::main, Time spent sketching the reference : 0.0057124 sec\n",
      "INFO [thread 0], skch::main, Time spent mapping fragments in query #1 : 0.0102598 sec\n",
      "INFO [thread 0], skch::main, Time spent post mapping : 2e-06 sec\n",
      "INFO [thread 0], skch::main, ready to exit the loop\n",
      "INFO, skch::main, parallel_for execution finished\n",
      "(bio) "
     ]
    },
    {
     "ename": "",
     "evalue": "1",
     "output_type": "error",
     "traceback": []
    }
   ],
   "source": [
    "fastANI -q /mnt/d/Lab/Phage/data/Phage_Bacteroides/DA283W1.fasta -r /mnt/d/Lab/Phage/data/Phage_Bacteroides/DA47HF.fasta -o /mnt/d/Lab/Phage/results/fastANI/DA283W1-DA47HF.out"
   ]
  },
  {
   "cell_type": "code",
   "execution_count": 15,
   "metadata": {},
   "outputs": [
    {
     "name": "stdout",
     "output_type": "stream",
     "text": [
      ">>>>>>>>>>>>>>>>>>\n",
      "Reference = [/mnt/d/Lab/Phage/data/Phage_Bacteroides/DA47HF.fasta]\n",
      "Query = [/mnt/d/Lab/Phage/data/Phage_Bacteroides/DA283W2.fasta]\n",
      "Kmer size = 16\n",
      "Fragment length = 3000\n",
      "Threads = 1\n",
      "ANI output file = /mnt/d/Lab/Phage/results/fastANI/DA283W2-DA47HF.out\n",
      ">>>>>>>>>>>>>>>>>>\n",
      "INFO [thread 0], skch::main, Count of threads executing parallel_for : 1\n",
      "INFO [thread 0], skch::Sketch::build, window size for minimizer sampling  = 24\n",
      "INFO [thread 0], skch::Sketch::build, minimizers picked from reference = 2994\n",
      "INFO [thread 0], skch::Sketch::index, unique minimizers = 2987\n",
      "INFO [thread 0], skch::Sketch::computeFreqHist, Frequency histogram of minimizers = (1, 2981) ... (3, 1)\n",
      "INFO [thread 0], skch::Sketch::computeFreqHist, consider all minimizers during lookup.\n",
      "INFO [thread 0], skch::main, Time spent sketching the reference : 0.0071532 sec\n",
      "INFO [thread 0], skch::main, Time spent mapping fragments in query #1 : 0.0089846 sec\n",
      "INFO [thread 0], skch::main, Time spent post mapping : 1.5e-06 sec\n",
      "INFO [thread 0], skch::main, ready to exit the loop\n",
      "INFO, skch::main, parallel_for execution finished\n",
      "(bio) "
     ]
    },
    {
     "ename": "",
     "evalue": "1",
     "output_type": "error",
     "traceback": []
    }
   ],
   "source": [
    "fastANI -q /mnt/d/Lab/Phage/data/Phage_Bacteroides/DA283W2.fasta -r /mnt/d/Lab/Phage/data/Phage_Bacteroides/DA47HF.fasta -o /mnt/d/Lab/Phage/results/fastANI/DA283W2-DA47HF.out"
   ]
  },
  {
   "cell_type": "code",
   "execution_count": 11,
   "metadata": {},
   "outputs": [
    {
     "name": "stdout",
     "output_type": "stream",
     "text": [
      "\u001b[0m\u001b[01;32mDA283W1-DA47HF.out\u001b[0m  \u001b[01;32mDA283W2-DA47HF.out\u001b[0m  \u001b[01;32mDA47HF-DA47HF.out\u001b[0m  \u001b[01;32mHNL05-DA47HF.out\u001b[0m\n",
      "(bio) "
     ]
    },
    {
     "ename": "",
     "evalue": "1",
     "output_type": "error",
     "traceback": []
    }
   ],
   "source": [
    "ls /mnt/d/Lab/Phage/results/fastANI"
   ]
  },
  {
   "cell_type": "code",
   "execution_count": 13,
   "metadata": {},
   "outputs": [
    {
     "name": "stdout",
     "output_type": "stream",
     "text": [
      "==> /mnt/d/Lab/Phage/results/fastANI/DA283W1-DA47HF.out <==\n",
      "\n",
      "==> /mnt/d/Lab/Phage/results/fastANI/DA283W2-DA47HF.out <==\n",
      "\n",
      "==> /mnt/d/Lab/Phage/results/fastANI/DA47HF-DA47HF.out <==\n",
      "/mnt/d/Lab/Phage/data/Phage_Bacteroides/DA47HF.fasta\t/mnt/d/Lab/Phage/data/Phage_Bacteroides/DA47HF.fasta\t100\t12\t12\n",
      "\n",
      "==> /mnt/d/Lab/Phage/results/fastANI/HNL05-DA47HF.out <==\n",
      "/mnt/d/Lab/Phage/data/Phage_Bacteroides/HNL05.fasta\t/mnt/d/Lab/Phage/data/Phage_Bacteroides/DA47HF.fasta\t97.2417\t11\t12\n",
      "(bio) "
     ]
    },
    {
     "ename": "",
     "evalue": "1",
     "output_type": "error",
     "traceback": []
    }
   ],
   "source": [
    "head /mnt/d/Lab/Phage/results/fastANI/*"
   ]
  },
  {
   "cell_type": "code",
   "execution_count": null,
   "metadata": {},
   "outputs": [],
   "source": [
    "fastANI -q /mnt/d/Lab/Phage/data/Phage_Bacteroides/HNL05.fasta -r /mnt/d/Lab/Phage/data/Phage_Bacteroides/DA47HF.fasta --visualize -o /mnt/d/Lab/Phage/results/fastANI/HNL05-DA47HF.out"
   ]
  },
  {
   "cell_type": "code",
   "execution_count": null,
   "metadata": {},
   "outputs": [],
   "source": [
    "Rscript visualize.R /mnt/d/Lab/Phage/data/Phage_Bacteroides/HNL05.fasta /mnt/d/Lab/Phage/data/Phage_Bacteroides/DA47HF.fasta HNL05-DA47HF.out.visual"
   ]
  }
 ],
 "metadata": {
  "kernelspec": {
   "display_name": "Bash",
   "language": "bash",
   "name": "bash"
  },
  "language_info": {
   "codemirror_mode": "shell",
   "file_extension": ".sh",
   "mimetype": "text/x-sh",
   "name": "bash"
  }
 },
 "nbformat": 4,
 "nbformat_minor": 4
}
