{
 "cells": [
  {
   "cell_type": "code",
   "execution_count": null,
   "metadata": {},
   "outputs": [],
   "source": []
  },
  {
   "cell_type": "code",
   "execution_count": null,
   "metadata": {},
   "outputs": [],
   "source": [
    "prokka --setupdb"
   ]
  },
  {
   "cell_type": "code",
   "execution_count": null,
   "metadata": {},
   "outputs": [],
   "source": [
    "prokka --listdb"
   ]
  },
  {
   "cell_type": "markdown",
   "metadata": {},
   "source": [
    "I've heard of virus anno tools: VAPID Vgas GATU VIGOR VIPr"
   ]
  },
  {
   "cell_type": "markdown",
   "metadata": {},
   "source": [
    "不能同时用"
   ]
  },
  {
   "cell_type": "code",
   "execution_count": null,
   "metadata": {},
   "outputs": [],
   "source": [
    "https://github.com/tseemann/prokka/issues/424"
   ]
  },
  {
   "cell_type": "code",
   "execution_count": null,
   "metadata": {},
   "outputs": [],
   "source": [
    "/home/junyuchen/Lab/Phage-SOP/Database/VOGDB/VOGDB.hmm"
   ]
  },
  {
   "cell_type": "code",
   "execution_count": null,
   "metadata": {},
   "outputs": [],
   "source": [
    "/home/junyuchen/Lab/Phage-SOP/Database/VOGDB/VOGDB_m.hmm"
   ]
  },
  {
   "cell_type": "code",
   "execution_count": null,
   "metadata": {},
   "outputs": [],
   "source": [
    "--proteins /home/junyuchen/Lab/Phage-SOP/Database/RefSeq/viral.gbk"
   ]
  },
  {
   "cell_type": "code",
   "execution_count": null,
   "metadata": {},
   "outputs": [],
   "source": [
    "--hmms /home/junyuchen/Lab/Phage-SOP/Database/VOGDB/VOGDB_m.hmm"
   ]
  },
  {
   "cell_type": "markdown",
   "metadata": {},
   "source": [
    "```shell\n",
    "prokka --kingdom Viruses --addgenes --prefix NODE_1_length_133922_cov_16.209985 --outdir /home/junyuchen/Lab/Phage-SOP/Out-test/CD11204_FDSW202399937-1r/NODE_1_length_133922_cov_16.209985 --force /home/junyuchen/Lab/Phage-SOP/Out-test/CD11204_FDSW202399937-1r/NODE_1_length_133922_cov_16.209985/NODE_1_length_133922_cov_16.209985.fasta\n",
    "```"
   ]
  },
  {
   "cell_type": "code",
   "execution_count": null,
   "metadata": {},
   "outputs": [],
   "source": [
    "prokka --addgenes --prefix NODE_1_length_62294_cov_7285.933884 --outdir /home/junyuchen/Lab/Phage-SOP/Out-test/BT_FDSW202399939-1r/NODE_1_length_62294_cov_7285.933884-1 --force /home/junyuchen/Lab/Phage-SOP/Out-test/BT_FDSW202399939-1r/NODE_1_length_62294_cov_7285.933884/NODE_1_length_62294_cov_7285.933884.fasta"
   ]
  },
  {
   "cell_type": "markdown",
   "metadata": {},
   "source": [
    "prokka --addgenes --prefix NODE_1_length_62294_cov_7285.933884 --hmms /home/junyuchen/Lab/Phage-SOP/Database/VOGDB/VOGDB.hmm --outdir /home/junyuchen/Lab/Phage-SOP/Out-test/BT_FDSW202399939-1r/NODE_1_length_62294_cov_7285.933884-2 --force /home/junyuchen/Lab/Phage-SOP/Out-test/BT_FDSW202399939-1r/NODE_1_length_62294_cov_7285.933884/NODE_1_length_62294_cov_7285.933884.fasta"
   ]
  },
  {
   "cell_type": "markdown",
   "metadata": {},
   "source": [
    "prokka --addgenes --prefix NODE_1_length_62294_cov_7285.933884 --proteins /home/junyuchen/Lab/Phage-SOP/Database/RefSeq/viral.gbk --outdir /home/junyuchen/Lab/Phage-SOP/Out-test/BT_FDSW202399939-1r/NODE_1_length_62294_cov_7285.933884-gbk --force /home/junyuchen/Lab/Phage-SOP/Out-test/BT_FDSW202399939-1r/NODE_1_length_62294_cov_7285.933884/NODE_1_length_62294_cov_7285.933884.fasta"
   ]
  },
  {
   "cell_type": "markdown",
   "metadata": {},
   "source": [
    "prokka --addgenes --prefix NODE_1_length_62294_cov_7285.933884 --hmms /home/junyuchen/Lab/Phage-SOP/Database/VOGDB/VOGDB_m.hmm --outdir /home/junyuchen/Lab/Phage-SOP/Out-test/BT_FDSW202399939-1r/NODE_1_length_62294_cov_7285.933884-hmm --force /home/junyuchen/Lab/Phage-SOP/Out-test/BT_FDSW202399939-1r/NODE_1_length_62294_cov_7285.933884/NODE_1_length_62294_cov_7285.933884.fasta"
   ]
  },
  {
   "cell_type": "markdown",
   "metadata": {},
   "source": [
    "```shell\n",
    "[20:13:24] Converting genbank '/home/junyuchen/Lab/Phage-SOP/Database/RefSeq/viral.gbk' into Prokka FASTA '/home/junyuchen/Lab/Phage-SOP/Out-test/BT_FDSW202399939-1r/NODE_1_length_62294_cov_7285.933884-gbk/proteins.faa'\n",
    "[20:13:24] Running: prokka-genbank_to_fasta_db --format genbank \\/home\\/junyuchen\\/Lab\\/Phage\\-SOP\\/Database\\/RefSeq\\/viral\\.gbk > \\/home\\/junyuchen\\/Lab\\/Phage\\-SOP\\/Out\\-test\\/BT_FDSW202399939\\-1r\\/NODE_1_length_62294_cov_7285\\.933884\\-gbk\\/proteins\\.faa 2> /dev/null\n",
    "[20:13:24] Could not run command: prokka-genbank_to_fasta_db --format genbank \\/home\\/junyuchen\\/Lab\\/Phage\\-SOP\\/Database\\/RefSeq\\/viral\\.gbk > \\/home\\/junyuchen\\/Lab\\/Phage\\-SOP\\/Out\\-test\\/BT_FDSW202399939\\-1r\\/NODE_1_length_62294_cov_7285\\.933884\\-gbk\\/proteins\\.faa 2> /dev/null\n",
    "```"
   ]
  },
  {
   "cell_type": "markdown",
   "metadata": {},
   "source": [
    "只支持DNA gbk not gp?"
   ]
  },
  {
   "cell_type": "markdown",
   "metadata": {},
   "source": [
    "https://ftp.ncbi.nlm.nih.gov/refseq/release/viral/"
   ]
  },
  {
   "cell_type": "code",
   "execution_count": null,
   "metadata": {},
   "outputs": [],
   "source": []
  },
  {
   "cell_type": "markdown",
   "metadata": {},
   "source": [
    "prokka --addgenes --prefix NODE_1_length_62294_cov_7285.933884 --proteins /home/junyuchen/Lab/Phage-SOP/Database/RefSeq/viral.genomic.gbk --outdir /home/junyuchen/Lab/Phage-SOP/Out-test/BT_FDSW202399939-1r/NODE_1_length_62294_cov_7285.933884-gbk --force /home/junyuchen/Lab/Phage-SOP/Out-test/BT_FDSW202399939-1r/NODE_1_length_62294_cov_7285.933884/NODE_1_length_62294_cov_7285.933884.fasta"
   ]
  },
  {
   "cell_type": "markdown",
   "metadata": {},
   "source": [
    "prokka --kingdom Viruses --addgenes --prefix NODE_1_length_62294_cov_7285.933884 --proteins /home/junyuchen/Lab/Phage-SOP/Database/RefSeq/viral.genomic.gbk --outdir /home/junyuchen/Lab/Phage-SOP/Out-test/BT_FDSW202399939-1r/NODE_1_length_62294_cov_7285.933884-gbk-kin --force /home/junyuchen/Lab/Phage-SOP/Out-test/BT_FDSW202399939-1r/NODE_1_length_62294_cov_7285.933884/NODE_1_length_62294_cov_7285.933884.fasta"
   ]
  },
  {
   "cell_type": "markdown",
   "metadata": {},
   "source": [
    "prokka --kingdom Viruses --addgenes --prefix NODE_1_length_62294_cov_7285.933884 --proteins /home/junyuchen/Lab/Phage-SOP/Database/RefSeq/viral.genomic.gbk --outdir /home/junyuchen/Lab/Phage-SOP/Out-test/BT_FDSW202399939-1r/NODE_1_length_62294_cov_7285.933884-gbk-kin --force /home/junyuchen/Lab/Phage-SOP/Out-test/BT_FDSW202399939-1r/NODE_1_length_62294_cov_7285.933884/NODE_1_length_62294_cov_7285.933884.fasta"
   ]
  },
  {
   "cell_type": "markdown",
   "metadata": {},
   "source": [
    "每次都要makedb 整合到默认db"
   ]
  },
  {
   "cell_type": "code",
   "execution_count": null,
   "metadata": {},
   "outputs": [],
   "source": []
  },
  {
   "cell_type": "markdown",
   "metadata": {},
   "source": [
    "prokka --kingdom Viruses --addgenes --prefix NODE_1_length_62294_cov_7285.933884 --proteins /home/junyuchen/Lab/Phage-SOP/Database/RefSeq/viral.genomic.gbk --hmms /home/junyuchen/Lab/Phage-SOP/Database/VOGDB/VOGDB_m.hmm --outdir /home/junyuchen/Lab/Phage-SOP/Out-test/BT_FDSW202399939-1r/NODE_1_length_62294_cov_7285.933884-gbk-hmm --force /home/junyuchen/Lab/Phage-SOP/Out-test/BT_FDSW202399939-1r/NODE_1_length_62294_cov_7285.933884/NODE_1_length_62294_cov_7285.933884.fasta"
   ]
  },
  {
   "cell_type": "markdown",
   "metadata": {},
   "source": [
    "prokka --addgenes --prefix NODE_1_length_62294_cov_7285.933884 --proteins /home/junyuchen/Lab/Phage-SOP/Database/RefSeq/viral.genomic.gbk --hmms /home/junyuchen/Lab/Phage-SOP/Database/VOGDB/VOGDB_m.hmm --outdir /home/junyuchen/Lab/Phage-SOP/Out-test/BT_FDSW202399939-1r/NODE_1_length_62294_cov_7285.933884-gbk-hmm-1 --force /home/junyuchen/Lab/Phage-SOP/Out-test/BT_FDSW202399939-1r/NODE_1_length_62294_cov_7285.933884/NODE_1_length_62294_cov_7285.933884.fasta"
   ]
  },
  {
   "cell_type": "markdown",
   "metadata": {},
   "source": [
    "那完整注释的对比 DIY注释的结果"
   ]
  },
  {
   "cell_type": "code",
   "execution_count": 2,
   "metadata": {},
   "outputs": [
    {
     "name": "stdout",
     "output_type": "stream",
     "text": [
      "3850\n"
     ]
    }
   ],
   "source": [
    "!grep \">\" /home/junyuchen/Biosoft/anaconda3/envs/phage/db/kingdom/Viruses/sprot | wc -l"
   ]
  },
  {
   "cell_type": "code",
   "execution_count": 3,
   "metadata": {},
   "outputs": [
    {
     "name": "stdout",
     "output_type": "stream",
     "text": [
      "160131\n"
     ]
    }
   ],
   "source": [
    "!grep \">\" /home/junyuchen/Lab/Phage-SOP/Out-test/BT_FDSW202399939-1r/NODE_1_length_62294_cov_7285.933884-gbk-hmm/proteins.faa | wc -l"
   ]
  },
  {
   "cell_type": "code",
   "execution_count": null,
   "metadata": {},
   "outputs": [],
   "source": [
    "!grep \">\" /home/malab/databases_of_malab/nr/nr | wc -l"
   ]
  }
 ],
 "metadata": {
  "kernelspec": {
   "display_name": "Python 3",
   "language": "python",
   "name": "python3"
  },
  "language_info": {
   "codemirror_mode": {
    "name": "ipython",
    "version": 3
   },
   "file_extension": ".py",
   "mimetype": "text/x-python",
   "name": "python",
   "nbconvert_exporter": "python",
   "pygments_lexer": "ipython3",
   "version": "3.7.6"
  }
 },
 "nbformat": 4,
 "nbformat_minor": 4
}
